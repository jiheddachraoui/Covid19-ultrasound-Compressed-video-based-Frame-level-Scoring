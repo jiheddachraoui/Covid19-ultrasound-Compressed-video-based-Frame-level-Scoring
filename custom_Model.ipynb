{
  "cells": [
    {
      "cell_type": "markdown",
      "metadata": {
        "id": "view-in-github",
        "colab_type": "text"
      },
      "source": [
        "<a href=\"https://colab.research.google.com/github/jiheddachraoui/Covid19-ultrasound-Compressed-video-based-Frame-level-Scoring/blob/main/custom_Model.ipynb\" target=\"_parent\"><img src=\"https://colab.research.google.com/assets/colab-badge.svg\" alt=\"Open In Colab\"/></a>"
      ]
    },
    {
      "cell_type": "markdown",
      "metadata": {
        "id": "OBkFwLNmwoqm"
      },
      "source": [
        "# Detecting Pneumonia using Convolutional Neural Network (CNN)\n"
      ]
    },
    {
      "cell_type": "markdown",
      "metadata": {
        "id": "Q58crfelwoqp"
      },
      "source": [
        "## Import The Required Libraries\n"
      ]
    },
    {
      "cell_type": "code",
      "execution_count": null,
      "metadata": {
        "colab": {
          "base_uri": "https://localhost:8080/"
        },
        "id": "diK6IXQ5woqp",
        "outputId": "9d6bf03d-5de9-4d75-c87d-7f227f7d7b19"
      },
      "outputs": [
        {
          "output_type": "stream",
          "name": "stdout",
          "text": [
            "Mounted at /content/gdrive\n"
          ]
        }
      ],
      "source": [
        "# basics\n",
        "import sys\n",
        "from google.colab import drive\n",
        "drive.mount('/content/gdrive')\n",
        "import numpy as np \n",
        "import matplotlib.pyplot as plt\n",
        "import pandas as pd\n",
        "import seaborn as sns\n",
        "from sklearn.metrics import classification_report, confusion_matrix\n",
        "from sklearn.metrics import roc_curve\n",
        "from sklearn.metrics import roc_auc_score\n",
        "from sklearn.metrics import auc\n",
        "\n",
        "import pickle \n",
        "''''\n",
        "import os\n",
        "os.environ['CUDA_VISIBLE_DEVICES'] = '0'\n",
        "os.environ[\"SM_FRAMEWORK\"] = \"tf.keras\"'''\n",
        "\n",
        "# Keras Libraries\n",
        "import keras\n",
        "import tensorflow as tf\n",
        "from keras import backend as K\n",
        "from keras import metrics\n",
        "from tensorflow.keras.utils import load_img, img_to_array\n",
        "\n",
        "from keras.regularizers import l2\n",
        "from keras.models import Sequential\n",
        "from keras.layers import Conv2D, MaxPooling2D, Flatten, Dense, Dropout, BatchNormalization, InputLayer, Activation\n",
        "from keras.utils import  load_img\n",
        "from keras.preprocessing.image import ImageDataGenerator\n",
        "from keras.metrics import AUC\n",
        "from keras.optimizers import Adam\n",
        "from keras.callbacks import EarlyStopping\n",
        "from sklearn.metrics import classification_report, confusion_matrix\n",
        "import keras.backend\n"
      ]
    },
    {
      "cell_type": "code",
      "execution_count": null,
      "metadata": {
        "id": "7TzoEES8woqr"
      },
      "outputs": [],
      "source": [
        "# Set a seed value\n",
        "seed_value= 42\n",
        "\n",
        "# 1. Set `PYTHONHASHSEED` environment variable at a fixed value\n",
        "import os\n",
        "os.environ['PYTHONHASHSEED']=str(seed_value)\n",
        "\n",
        "# 2. Set `python` built-in pseudo-random generator at a fixed value\n",
        "import random\n",
        "random.seed(seed_value)\n",
        "\n",
        "# 3. Set `numpy` pseudo-random generator at a fixed value\n",
        "np.random.seed(seed_value)\n",
        "\n",
        "# 4. Set `tensorflow` pseudo-random generator at a fixed value\n",
        "#tf.set_random_seed(seed_value)\n",
        "tf.random.set_seed(seed_value)\n",
        "# 5. For layers that introduce randomness like dropout, make sure to set seed values \n",
        "#model.add(Dropout(0.25, seed=seed_value))\n",
        "\n",
        "#6 Configure a new global `tensorflow` session\n",
        "\n",
        "session_conf = tf.compat.v1.ConfigProto(intra_op_parallelism_threads=1, inter_op_parallelism_threads=1)\n",
        "sess = tf.compat.v1.Session(graph=tf.compat.v1.get_default_graph(), config=session_conf)\n",
        "K.set_session(sess)"
      ]
    },
    {
      "cell_type": "code",
      "execution_count": null,
      "metadata": {
        "id": "nGN3G40Bwoqr"
      },
      "outputs": [],
      "source": [
        "project_path = r\"/content/gdrive/MyDrive/Dataset/grayscale_data/\"\n",
        "train_path = project_path + r\"train\"\n",
        "test_path = project_path + r\"test\"\n",
        "val_path = project_path + r\"valid\""
      ]
    },
    {
      "cell_type": "code",
      "execution_count": null,
      "metadata": {
        "id": "jCHh0dCmwoqs"
      },
      "outputs": [],
      "source": [
        "hyper_dimension = 224\n",
        "hyper_batch_size = 128\n",
        "hyper_epochs = 100\n",
        "hyper_feature_maps=32\n",
        "\n",
        "## Training in grayscale instead of RGB\n",
        "hyper_channels = 1\n",
        "hyper_mode = 'grayscale'"
      ]
    },
    {
      "cell_type": "code",
      "execution_count": null,
      "metadata": {
        "colab": {
          "base_uri": "https://localhost:8080/"
        },
        "id": "3MOHz2l-woqs",
        "outputId": "be3e4df9-c1d7-46f6-8a7f-94a1c481dbd1"
      },
      "outputs": [
        {
          "output_type": "stream",
          "name": "stdout",
          "text": [
            "Found 17519 images belonging to 4 classes.\n",
            "Found 7298 images belonging to 4 classes.\n",
            "Found 1073 images belonging to 4 classes.\n"
          ]
        }
      ],
      "source": [
        "train_datagen = ImageDataGenerator(rescale=1.0/255.0, \n",
        "                                   shear_range = 0.2,\n",
        "                                   zoom_range = 0.2, \n",
        "                                   horizontal_flip = True)\n",
        "val_datagen = ImageDataGenerator(rescale=1.0/255.0) \n",
        "test_datagen = ImageDataGenerator(rescale=1.0/255.0) \n",
        "\n",
        "\n",
        "train_generator = train_datagen.flow_from_directory(directory = train_path, \n",
        "                                                    target_size = (hyper_dimension, hyper_dimension),\n",
        "                                                    batch_size = hyper_batch_size, \n",
        "                                                    color_mode = hyper_mode,\n",
        "                                                    class_mode = 'categorical', \n",
        "                                                    seed = 42)\n",
        "val_generator = val_datagen.flow_from_directory(directory = val_path, \n",
        "                                                 target_size = (hyper_dimension, hyper_dimension),\n",
        "                                                 batch_size = hyper_batch_size, \n",
        "                                                 class_mode = 'categorical',\n",
        "                                                 color_mode = hyper_mode,\n",
        "                                                 shuffle=False,\n",
        "                                                 seed = 42)\n",
        "test_generator = test_datagen.flow_from_directory(directory = test_path, \n",
        "                                                 target_size = (hyper_dimension, hyper_dimension),\n",
        "                                                 batch_size = hyper_batch_size, \n",
        "                                                 class_mode = 'categorical',\n",
        "                                                 color_mode = hyper_mode,\n",
        "                                                 shuffle=False,\n",
        "                                                 seed = 42)\n",
        "\n",
        "test_generator.reset()"
      ]
    },
    {
      "cell_type": "markdown",
      "metadata": {
        "id": "YL1CoUkswoqt"
      },
      "source": [
        "## Top 3 Models\n"
      ]
    },
    {
      "cell_type": "markdown",
      "metadata": {
        "id": "rGnBqg-Rwoqt"
      },
      "source": [
        "We first created a function to create two charts that shows the progress of training the neural network.\n"
      ]
    },
    {
      "cell_type": "code",
      "execution_count": null,
      "metadata": {
        "id": "zMhdpj7zwoqu"
      },
      "outputs": [],
      "source": [
        "def create_charts(cnn, cnn_model):\n",
        "    ## Define train & validation loss\n",
        "    train_loss = cnn_model.history['loss']\n",
        "    val_loss = cnn_model.history['val_loss']\n",
        "    \n",
        "    ## Define train & validation AUC\n",
        "    train_auc_name = list(cnn_model.history.keys())[3]\n",
        "    val_auc_name = list(cnn_model.history.keys())[1]\n",
        "    train_auc = cnn_model.history[train_auc_name]\n",
        "    val_auc = cnn_model.history[val_auc_name]\n",
        "    \n",
        "    ## Define y_pred & y_true\n",
        "    y_true = test_generator.classes\n",
        "    Y_pred = cnn.predict(test_generator, steps = len(test_generator))\n",
        "    y_pred = (Y_pred > 0.5).T[0]\n",
        "    y_pred_prob = Y_pred.T[0]\n",
        "    \n",
        "    ## PLOT ##\n",
        "    fig = plt.figure(figsize=(13, 10))\n",
        "    \n",
        "    ## PLOT 1: TRAIN VS. VALIDATION LOSS \n",
        "    plt.subplot(2,2,1)\n",
        "    plt.title(\"Training vs. Validation Loss\")\n",
        "    plt.plot(train_loss, label='training loss')\n",
        "    plt.plot(val_loss, label='validation loss')\n",
        "    plt.xlabel(\"Number of Epochs\", size=14)\n",
        "    plt.legend()\n",
        "\n",
        "    ## PLOT 2: TRAIN VS. VALIDATION AUC\n",
        "    plt.subplot(2,2,2)\n",
        "    plt.title(\"Training vs. Validation AUC Score\")\n",
        "    plt.plot(train_auc, label='training auc')\n",
        "    plt.plot(val_auc, label='validation auc')\n",
        "    plt.xlabel(\"Number of Epochs\", size=14)\n",
        "    plt.legend()\n",
        "    \n",
        "    ## PLOT 3: CONFUSION MATRIX\n",
        "    plt.subplot(2,2,3)\n",
        "      # Set up the labels for in the confusion matrix\n",
        "    cm = confusion_matrix(y_true, y_pred)\n",
        "    names = ['True Negatives', 'False Positives', 'False Negatives', 'True Positives']\n",
        "    counts = ['{0:0.0f}'.format(value) for value in cm.flatten()]\n",
        "    percentages = ['{0:.2%}'.format(value) for value in cm.flatten()/np.sum(cm)]\n",
        "    labels = [f'{v1}\\n{v2}' for v1, v2 in zip(names, percentages)]\n",
        "    labels = np.asarray(labels).reshape(2,2)\n",
        "    ticklabels = ['Normal', 'Pneumonia']\n",
        "\n",
        "      # Create confusion matrix as heatmap\n",
        "    sns.set(font_scale = 1.4)\n",
        "    ax = sns.heatmap(cm, annot=labels, fmt='', cmap='Oranges', xticklabels=ticklabels, yticklabels=ticklabels )\n",
        "    plt.xticks(size=12)\n",
        "    plt.yticks(size=12)\n",
        "    plt.title(\"Confusion Matrix\") #plt.title(\"Confusion Matrix\\n\", fontsize=10)\n",
        "    plt.xlabel(\"Predicted\", size=14)\n",
        "    plt.ylabel(\"Actual\", size=14) \n",
        "    #plt.savefig('cm.png', transparent=True) \n",
        "    \n",
        "    ## PLOT 4: ROC CURVE\n",
        "    plt.subplot(2,2,4)\n",
        "    fpr, tpr, thresholds = roc_curve(y_true, y_pred_prob)\n",
        "    auc = roc_auc_score(y_true, y_pred_prob)\n",
        "    plt.title('ROC Curve')\n",
        "    plt.plot([0, 1], [0, 1], 'k--', label = \"Random (AUC = 50%)\")\n",
        "    plt.plot(fpr, tpr, label='CNN (AUC = {:.2f}%)'.format(auc*100))\n",
        "    plt.xlabel('False Positive Rate', size=14)\n",
        "    plt.ylabel('True Positive Rate', size=14)\n",
        "    plt.legend(loc='best')\n",
        "    #plt.savefig('roc.png', bbox_inches='tight', pad_inches=1)\n",
        "    \n",
        "    ## END PLOTS\n",
        "    plt.tight_layout();\n",
        "    \n",
        "    ## Summary Statistics\n",
        "    TN, FP, FN, TP = cm.ravel() # cm[0,0], cm[0, 1], cm[1, 0], cm[1, 1]\n",
        "    accuracy = (TP + TN) / np.sum(cm) # % positive out of all predicted positives\n",
        "    precision = TP / (TP+FP) # % positive out of all predicted positives\n",
        "    recall =  TP / (TP+FN) # % positive out of all supposed to be positives\n",
        "    specificity = TN / (TN+FP) # % negative out of all supposed to be negatives\n",
        "    f1 = 2*precision*recall / (precision + recall)\n",
        "    stats_summary = '[Summary Statistics]\\nAccuracy = {:.2%} | Precision = {:.2%} | Recall = {:.2%} | Specificity = {:.2%} | F1 Score = {:.2%}'.format(accuracy, precision, recall, specificity, f1)\n",
        "    print(stats_summary)"
      ]
    },
    {
      "cell_type": "code",
      "execution_count": null,
      "metadata": {
        "id": "5VZd6adBx03A"
      },
      "outputs": [],
      "source": [
        "early = tf.keras.callbacks.EarlyStopping( patience=10,\n",
        "                                          min_delta=0.001,\n",
        "                                          restore_best_weights=True)\n",
        "checkpoint=checkpoint = tf.keras.callbacks.ModelCheckpoint(\n",
        "    filepath=\"/content/gdrive/MyDrive/Dataset/output/checkpoints/my_model2_{epoch}.h5\",\n",
        "   save_best_only=True,\n",
        "    verbose=1\n",
        ")\n",
        "\n",
        "callbacks=[early,checkpoint]"
      ]
    },
    {
      "cell_type": "markdown",
      "metadata": {
        "id": "izUwYPMMwoqu"
      },
      "source": [
        "### Model #1: Conv2D x 3 + 64 dense units\n"
      ]
    },
    {
      "cell_type": "code",
      "execution_count": null,
      "metadata": {
        "colab": {
          "background_save": true,
          "base_uri": "https://localhost:8080/"
        },
        "id": "G6H6BgF4woqv",
        "scrolled": true,
        "outputId": "09c244d9-c110-46c7-c99a-934f3ceeb856"
      },
      "outputs": [
        {
          "name": "stdout",
          "output_type": "stream",
          "text": [
            "Epoch 1/100\n",
            "137/137 [==============================] - ETA: 0s - loss: 1.1340 - auc_4: 0.7612 \n",
            "Epoch 1: val_loss improved from inf to 1.57977, saving model to /content/gdrive/MyDrive/Dataset/output/checkpoints/my_model_1.h5\n",
            "137/137 [==============================] - 2935s 21s/step - loss: 1.1340 - auc_4: 0.7612 - val_loss: 1.5798 - val_auc_4: 0.5831\n",
            "Epoch 2/100\n",
            " 74/137 [===============>..............] - ETA: 8:56 - loss: 0.7403 - auc_4: 0.9079"
          ]
        }
      ],
      "source": [
        "cnn = Sequential()\n",
        "cnn.add(InputLayer(input_shape=(hyper_dimension, hyper_dimension, hyper_channels)))\n",
        "                                \n",
        "cnn.add(Conv2D(filters=32, kernel_size=3, activation='relu'))\n",
        "cnn.add(MaxPooling2D(pool_size=(2,2)))\n",
        "\n",
        "cnn.add(Conv2D(filters=32, kernel_size=3, activation='relu'))\n",
        "cnn.add(MaxPooling2D(pool_size=(2,2)))\n",
        "\n",
        "cnn.add(Conv2D(filters=32, kernel_size=3, activation='relu'))\n",
        "cnn.add(MaxPooling2D(pool_size=(2,2)))\n",
        "\n",
        "cnn.add(Flatten())\n",
        "\n",
        "cnn.add(Dense(activation='relu', units=64))\n",
        "cnn.add(Dense(activation='softmax', units=4))\n",
        "\n",
        "\n",
        "\n",
        "cnn.compile(optimizer= 'adam', loss='categorical_crossentropy', metrics=[AUC()])\n",
        "cnn_model1 = cnn.fit(train_generator, \n",
        "                              steps_per_epoch = len(train_generator), \n",
        "                              epochs = hyper_epochs, \n",
        "                              validation_data = val_generator,\n",
        "                              validation_steps = len(val_generator), \n",
        "                              callbacks=callbacks,\n",
        "                              verbose=1)\n",
        "cnn1=cnn\n"
      ]
    },
    {
      "cell_type": "code",
      "execution_count": null,
      "metadata": {
        "id": "k9WUQDwQwoqv"
      },
      "outputs": [],
      "source": [
        "#create_charts(cnn, cnn_model1)"
      ]
    },
    {
      "cell_type": "markdown",
      "metadata": {
        "id": "z6PtUQSPwoqv"
      },
      "source": [
        "### Model #2: Conv2D x 4 + 64 dense units\n"
      ]
    },
    {
      "cell_type": "code",
      "execution_count": null,
      "metadata": {
        "collapsed": true,
        "id": "7BWYmnQGwoqv"
      },
      "outputs": [],
      "source": [
        "cnn = Sequential()\n",
        "cnn.add(InputLayer(input_shape=(hyper_dimension, hyper_dimension, hyper_channels)))\n",
        "\n",
        "cnn.add(Conv2D(filters=32, kernel_size=3, activation='relu'))\n",
        "cnn.add(MaxPooling2D(pool_size=(2,2)))\n",
        "\n",
        "cnn.add(Conv2D(filters=32, kernel_size=3, activation='relu'))\n",
        "cnn.add(MaxPooling2D(pool_size=(2,2)))\n",
        "\n",
        "cnn.add(Conv2D(filters=32, kernel_size=3, activation='relu'))\n",
        "cnn.add(MaxPooling2D(pool_size=(2,2)))\n",
        "\n",
        "cnn.add(Conv2D(filters=32, kernel_size=3, activation='relu'))\n",
        "cnn.add(MaxPooling2D(pool_size=(2,2)))\n",
        "\n",
        "cnn.add(Flatten())\n",
        "\n",
        "cnn.add(Dense(activation='relu', units=64))\n",
        "cnn.add(Dropout(0.4))\n",
        "cnn.add(Dense(activation='softmax', units=4))\n",
        "\n",
        "cnn.compile(optimizer= 'adam', loss='categorical_crossentropy', metrics=[AUC()])\n",
        "cnn_model2 = cnn.fit(train_generator, \n",
        "                              steps_per_epoch = len(train_generator), \n",
        "                              epochs = hyper_epochs, \n",
        "                              validation_data = val_generator,\n",
        "                              callbacks=callbacks,\n",
        "                              validation_steps = len(val_generator))\n",
        "cnn2=cnn"
      ]
    },
    {
      "cell_type": "code",
      "execution_count": null,
      "metadata": {
        "id": "qAyKWgq_woqw"
      },
      "outputs": [],
      "source": [
        "#create_charts(cnn, cnn_model)"
      ]
    },
    {
      "cell_type": "markdown",
      "metadata": {
        "id": "o6nrsTM0woqw"
      },
      "source": [
        "### Model #3: Conv2D x 2 + 64 dense units\n"
      ]
    },
    {
      "cell_type": "code",
      "execution_count": null,
      "metadata": {
        "collapsed": true,
        "id": "07nKe_-1woqw"
      },
      "outputs": [],
      "source": [
        "cnn = Sequential()\n",
        "cnn.add(InputLayer(input_shape=(hyper_dimension, hyper_dimension, hyper_channels)))\n",
        "\n",
        "cnn.add(Conv2D(filters=32, kernel_size=3, activation='relu'))\n",
        "cnn.add(MaxPooling2D(pool_size=(2,2)))\n",
        "\n",
        "cnn.add(Conv2D(filters=32, kernel_size=3, activation='relu'))\n",
        "cnn.add(MaxPooling2D(pool_size=(2,2)))\n",
        "\n",
        "cnn.add(Flatten())\n",
        "\n",
        "cnn.add(Dense(activation='relu', units=64))\n",
        "cnn.add(Dense(activation='softmax', units=4))\n",
        "\n",
        "cnn.compile(optimizer= 'adam', loss='categorical_crossentropy', metrics=[AUC()])\n",
        "cnn_model3 = cnn.fit(train_generator, \n",
        "                              steps_per_epoch = len(train_generator), \n",
        "                              epochs = hyper_epochs, \n",
        "                              validation_data = val_generator,\n",
        "                              callbacks=callbacks,\n",
        "                              validation_steps = len(val_generator), \n",
        "                              verbose=1)\n",
        "cnn3=cnn"
      ]
    },
    {
      "cell_type": "code",
      "execution_count": null,
      "metadata": {
        "colab": {
          "background_save": true
        },
        "id": "uqmsg1eIwoqw"
      },
      "outputs": [],
      "source": [
        "#create_charts(cnn, cnn_model)"
      ]
    },
    {
      "cell_type": "markdown",
      "metadata": {
        "id": "_kU_FriGwoqx"
      },
      "source": [
        "### Model #4 (I): Conv2D x 3 + 128 dense units (100 epochs)\n"
      ]
    },
    {
      "cell_type": "code",
      "execution_count": null,
      "metadata": {
        "collapsed": true,
        "id": "WRs-lvNdwoqx"
      },
      "outputs": [],
      "source": [
        "# Conv2D x 3 + 128 dense units\n",
        "cnn = Sequential()\n",
        "cnn.add(InputLayer(input_shape=(hyper_dimension, hyper_dimension, hyper_channels)))\n",
        "\n",
        "cnn.add(Conv2D(filters=hyper_feature_maps, kernel_size=3, activation='relu'))\n",
        "cnn.add(MaxPooling2D(pool_size=(2,2)))\n",
        "\n",
        "cnn.add(Conv2D(filters=hyper_feature_maps, kernel_size=3, activation='relu'))\n",
        "cnn.add(MaxPooling2D(pool_size=(2,2)))\n",
        "\n",
        "cnn.add(Conv2D(filters=hyper_feature_maps, kernel_size=3, activation='relu'))\n",
        "cnn.add(MaxPooling2D(pool_size=(2,2)))\n",
        "\n",
        "cnn.add(Flatten())\n",
        "\n",
        "cnn.add(Dense(activation='relu', units=128))\n",
        "cnn.add(Dense(activation='softmax', units=4))\n",
        "\n",
        "cnn.compile(optimizer= 'adam', loss='categorical_crossentropy', metrics=[AUC()])\n",
        "cnn_model4 = cnn.fit(train_generator, \n",
        "                              steps_per_epoch = len(train_generator), \n",
        "                              epochs = hyper_epochs, \n",
        "                              validation_data = val_generator,\n",
        "                              callbacks=callbacks,\n",
        "                              validation_steps = len(val_generator), \n",
        "                              verbose=1)\n",
        "cnn4=cnn"
      ]
    },
    {
      "cell_type": "code",
      "execution_count": null,
      "metadata": {
        "id": "uVD7ltrrwoqx"
      },
      "outputs": [],
      "source": [
        "#create_charts(cnn, cnn_model)"
      ]
    },
    {
      "cell_type": "markdown",
      "metadata": {
        "id": "v8QifrJRwoqx"
      },
      "source": [
        "### Model #4 (II): Conv2D x 3 + 128 dense units (200 epochs)\n"
      ]
    },
    {
      "cell_type": "code",
      "execution_count": null,
      "metadata": {
        "collapsed": true,
        "id": "hX6XAzE5woqx",
        "colab": {
          "base_uri": "https://localhost:8080/"
        },
        "outputId": "13e588d3-a5f0-4d7f-f9ab-e5b65aaaf2f7"
      },
      "outputs": [
        {
          "output_type": "stream",
          "name": "stdout",
          "text": [
            "Epoch 1/100\n",
            "137/137 [==============================] - ETA: 0s - loss: 1.0962 - auc: 0.7800 \n",
            "Epoch 1: val_loss improved from inf to 1.61877, saving model to /content/gdrive/MyDrive/Dataset/output/checkpoints/my_model2_1.h5\n",
            "137/137 [==============================] - 3993s 28s/step - loss: 1.0962 - auc: 0.7800 - val_loss: 1.6188 - val_auc: 0.5901\n",
            "Epoch 2/100\n",
            "137/137 [==============================] - ETA: 0s - loss: 0.6094 - auc: 0.9376\n",
            "Epoch 2: val_loss did not improve from 1.61877\n",
            "137/137 [==============================] - 712s 5s/step - loss: 0.6094 - auc: 0.9376 - val_loss: 2.3371 - val_auc: 0.5682\n",
            "Epoch 3/100\n",
            "137/137 [==============================] - ETA: 0s - loss: 0.4416 - auc: 0.9661\n",
            "Epoch 3: val_loss did not improve from 1.61877\n",
            "137/137 [==============================] - 701s 5s/step - loss: 0.4416 - auc: 0.9661 - val_loss: 2.7948 - val_auc: 0.5363\n",
            "Epoch 4/100\n",
            "137/137 [==============================] - ETA: 0s - loss: 0.3702 - auc: 0.9759\n",
            "Epoch 4: val_loss did not improve from 1.61877\n",
            "137/137 [==============================] - 702s 5s/step - loss: 0.3702 - auc: 0.9759 - val_loss: 2.7354 - val_auc: 0.5064\n",
            "Epoch 5/100\n",
            "137/137 [==============================] - ETA: 0s - loss: 0.3259 - auc: 0.9813\n",
            "Epoch 5: val_loss did not improve from 1.61877\n",
            "137/137 [==============================] - 721s 5s/step - loss: 0.3259 - auc: 0.9813 - val_loss: 2.7074 - val_auc: 0.5217\n",
            "Epoch 6/100\n",
            "137/137 [==============================] - ETA: 0s - loss: 0.2976 - auc: 0.9843\n",
            "Epoch 6: val_loss did not improve from 1.61877\n",
            "137/137 [==============================] - 707s 5s/step - loss: 0.2976 - auc: 0.9843 - val_loss: 2.8186 - val_auc: 0.5546\n",
            "Epoch 7/100\n",
            "137/137 [==============================] - ETA: 0s - loss: 0.2798 - auc: 0.9861\n",
            "Epoch 7: val_loss did not improve from 1.61877\n",
            "137/137 [==============================] - 712s 5s/step - loss: 0.2798 - auc: 0.9861 - val_loss: 2.7963 - val_auc: 0.5247\n",
            "Epoch 8/100\n",
            "137/137 [==============================] - ETA: 0s - loss: 0.2675 - auc: 0.9872\n",
            "Epoch 8: val_loss did not improve from 1.61877\n",
            "137/137 [==============================] - 712s 5s/step - loss: 0.2675 - auc: 0.9872 - val_loss: 3.1519 - val_auc: 0.5036\n",
            "Epoch 9/100\n",
            "137/137 [==============================] - ETA: 0s - loss: 0.2586 - auc: 0.9880\n",
            "Epoch 9: val_loss did not improve from 1.61877\n",
            "137/137 [==============================] - 711s 5s/step - loss: 0.2586 - auc: 0.9880 - val_loss: 2.5755 - val_auc: 0.5572\n",
            "Epoch 10/100\n",
            "137/137 [==============================] - ETA: 0s - loss: 0.2436 - auc: 0.9891\n",
            "Epoch 10: val_loss did not improve from 1.61877\n",
            "137/137 [==============================] - 712s 5s/step - loss: 0.2436 - auc: 0.9891 - val_loss: 2.8754 - val_auc: 0.5519\n",
            "Epoch 11/100\n",
            "137/137 [==============================] - ETA: 0s - loss: 0.2336 - auc: 0.9901\n",
            "Epoch 11: val_loss did not improve from 1.61877\n",
            "137/137 [==============================] - 716s 5s/step - loss: 0.2336 - auc: 0.9901 - val_loss: 3.0823 - val_auc: 0.5410\n",
            "Epoch 12/100\n",
            "137/137 [==============================] - ETA: 0s - loss: 0.2283 - auc: 0.9904\n",
            "Epoch 12: val_loss did not improve from 1.61877\n",
            "137/137 [==============================] - 716s 5s/step - loss: 0.2283 - auc: 0.9904 - val_loss: 3.2538 - val_auc: 0.5447\n",
            "Epoch 13/100\n",
            "137/137 [==============================] - ETA: 0s - loss: 0.2184 - auc: 0.9913\n",
            "Epoch 13: val_loss did not improve from 1.61877\n",
            "137/137 [==============================] - 721s 5s/step - loss: 0.2184 - auc: 0.9913 - val_loss: 3.0202 - val_auc: 0.5613\n",
            "Epoch 14/100\n",
            "137/137 [==============================] - ETA: 0s - loss: 0.2149 - auc: 0.9915\n",
            "Epoch 14: val_loss did not improve from 1.61877\n",
            "137/137 [==============================] - 721s 5s/step - loss: 0.2149 - auc: 0.9915 - val_loss: 3.0932 - val_auc: 0.5347\n",
            "Epoch 15/100\n",
            "137/137 [==============================] - ETA: 0s - loss: 0.2071 - auc: 0.9920\n",
            "Epoch 15: val_loss did not improve from 1.61877\n",
            "137/137 [==============================] - 716s 5s/step - loss: 0.2071 - auc: 0.9920 - val_loss: 3.0098 - val_auc: 0.5547\n",
            "Epoch 16/100\n",
            "137/137 [==============================] - ETA: 0s - loss: 0.2011 - auc: 0.9925\n",
            "Epoch 16: val_loss did not improve from 1.61877\n",
            "137/137 [==============================] - 715s 5s/step - loss: 0.2011 - auc: 0.9925 - val_loss: 3.3522 - val_auc: 0.5233\n",
            "Epoch 17/100\n",
            "137/137 [==============================] - ETA: 0s - loss: 0.1956 - auc: 0.9928\n",
            "Epoch 17: val_loss did not improve from 1.61877\n",
            "137/137 [==============================] - 707s 5s/step - loss: 0.1956 - auc: 0.9928 - val_loss: 3.1531 - val_auc: 0.5787\n",
            "Epoch 18/100\n",
            "137/137 [==============================] - ETA: 0s - loss: 0.1891 - auc: 0.9933\n",
            "Epoch 18: val_loss did not improve from 1.61877\n",
            "137/137 [==============================] - 710s 5s/step - loss: 0.1891 - auc: 0.9933 - val_loss: 3.3728 - val_auc: 0.5159\n",
            "Epoch 19/100\n",
            "137/137 [==============================] - ETA: 0s - loss: 0.1904 - auc: 0.9930\n",
            "Epoch 19: val_loss did not improve from 1.61877\n",
            "137/137 [==============================] - 707s 5s/step - loss: 0.1904 - auc: 0.9930 - val_loss: 3.0970 - val_auc: 0.5360\n",
            "Epoch 20/100\n",
            "137/137 [==============================] - ETA: 0s - loss: 0.1815 - auc: 0.9938\n",
            "Epoch 20: val_loss did not improve from 1.61877\n",
            "137/137 [==============================] - 716s 5s/step - loss: 0.1815 - auc: 0.9938 - val_loss: 3.3684 - val_auc: 0.5400\n",
            "Epoch 21/100\n",
            "137/137 [==============================] - ETA: 0s - loss: 0.1814 - auc: 0.9937\n",
            "Epoch 21: val_loss did not improve from 1.61877\n",
            "137/137 [==============================] - 723s 5s/step - loss: 0.1814 - auc: 0.9937 - val_loss: 3.2334 - val_auc: 0.5429\n"
          ]
        }
      ],
      "source": [
        "cnn = Sequential()\n",
        "cnn.add(InputLayer(input_shape=(hyper_dimension, hyper_dimension, hyper_channels)))\n",
        "\n",
        "cnn.add(Conv2D(filters=hyper_feature_maps, kernel_size=3, activation='relu'))\n",
        "cnn.add(MaxPooling2D(pool_size=(2,2)))\n",
        "\n",
        "cnn.add(Conv2D(filters=hyper_feature_maps, kernel_size=3, activation='relu'))\n",
        "cnn.add(MaxPooling2D(pool_size=(2,2)))\n",
        "\n",
        "cnn.add(Conv2D(filters=hyper_feature_maps, kernel_size=3, activation='relu'))\n",
        "cnn.add(MaxPooling2D(pool_size=(2,2)))\n",
        "\n",
        "cnn.add(Flatten())\n",
        "\n",
        "cnn.add(Dense(activation='relu', units=128))\n",
        "cnn.add(Dense(activation='softmax', units=4))\n",
        "\n",
        "cnn.compile(optimizer= 'adam', loss='categorical_crossentropy', metrics=[AUC()])\n",
        "cnn_model41 = cnn.fit(train_generator, \n",
        "                              steps_per_epoch = len(train_generator), \n",
        "                              epochs = hyper_epochs, \n",
        "                              callbacks=callbacks,\n",
        "                              validation_data = val_generator,\n",
        "                              validation_steps = len(val_generator), \n",
        "                              verbose=1)\n",
        "cnn41=cnn"
      ]
    },
    {
      "cell_type": "code",
      "execution_count": null,
      "metadata": {
        "id": "Lk3OI1k6woqy",
        "colab": {
          "base_uri": "https://localhost:8080/",
          "height": 918
        },
        "outputId": "2b76ebdf-6087-4785-9eed-41d738528183"
      },
      "outputs": [
        {
          "output_type": "stream",
          "name": "stdout",
          "text": [
            "9/9 [==============================] - 264s 33s/step\n"
          ]
        },
        {
          "output_type": "error",
          "ename": "ValueError",
          "evalue": "ignored",
          "traceback": [
            "\u001b[0;31m---------------------------------------------------------------------------\u001b[0m",
            "\u001b[0;31mValueError\u001b[0m                                Traceback (most recent call last)",
            "\u001b[0;32m<ipython-input-10-4d356fc5917b>\u001b[0m in \u001b[0;36m<module>\u001b[0;34m\u001b[0m\n\u001b[0;32m----> 1\u001b[0;31m \u001b[0mcreate_charts\u001b[0m\u001b[0;34m(\u001b[0m\u001b[0mcnn41\u001b[0m\u001b[0;34m,\u001b[0m \u001b[0mcnn_model41\u001b[0m\u001b[0;34m)\u001b[0m\u001b[0;34m\u001b[0m\u001b[0;34m\u001b[0m\u001b[0m\n\u001b[0m",
            "\u001b[0;32m<ipython-input-7-ade9b4b7fce3>\u001b[0m in \u001b[0;36mcreate_charts\u001b[0;34m(cnn, cnn_model)\u001b[0m\n\u001b[1;32m     48\u001b[0m       \u001b[0;31m# Create confusion matrix as heatmap\u001b[0m\u001b[0;34m\u001b[0m\u001b[0;34m\u001b[0m\u001b[0;34m\u001b[0m\u001b[0m\n\u001b[1;32m     49\u001b[0m     \u001b[0msns\u001b[0m\u001b[0;34m.\u001b[0m\u001b[0mset\u001b[0m\u001b[0;34m(\u001b[0m\u001b[0mfont_scale\u001b[0m \u001b[0;34m=\u001b[0m \u001b[0;36m1.4\u001b[0m\u001b[0;34m)\u001b[0m\u001b[0;34m\u001b[0m\u001b[0;34m\u001b[0m\u001b[0m\n\u001b[0;32m---> 50\u001b[0;31m     \u001b[0max\u001b[0m \u001b[0;34m=\u001b[0m \u001b[0msns\u001b[0m\u001b[0;34m.\u001b[0m\u001b[0mheatmap\u001b[0m\u001b[0;34m(\u001b[0m\u001b[0mcm\u001b[0m\u001b[0;34m,\u001b[0m \u001b[0mannot\u001b[0m\u001b[0;34m=\u001b[0m\u001b[0mlabels\u001b[0m\u001b[0;34m,\u001b[0m \u001b[0mfmt\u001b[0m\u001b[0;34m=\u001b[0m\u001b[0;34m''\u001b[0m\u001b[0;34m,\u001b[0m \u001b[0mcmap\u001b[0m\u001b[0;34m=\u001b[0m\u001b[0;34m'Oranges'\u001b[0m\u001b[0;34m,\u001b[0m \u001b[0mxticklabels\u001b[0m\u001b[0;34m=\u001b[0m\u001b[0mticklabels\u001b[0m\u001b[0;34m,\u001b[0m \u001b[0myticklabels\u001b[0m\u001b[0;34m=\u001b[0m\u001b[0mticklabels\u001b[0m \u001b[0;34m)\u001b[0m\u001b[0;34m\u001b[0m\u001b[0;34m\u001b[0m\u001b[0m\n\u001b[0m\u001b[1;32m     51\u001b[0m     \u001b[0mplt\u001b[0m\u001b[0;34m.\u001b[0m\u001b[0mxticks\u001b[0m\u001b[0;34m(\u001b[0m\u001b[0msize\u001b[0m\u001b[0;34m=\u001b[0m\u001b[0;36m12\u001b[0m\u001b[0;34m)\u001b[0m\u001b[0;34m\u001b[0m\u001b[0;34m\u001b[0m\u001b[0m\n\u001b[1;32m     52\u001b[0m     \u001b[0mplt\u001b[0m\u001b[0;34m.\u001b[0m\u001b[0myticks\u001b[0m\u001b[0;34m(\u001b[0m\u001b[0msize\u001b[0m\u001b[0;34m=\u001b[0m\u001b[0;36m12\u001b[0m\u001b[0;34m)\u001b[0m\u001b[0;34m\u001b[0m\u001b[0;34m\u001b[0m\u001b[0m\n",
            "\u001b[0;32m/usr/local/lib/python3.8/dist-packages/seaborn/_decorators.py\u001b[0m in \u001b[0;36minner_f\u001b[0;34m(*args, **kwargs)\u001b[0m\n\u001b[1;32m     44\u001b[0m             )\n\u001b[1;32m     45\u001b[0m         \u001b[0mkwargs\u001b[0m\u001b[0;34m.\u001b[0m\u001b[0mupdate\u001b[0m\u001b[0;34m(\u001b[0m\u001b[0;34m{\u001b[0m\u001b[0mk\u001b[0m\u001b[0;34m:\u001b[0m \u001b[0marg\u001b[0m \u001b[0;32mfor\u001b[0m \u001b[0mk\u001b[0m\u001b[0;34m,\u001b[0m \u001b[0marg\u001b[0m \u001b[0;32min\u001b[0m \u001b[0mzip\u001b[0m\u001b[0;34m(\u001b[0m\u001b[0msig\u001b[0m\u001b[0;34m.\u001b[0m\u001b[0mparameters\u001b[0m\u001b[0;34m,\u001b[0m \u001b[0margs\u001b[0m\u001b[0;34m)\u001b[0m\u001b[0;34m}\u001b[0m\u001b[0;34m)\u001b[0m\u001b[0;34m\u001b[0m\u001b[0;34m\u001b[0m\u001b[0m\n\u001b[0;32m---> 46\u001b[0;31m         \u001b[0;32mreturn\u001b[0m \u001b[0mf\u001b[0m\u001b[0;34m(\u001b[0m\u001b[0;34m**\u001b[0m\u001b[0mkwargs\u001b[0m\u001b[0;34m)\u001b[0m\u001b[0;34m\u001b[0m\u001b[0;34m\u001b[0m\u001b[0m\n\u001b[0m\u001b[1;32m     47\u001b[0m     \u001b[0;32mreturn\u001b[0m \u001b[0minner_f\u001b[0m\u001b[0;34m\u001b[0m\u001b[0;34m\u001b[0m\u001b[0m\n\u001b[1;32m     48\u001b[0m \u001b[0;34m\u001b[0m\u001b[0m\n",
            "\u001b[0;32m/usr/local/lib/python3.8/dist-packages/seaborn/matrix.py\u001b[0m in \u001b[0;36mheatmap\u001b[0;34m(data, vmin, vmax, cmap, center, robust, annot, fmt, annot_kws, linewidths, linecolor, cbar, cbar_kws, cbar_ax, square, xticklabels, yticklabels, mask, ax, **kwargs)\u001b[0m\n\u001b[1;32m    538\u001b[0m     \"\"\"\n\u001b[1;32m    539\u001b[0m     \u001b[0;31m# Initialize the plotter object\u001b[0m\u001b[0;34m\u001b[0m\u001b[0;34m\u001b[0m\u001b[0;34m\u001b[0m\u001b[0m\n\u001b[0;32m--> 540\u001b[0;31m     plotter = _HeatMapper(data, vmin, vmax, cmap, center, robust, annot, fmt,\n\u001b[0m\u001b[1;32m    541\u001b[0m                           \u001b[0mannot_kws\u001b[0m\u001b[0;34m,\u001b[0m \u001b[0mcbar\u001b[0m\u001b[0;34m,\u001b[0m \u001b[0mcbar_kws\u001b[0m\u001b[0;34m,\u001b[0m \u001b[0mxticklabels\u001b[0m\u001b[0;34m,\u001b[0m\u001b[0;34m\u001b[0m\u001b[0;34m\u001b[0m\u001b[0m\n\u001b[1;32m    542\u001b[0m                           yticklabels, mask)\n",
            "\u001b[0;32m/usr/local/lib/python3.8/dist-packages/seaborn/matrix.py\u001b[0m in \u001b[0;36m__init__\u001b[0;34m(self, data, vmin, vmax, cmap, center, robust, annot, fmt, annot_kws, cbar, cbar_kws, xticklabels, yticklabels, mask)\u001b[0m\n\u001b[1;32m    171\u001b[0m                 \u001b[0;32mif\u001b[0m \u001b[0mannot_data\u001b[0m\u001b[0;34m.\u001b[0m\u001b[0mshape\u001b[0m \u001b[0;34m!=\u001b[0m \u001b[0mplot_data\u001b[0m\u001b[0;34m.\u001b[0m\u001b[0mshape\u001b[0m\u001b[0;34m:\u001b[0m\u001b[0;34m\u001b[0m\u001b[0;34m\u001b[0m\u001b[0m\n\u001b[1;32m    172\u001b[0m                     \u001b[0merr\u001b[0m \u001b[0;34m=\u001b[0m \u001b[0;34m\"`data` and `annot` must have same shape.\"\u001b[0m\u001b[0;34m\u001b[0m\u001b[0;34m\u001b[0m\u001b[0m\n\u001b[0;32m--> 173\u001b[0;31m                     \u001b[0;32mraise\u001b[0m \u001b[0mValueError\u001b[0m\u001b[0;34m(\u001b[0m\u001b[0merr\u001b[0m\u001b[0;34m)\u001b[0m\u001b[0;34m\u001b[0m\u001b[0;34m\u001b[0m\u001b[0m\n\u001b[0m\u001b[1;32m    174\u001b[0m             \u001b[0mannot\u001b[0m \u001b[0;34m=\u001b[0m \u001b[0;32mTrue\u001b[0m\u001b[0;34m\u001b[0m\u001b[0;34m\u001b[0m\u001b[0m\n\u001b[1;32m    175\u001b[0m \u001b[0;34m\u001b[0m\u001b[0m\n",
            "\u001b[0;31mValueError\u001b[0m: `data` and `annot` must have same shape."
          ]
        },
        {
          "output_type": "display_data",
          "data": {
            "text/plain": [
              "<Figure size 936x720 with 3 Axes>"
            ],
            "image/png": "[encoded data removed]"
          },
          "metadata": {
            "needs_background": "light"
          }
        }
      ],
      "source": [
        "create_charts(cnn41, cnn_model41)"
      ]
    },
    {
      "cell_type": "markdown",
      "metadata": {
        "id": "W6XfvuoCwoqy"
      },
      "source": [
        "### Model #5\n"
      ]
    },
    {
      "cell_type": "code",
      "execution_count": null,
      "metadata": {
        "id": "ip0JeX18woqy"
      },
      "outputs": [],
      "source": [
        "## batch size: 64 Conv2D (filter: 32, 64, 128)  x 3 + different dense units + Batch Normalization\n",
        "cnn = Sequential()\n",
        "cnn.add(InputLayer(input_shape=(hyper_dimension, hyper_dimension, hyper_channels)))\n",
        "\n",
        "cnn.add(Conv2D(filters=32, kernel_size=3))\n",
        "cnn.add(MaxPooling2D(pool_size=(2,2)))\n",
        "\n",
        "cnn.add(Conv2D(filters=64, kernel_size=3))\n",
        "cnn.add(MaxPooling2D(pool_size=(2,2)))\n",
        "\n",
        "cnn.add(Conv2D(filters=128, kernel_size=3))\n",
        "cnn.add(MaxPooling2D(pool_size=(2,2)))\n",
        "\n",
        "cnn.add(Flatten())\n",
        "\n",
        "cnn.add(BatchNormalization())\n",
        "cnn.add(Dense(activation='relu', units=1024))\n",
        "cnn.add(Dense(activation='relu', units=512))\n",
        "cnn.add(Dense(activation='softmax', units=4))\n",
        "\n",
        "cnn.compile(optimizer= 'adam', loss='categorical_crossentropy', metrics=[AUC()])\n",
        "cnn_model5 = cnn.fit(train_generator, \n",
        "                              steps_per_epoch = len(train_generator), \n",
        "                              epochs = hyper_epochs, \n",
        "                              validation_data = val_generator,\n",
        "                              validation_steps = len(val_generator),\n",
        "                              callbacks=callbacks, \n",
        "                              verbose=1)"
      ]
    },
    {
      "cell_type": "code",
      "execution_count": null,
      "metadata": {
        "id": "ukcOHG4-woqy"
      },
      "outputs": [],
      "source": [
        "#create_charts(cnn, cnn_model)"
      ]
    },
    {
      "cell_type": "markdown",
      "metadata": {
        "id": "rnunBKTDwoqy"
      },
      "source": [
        "### Model #6\n"
      ]
    },
    {
      "cell_type": "code",
      "execution_count": null,
      "metadata": {
        "collapsed": true,
        "id": "-Fg-3LqDwoqy",
        "colab": {
          "base_uri": "https://localhost:8080/",
          "height": 554
        },
        "outputId": "1bad28cb-90c0-408f-b4ef-834e47ee66f5"
      },
      "outputs": [
        {
          "output_type": "stream",
          "name": "stdout",
          "text": [
            "Epoch 1/100\n",
            "137/137 [==============================] - ETA: 0s - loss: 1.1837 - auc: 0.7723 \n",
            "Epoch 1: val_loss improved from inf to 1.39885, saving model to /content/gdrive/MyDrive/Dataset/output/checkpoints/my_model2_1.h5\n",
            "137/137 [==============================] - 5344s 38s/step - loss: 1.1837 - auc: 0.7723 - val_loss: 1.3988 - val_auc: 0.4816\n",
            "Epoch 2/100\n",
            "137/137 [==============================] - ETA: 0s - loss: 0.6633 - auc: 0.9260 \n",
            "Epoch 2: val_loss did not improve from 1.39885\n",
            "137/137 [==============================] - 2767s 20s/step - loss: 0.6633 - auc: 0.9260 - val_loss: 1.4060 - val_auc: 0.4611\n",
            "Epoch 3/100\n",
            " 65/137 [=============>................] - ETA: 21:55 - loss: 0.4960 - auc: 0.9580"
          ]
        },
        {
          "output_type": "error",
          "ename": "KeyboardInterrupt",
          "evalue": "ignored",
          "traceback": [
            "\u001b[0;31m---------------------------------------------------------------------------\u001b[0m",
            "\u001b[0;31mKeyboardInterrupt\u001b[0m                         Traceback (most recent call last)",
            "\u001b[0;32m<ipython-input-8-464d28645f94>\u001b[0m in \u001b[0;36m<module>\u001b[0;34m\u001b[0m\n\u001b[1;32m     28\u001b[0m \u001b[0;34m\u001b[0m\u001b[0m\n\u001b[1;32m     29\u001b[0m \u001b[0mcnn\u001b[0m\u001b[0;34m.\u001b[0m\u001b[0mcompile\u001b[0m\u001b[0;34m(\u001b[0m\u001b[0moptimizer\u001b[0m\u001b[0;34m=\u001b[0m \u001b[0;34m'adam'\u001b[0m\u001b[0;34m,\u001b[0m \u001b[0mloss\u001b[0m\u001b[0;34m=\u001b[0m\u001b[0;34m'categorical_crossentropy'\u001b[0m\u001b[0;34m,\u001b[0m \u001b[0mmetrics\u001b[0m\u001b[0;34m=\u001b[0m\u001b[0;34m[\u001b[0m\u001b[0mAUC\u001b[0m\u001b[0;34m(\u001b[0m\u001b[0;34m)\u001b[0m\u001b[0;34m]\u001b[0m\u001b[0;34m)\u001b[0m\u001b[0;34m\u001b[0m\u001b[0;34m\u001b[0m\u001b[0m\n\u001b[0;32m---> 30\u001b[0;31m cnn_model6 = cnn.fit(train_generator, \n\u001b[0m\u001b[1;32m     31\u001b[0m                               \u001b[0msteps_per_epoch\u001b[0m \u001b[0;34m=\u001b[0m \u001b[0mlen\u001b[0m\u001b[0;34m(\u001b[0m\u001b[0mtrain_generator\u001b[0m\u001b[0;34m)\u001b[0m\u001b[0;34m,\u001b[0m\u001b[0;34m\u001b[0m\u001b[0;34m\u001b[0m\u001b[0m\n\u001b[1;32m     32\u001b[0m                               \u001b[0mepochs\u001b[0m \u001b[0;34m=\u001b[0m \u001b[0mhyper_epochs\u001b[0m\u001b[0;34m,\u001b[0m\u001b[0;34m\u001b[0m\u001b[0;34m\u001b[0m\u001b[0m\n",
            "\u001b[0;32m/usr/local/lib/python3.8/dist-packages/keras/utils/traceback_utils.py\u001b[0m in \u001b[0;36merror_handler\u001b[0;34m(*args, **kwargs)\u001b[0m\n\u001b[1;32m     62\u001b[0m     \u001b[0mfiltered_tb\u001b[0m \u001b[0;34m=\u001b[0m \u001b[0;32mNone\u001b[0m\u001b[0;34m\u001b[0m\u001b[0;34m\u001b[0m\u001b[0m\n\u001b[1;32m     63\u001b[0m     \u001b[0;32mtry\u001b[0m\u001b[0;34m:\u001b[0m\u001b[0;34m\u001b[0m\u001b[0;34m\u001b[0m\u001b[0m\n\u001b[0;32m---> 64\u001b[0;31m       \u001b[0;32mreturn\u001b[0m \u001b[0mfn\u001b[0m\u001b[0;34m(\u001b[0m\u001b[0;34m*\u001b[0m\u001b[0margs\u001b[0m\u001b[0;34m,\u001b[0m \u001b[0;34m**\u001b[0m\u001b[0mkwargs\u001b[0m\u001b[0;34m)\u001b[0m\u001b[0;34m\u001b[0m\u001b[0;34m\u001b[0m\u001b[0m\n\u001b[0m\u001b[1;32m     65\u001b[0m     \u001b[0;32mexcept\u001b[0m \u001b[0mException\u001b[0m \u001b[0;32mas\u001b[0m \u001b[0me\u001b[0m\u001b[0;34m:\u001b[0m  \u001b[0;31m# pylint: disable=broad-except\u001b[0m\u001b[0;34m\u001b[0m\u001b[0;34m\u001b[0m\u001b[0m\n\u001b[1;32m     66\u001b[0m       \u001b[0mfiltered_tb\u001b[0m \u001b[0;34m=\u001b[0m \u001b[0m_process_traceback_frames\u001b[0m\u001b[0;34m(\u001b[0m\u001b[0me\u001b[0m\u001b[0;34m.\u001b[0m\u001b[0m__traceback__\u001b[0m\u001b[0;34m)\u001b[0m\u001b[0;34m\u001b[0m\u001b[0;34m\u001b[0m\u001b[0m\n",
            "\u001b[0;32m/usr/local/lib/python3.8/dist-packages/keras/engine/training.py\u001b[0m in \u001b[0;36mfit\u001b[0;34m(self, x, y, batch_size, epochs, verbose, callbacks, validation_split, validation_data, shuffle, class_weight, sample_weight, initial_epoch, steps_per_epoch, validation_steps, validation_batch_size, validation_freq, max_queue_size, workers, use_multiprocessing)\u001b[0m\n\u001b[1;32m   1407\u001b[0m                 _r=1):\n\u001b[1;32m   1408\u001b[0m               \u001b[0mcallbacks\u001b[0m\u001b[0;34m.\u001b[0m\u001b[0mon_train_batch_begin\u001b[0m\u001b[0;34m(\u001b[0m\u001b[0mstep\u001b[0m\u001b[0;34m)\u001b[0m\u001b[0;34m\u001b[0m\u001b[0;34m\u001b[0m\u001b[0m\n\u001b[0;32m-> 1409\u001b[0;31m               \u001b[0mtmp_logs\u001b[0m \u001b[0;34m=\u001b[0m \u001b[0mself\u001b[0m\u001b[0;34m.\u001b[0m\u001b[0mtrain_function\u001b[0m\u001b[0;34m(\u001b[0m\u001b[0miterator\u001b[0m\u001b[0;34m)\u001b[0m\u001b[0;34m\u001b[0m\u001b[0;34m\u001b[0m\u001b[0m\n\u001b[0m\u001b[1;32m   1410\u001b[0m               \u001b[0;32mif\u001b[0m \u001b[0mdata_handler\u001b[0m\u001b[0;34m.\u001b[0m\u001b[0mshould_sync\u001b[0m\u001b[0;34m:\u001b[0m\u001b[0;34m\u001b[0m\u001b[0;34m\u001b[0m\u001b[0m\n\u001b[1;32m   1411\u001b[0m                 \u001b[0mcontext\u001b[0m\u001b[0;34m.\u001b[0m\u001b[0masync_wait\u001b[0m\u001b[0;34m(\u001b[0m\u001b[0;34m)\u001b[0m\u001b[0;34m\u001b[0m\u001b[0;34m\u001b[0m\u001b[0m\n",
            "\u001b[0;32m/usr/local/lib/python3.8/dist-packages/tensorflow/python/util/traceback_utils.py\u001b[0m in \u001b[0;36merror_handler\u001b[0;34m(*args, **kwargs)\u001b[0m\n\u001b[1;32m    148\u001b[0m     \u001b[0mfiltered_tb\u001b[0m \u001b[0;34m=\u001b[0m \u001b[0;32mNone\u001b[0m\u001b[0;34m\u001b[0m\u001b[0;34m\u001b[0m\u001b[0m\n\u001b[1;32m    149\u001b[0m     \u001b[0;32mtry\u001b[0m\u001b[0;34m:\u001b[0m\u001b[0;34m\u001b[0m\u001b[0;34m\u001b[0m\u001b[0m\n\u001b[0;32m--> 150\u001b[0;31m       \u001b[0;32mreturn\u001b[0m \u001b[0mfn\u001b[0m\u001b[0;34m(\u001b[0m\u001b[0;34m*\u001b[0m\u001b[0margs\u001b[0m\u001b[0;34m,\u001b[0m \u001b[0;34m**\u001b[0m\u001b[0mkwargs\u001b[0m\u001b[0;34m)\u001b[0m\u001b[0;34m\u001b[0m\u001b[0;34m\u001b[0m\u001b[0m\n\u001b[0m\u001b[1;32m    151\u001b[0m     \u001b[0;32mexcept\u001b[0m \u001b[0mException\u001b[0m \u001b[0;32mas\u001b[0m \u001b[0me\u001b[0m\u001b[0;34m:\u001b[0m\u001b[0;34m\u001b[0m\u001b[0;34m\u001b[0m\u001b[0m\n\u001b[1;32m    152\u001b[0m       \u001b[0mfiltered_tb\u001b[0m \u001b[0;34m=\u001b[0m \u001b[0m_process_traceback_frames\u001b[0m\u001b[0;34m(\u001b[0m\u001b[0me\u001b[0m\u001b[0;34m.\u001b[0m\u001b[0m__traceback__\u001b[0m\u001b[0;34m)\u001b[0m\u001b[0;34m\u001b[0m\u001b[0;34m\u001b[0m\u001b[0m\n",
            "\u001b[0;32m/usr/local/lib/python3.8/dist-packages/tensorflow/python/eager/def_function.py\u001b[0m in \u001b[0;36m__call__\u001b[0;34m(self, *args, **kwds)\u001b[0m\n\u001b[1;32m    913\u001b[0m \u001b[0;34m\u001b[0m\u001b[0m\n\u001b[1;32m    914\u001b[0m       \u001b[0;32mwith\u001b[0m \u001b[0mOptionalXlaContext\u001b[0m\u001b[0;34m(\u001b[0m\u001b[0mself\u001b[0m\u001b[0;34m.\u001b[0m\u001b[0m_jit_compile\u001b[0m\u001b[0;34m)\u001b[0m\u001b[0;34m:\u001b[0m\u001b[0;34m\u001b[0m\u001b[0;34m\u001b[0m\u001b[0m\n\u001b[0;32m--> 915\u001b[0;31m         \u001b[0mresult\u001b[0m \u001b[0;34m=\u001b[0m \u001b[0mself\u001b[0m\u001b[0;34m.\u001b[0m\u001b[0m_call\u001b[0m\u001b[0;34m(\u001b[0m\u001b[0;34m*\u001b[0m\u001b[0margs\u001b[0m\u001b[0;34m,\u001b[0m \u001b[0;34m**\u001b[0m\u001b[0mkwds\u001b[0m\u001b[0;34m)\u001b[0m\u001b[0;34m\u001b[0m\u001b[0;34m\u001b[0m\u001b[0m\n\u001b[0m\u001b[1;32m    916\u001b[0m \u001b[0;34m\u001b[0m\u001b[0m\n\u001b[1;32m    917\u001b[0m       \u001b[0mnew_tracing_count\u001b[0m \u001b[0;34m=\u001b[0m \u001b[0mself\u001b[0m\u001b[0;34m.\u001b[0m\u001b[0mexperimental_get_tracing_count\u001b[0m\u001b[0;34m(\u001b[0m\u001b[0;34m)\u001b[0m\u001b[0;34m\u001b[0m\u001b[0;34m\u001b[0m\u001b[0m\n",
            "\u001b[0;32m/usr/local/lib/python3.8/dist-packages/tensorflow/python/eager/def_function.py\u001b[0m in \u001b[0;36m_call\u001b[0;34m(self, *args, **kwds)\u001b[0m\n\u001b[1;32m    945\u001b[0m       \u001b[0;31m# In this case we have created variables on the first call, so we run the\u001b[0m\u001b[0;34m\u001b[0m\u001b[0;34m\u001b[0m\u001b[0;34m\u001b[0m\u001b[0m\n\u001b[1;32m    946\u001b[0m       \u001b[0;31m# defunned version which is guaranteed to never create variables.\u001b[0m\u001b[0;34m\u001b[0m\u001b[0;34m\u001b[0m\u001b[0;34m\u001b[0m\u001b[0m\n\u001b[0;32m--> 947\u001b[0;31m       \u001b[0;32mreturn\u001b[0m \u001b[0mself\u001b[0m\u001b[0;34m.\u001b[0m\u001b[0m_stateless_fn\u001b[0m\u001b[0;34m(\u001b[0m\u001b[0;34m*\u001b[0m\u001b[0margs\u001b[0m\u001b[0;34m,\u001b[0m \u001b[0;34m**\u001b[0m\u001b[0mkwds\u001b[0m\u001b[0;34m)\u001b[0m  \u001b[0;31m# pylint: disable=not-callable\u001b[0m\u001b[0;34m\u001b[0m\u001b[0;34m\u001b[0m\u001b[0m\n\u001b[0m\u001b[1;32m    948\u001b[0m     \u001b[0;32melif\u001b[0m \u001b[0mself\u001b[0m\u001b[0;34m.\u001b[0m\u001b[0m_stateful_fn\u001b[0m \u001b[0;32mis\u001b[0m \u001b[0;32mnot\u001b[0m \u001b[0;32mNone\u001b[0m\u001b[0;34m:\u001b[0m\u001b[0;34m\u001b[0m\u001b[0;34m\u001b[0m\u001b[0m\n\u001b[1;32m    949\u001b[0m       \u001b[0;31m# Release the lock early so that multiple threads can perform the call\u001b[0m\u001b[0;34m\u001b[0m\u001b[0;34m\u001b[0m\u001b[0;34m\u001b[0m\u001b[0m\n",
            "\u001b[0;32m/usr/local/lib/python3.8/dist-packages/tensorflow/python/eager/function.py\u001b[0m in \u001b[0;36m__call__\u001b[0;34m(self, *args, **kwargs)\u001b[0m\n\u001b[1;32m   2451\u001b[0m       (graph_function,\n\u001b[1;32m   2452\u001b[0m        filtered_flat_args) = self._maybe_define_function(args, kwargs)\n\u001b[0;32m-> 2453\u001b[0;31m     return graph_function._call_flat(\n\u001b[0m\u001b[1;32m   2454\u001b[0m         filtered_flat_args, captured_inputs=graph_function.captured_inputs)  # pylint: disable=protected-access\n\u001b[1;32m   2455\u001b[0m \u001b[0;34m\u001b[0m\u001b[0m\n",
            "\u001b[0;32m/usr/local/lib/python3.8/dist-packages/tensorflow/python/eager/function.py\u001b[0m in \u001b[0;36m_call_flat\u001b[0;34m(self, args, captured_inputs, cancellation_manager)\u001b[0m\n\u001b[1;32m   1858\u001b[0m         and executing_eagerly):\n\u001b[1;32m   1859\u001b[0m       \u001b[0;31m# No tape is watching; skip to running the function.\u001b[0m\u001b[0;34m\u001b[0m\u001b[0;34m\u001b[0m\u001b[0;34m\u001b[0m\u001b[0m\n\u001b[0;32m-> 1860\u001b[0;31m       return self._build_call_outputs(self._inference_function.call(\n\u001b[0m\u001b[1;32m   1861\u001b[0m           ctx, args, cancellation_manager=cancellation_manager))\n\u001b[1;32m   1862\u001b[0m     forward_backward = self._select_forward_and_backward_functions(\n",
            "\u001b[0;32m/usr/local/lib/python3.8/dist-packages/tensorflow/python/eager/function.py\u001b[0m in \u001b[0;36mcall\u001b[0;34m(self, ctx, args, cancellation_manager)\u001b[0m\n\u001b[1;32m    495\u001b[0m       \u001b[0;32mwith\u001b[0m \u001b[0m_InterpolateFunctionError\u001b[0m\u001b[0;34m(\u001b[0m\u001b[0mself\u001b[0m\u001b[0;34m)\u001b[0m\u001b[0;34m:\u001b[0m\u001b[0;34m\u001b[0m\u001b[0;34m\u001b[0m\u001b[0m\n\u001b[1;32m    496\u001b[0m         \u001b[0;32mif\u001b[0m \u001b[0mcancellation_manager\u001b[0m \u001b[0;32mis\u001b[0m \u001b[0;32mNone\u001b[0m\u001b[0;34m:\u001b[0m\u001b[0;34m\u001b[0m\u001b[0;34m\u001b[0m\u001b[0m\n\u001b[0;32m--> 497\u001b[0;31m           outputs = execute.execute(\n\u001b[0m\u001b[1;32m    498\u001b[0m               \u001b[0mstr\u001b[0m\u001b[0;34m(\u001b[0m\u001b[0mself\u001b[0m\u001b[0;34m.\u001b[0m\u001b[0msignature\u001b[0m\u001b[0;34m.\u001b[0m\u001b[0mname\u001b[0m\u001b[0;34m)\u001b[0m\u001b[0;34m,\u001b[0m\u001b[0;34m\u001b[0m\u001b[0;34m\u001b[0m\u001b[0m\n\u001b[1;32m    499\u001b[0m               \u001b[0mnum_outputs\u001b[0m\u001b[0;34m=\u001b[0m\u001b[0mself\u001b[0m\u001b[0;34m.\u001b[0m\u001b[0m_num_outputs\u001b[0m\u001b[0;34m,\u001b[0m\u001b[0;34m\u001b[0m\u001b[0;34m\u001b[0m\u001b[0m\n",
            "\u001b[0;32m/usr/local/lib/python3.8/dist-packages/tensorflow/python/eager/execute.py\u001b[0m in \u001b[0;36mquick_execute\u001b[0;34m(op_name, num_outputs, inputs, attrs, ctx, name)\u001b[0m\n\u001b[1;32m     52\u001b[0m   \u001b[0;32mtry\u001b[0m\u001b[0;34m:\u001b[0m\u001b[0;34m\u001b[0m\u001b[0;34m\u001b[0m\u001b[0m\n\u001b[1;32m     53\u001b[0m     \u001b[0mctx\u001b[0m\u001b[0;34m.\u001b[0m\u001b[0mensure_initialized\u001b[0m\u001b[0;34m(\u001b[0m\u001b[0;34m)\u001b[0m\u001b[0;34m\u001b[0m\u001b[0;34m\u001b[0m\u001b[0m\n\u001b[0;32m---> 54\u001b[0;31m     tensors = pywrap_tfe.TFE_Py_Execute(ctx._handle, device_name, op_name,\n\u001b[0m\u001b[1;32m     55\u001b[0m                                         inputs, attrs, num_outputs)\n\u001b[1;32m     56\u001b[0m   \u001b[0;32mexcept\u001b[0m \u001b[0mcore\u001b[0m\u001b[0;34m.\u001b[0m\u001b[0m_NotOkStatusException\u001b[0m \u001b[0;32mas\u001b[0m \u001b[0me\u001b[0m\u001b[0;34m:\u001b[0m\u001b[0;34m\u001b[0m\u001b[0;34m\u001b[0m\u001b[0m\n",
            "\u001b[0;31mKeyboardInterrupt\u001b[0m: "
          ]
        }
      ],
      "source": [
        "## Conv2D (filter: 32, 64, 128)  x 3 + different dense units + Batch Normalization + Dropout Dense layer\n",
        "cnn = Sequential()\n",
        "cnn.add(InputLayer(input_shape=(hyper_dimension, hyper_dimension, hyper_channels)))\n",
        "\n",
        "cnn.add(Conv2D(filters=32, kernel_size=3, activation='elu'))\n",
        "cnn.add(MaxPooling2D(pool_size=(2,2)))\n",
        "cnn.add(Activation('relu'))\n",
        "cnn.add(Dropout(0.25))\n",
        "\n",
        "cnn.add(Conv2D(filters=64, kernel_size=3, activation='elu'))\n",
        "cnn.add(MaxPooling2D(pool_size=(2,2)))\n",
        "cnn.add(Activation('relu'))\n",
        "cnn.add(Dropout(0.3))\n",
        "\n",
        "cnn.add(Conv2D(filters=128, kernel_size=3, activation='elu'))\n",
        "cnn.add(MaxPooling2D(pool_size=(2,2)))\n",
        "cnn.add(Activation('relu'))\n",
        "cnn.add(Dropout(0.3))\n",
        "\n",
        "cnn.add(Flatten())\n",
        "\n",
        "cnn.add(BatchNormalization())\n",
        "cnn.add(Dense(activation='relu', units=512))\n",
        "cnn.add(Dropout(0.25))\n",
        "cnn.add(Dense(activation='relu', units=256))\n",
        "cnn.add(Dropout(0.25))\n",
        "cnn.add(Dense(activation='softmax', units=4))\n",
        "\n",
        "cnn.compile(optimizer= 'adam', loss='categorical_crossentropy', metrics=[AUC()])\n",
        "cnn_model6 = cnn.fit(train_generator, \n",
        "                              steps_per_epoch = len(train_generator), \n",
        "                              epochs = hyper_epochs, \n",
        "                              validation_data = val_generator,\n",
        "                              validation_steps = len(val_generator), \n",
        "                              callbacks=callbacks,\n",
        "                              verbose=1)\n",
        "cnn6=cnn"
      ]
    },
    {
      "cell_type": "code",
      "execution_count": null,
      "metadata": {
        "id": "kPbyfN3Swoqz"
      },
      "outputs": [],
      "source": [
        "#create_charts(cnn, cnn_model)"
      ]
    }
  ],
  "metadata": {
    "accelerator": "GPU",
    "colab": {
      "provenance": [],
      "include_colab_link": true
    },
    "gpuClass": "standard",
    "kernelspec": {
      "display_name": "Python 3",
      "language": "python",
      "name": "python3"
    },
    "language_info": {
      "codemirror_mode": {
        "name": "ipython",
        "version": 3
      },
      "file_extension": ".py",
      "mimetype": "text/x-python",
      "name": "python",
      "nbconvert_exporter": "python",
      "pygments_lexer": "ipython3",
      "version": "3.10.9 (tags/v3.10.9:1dd9be6, Dec  6 2022, 20:01:21) [MSC v.1934 64 bit (AMD64)]"
    },
    "vscode": {
      "interpreter": {
        "hash": "180a8cf1fc48fa92a53c2d4bd1ff24d9f8e77dd7507839b4c169d20814ecdb3b"
      }
    }
  },
  "nbformat": 4,
  "nbformat_minor": 0
}