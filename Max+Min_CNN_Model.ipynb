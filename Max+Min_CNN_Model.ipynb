{
  "cells": [
    {
      "cell_type": "markdown",
      "metadata": {
        "id": "view-in-github",
        "colab_type": "text"
      },
      "source": [
        "<a href=\"https://colab.research.google.com/github/jiheddachraoui/Covid19-ultrasound-video-scoring/blob/main/Max%2BMin_CNN_Model.ipynb\" target=\"_parent\"><img src=\"https://colab.research.google.com/assets/colab-badge.svg\" alt=\"Open In Colab\"/></a>"
      ]
    },
    {
      "cell_type": "markdown",
      "metadata": {
        "id": "UfuqyGdp0cM7"
      },
      "source": [
        "# scoring using Convolutional Neural Network (CNN)"
      ]
    },
    {
      "cell_type": "markdown",
      "metadata": {
        "id": "exCuSrEN0cM7"
      },
      "source": [
        "## Import The Required Libraries"
      ]
    },
    {
      "cell_type": "code",
      "execution_count": null,
      "metadata": {
        "colab": {
          "base_uri": "https://localhost:8080/"
        },
        "id": "7IU3as4W0cM7",
        "outputId": "222e3520-e975-4e8c-b5aa-ad9f2fbacdea"
      },
      "outputs": [
        {
          "output_type": "stream",
          "name": "stdout",
          "text": [
            "Drive already mounted at /content/gdrive; to attempt to forcibly remount, call drive.mount(\"/content/gdrive\", force_remount=True).\n"
          ]
        }
      ],
      "source": [
        "# basics\n",
        "import sys\n",
        "from google.colab import drive\n",
        "drive.mount('/content/gdrive')\n",
        "import numpy as np \n",
        "import matplotlib.pyplot as plt\n",
        "import pandas as pd\n",
        "import seaborn as sns\n",
        "from sklearn.metrics import classification_report, confusion_matrix\n",
        "from sklearn.metrics import roc_curve\n",
        "from sklearn.metrics import roc_auc_score\n",
        "from sklearn.metrics import auc\n",
        "import cv2\n",
        "import pickle \n",
        "\n",
        "import shutil\n",
        "# Keras Libraries\n",
        "import keras\n",
        "import tensorflow as tf\n",
        "from keras import backend as K\n",
        "from keras import metrics\n",
        "from tensorflow.keras.utils import load_img, img_to_array\n",
        "from keras.callbacks import ModelCheckpoint, EarlyStopping, TensorBoard, ReduceLROnPlateau\n",
        "from keras.regularizers import l2\n",
        "from keras.models import Sequential\n",
        "from keras.layers import Conv2D, MaxPooling2D, Flatten, Dense, Dropout, BatchNormalization, InputLayer, Activation\n",
        "from keras.utils import  load_img\n",
        "from keras.preprocessing.image import ImageDataGenerator\n",
        "from keras.metrics import AUC\n",
        "from keras.optimizers import Adam\n",
        "from keras.callbacks import EarlyStopping\n",
        "from sklearn.metrics import classification_report, confusion_matrix\n",
        "import keras.backend\n",
        "import os\n",
        "import random\n",
        "import time\n",
        "import datetime\n",
        "from tensorflow.python.framework import ops\n",
        "import inspect\n",
        "import gc"
      ]
    },
    {
      "cell_type": "markdown",
      "metadata": {
        "id": "-txyLjSbeifK"
      },
      "source": [
        "## utility functions"
      ]
    },
    {
      "cell_type": "code",
      "execution_count": null,
      "metadata": {
        "id": "RI2-jctMeP0-"
      },
      "outputs": [],
      "source": [
        "# print date and time for given type of representation\n",
        "def date_time(x):\n",
        "    if x==1:\n",
        "        return 'Timestamp: {:%Y-%m-%d %H:%M:%S}'.format(datetime.datetime.now())\n",
        "    if x==2:    \n",
        "        return 'Timestamp: {:%Y-%b-%d %H:%M:%S}'.format(datetime.datetime.now())\n",
        "    if x==3:  \n",
        "        return 'Date now: %s' % datetime.datetime.now()\n",
        "    if x==4:  \n",
        "        return 'Date today: %s' % datetime.date.today() "
      ]
    },
    {
      "cell_type": "code",
      "execution_count": null,
      "metadata": {
        "id": "eshN2RCXepJg"
      },
      "outputs": [],
      "source": [
        "# reset tensorflow graph tp free up memory and resource allocation \n",
        "def reset_graph(model=None):\n",
        "    if model:\n",
        "        try:\n",
        "            del model\n",
        "        except:\n",
        "            return False\n",
        "    \n",
        "   \n",
        "    ops.reset_default_graph()\n",
        "    K.clear_session()\n",
        "    \n",
        "    gc.collect()\n",
        "    \n",
        "    return True\n",
        "\n",
        "\n",
        "# reset callbacks \n",
        "def reset_callbacks(checkpoint=None, reduce_lr=None, early_stopping=None, tensorboard=None):\n",
        "    checkpoint = None\n",
        "    reduce_lr = None\n",
        "    early_stopping = None\n",
        "    tensorboard = None"
      ]
    },
    {
      "cell_type": "code",
      "execution_count": null,
      "metadata": {
        "id": "bQMObDy_hqRZ"
      },
      "outputs": [],
      "source": [
        "def create_directory(directory_path, remove=False):\n",
        "    if remove and os.path.exists(directory_path):\n",
        "        try:\n",
        "            shutil.rmtree(directory_path)\n",
        "            os.mkdir(directory_path)\n",
        "        except:\n",
        "            print(\"Could not remove directory : \", directory_path)\n",
        "            return False\n",
        "    else:\n",
        "        try:\n",
        "            os.mkdir(directory_path)\n",
        "        except:\n",
        "            print(\"Could not create directory: \", directory_path)\n",
        "            return False\n",
        "        \n",
        "    return True\n",
        "\n",
        "# Removes directory, if directory exists \n",
        "def remove_directory(directory_path):\n",
        "    if os.path.exists(directory_path):\n",
        "        try:\n",
        "            shutil.rmtree(directory_path)\n",
        "        except:\n",
        "            print(\"Could not remove directory : \", directory_path)\n",
        "            return False\n",
        "        \n",
        "    return True\n",
        "\n",
        "def clear_directory(directory_path):\n",
        "    dirs_files = os.listdir(directory_path)\n",
        "    \n",
        "    for item in dirs_files:\n",
        "#         item_path = os.path.join(directory_path, item)\n",
        "        item_path = directory_path+ item\n",
        "        \n",
        "        try:\n",
        "            if os.path.isfile(item_path):\n",
        "                os.unlink(item_path)\n",
        "            elif os.path.isdir(item_path): \n",
        "                shutil.rmtree(item_path)\n",
        "        except Exception as e:\n",
        "            print(e)\n",
        "            \n",
        "    return True\n",
        "\n",
        "\n",
        "def remove_empty_folders(path, removeRoot=True):\n",
        "    if not os.path.isdir(path):\n",
        "        return\n",
        "    \n",
        "    # remove empty subfolders\n",
        "    files = os.listdir(path)\n",
        "    \n",
        "    if len(files):\n",
        "        for f in files:\n",
        "            fullpath = os.path.join(path, f)\n",
        "            \n",
        "            if os.path.isdir(fullpath):\n",
        "                remove_empty_folders(fullpath)\n",
        "\n",
        "    # if folder empty, delete it\n",
        "    files = os.listdir(path)\n",
        "    \n",
        "    if len(files) == 0 and removeRoot:\n",
        "        print(\"Removing empty folder:\", path)\n",
        "        os.rmdir(path)\n",
        "        \n",
        "        \n",
        "def dir_file_count(directory):\n",
        "    return sum([len(files) for r, d, files in os.walk(directory)])"
      ]
    },
    {
      "cell_type": "markdown",
      "metadata": {
        "id": "ZrRD9ORterTQ"
      },
      "source": [
        "## code\n"
      ]
    },
    {
      "cell_type": "code",
      "execution_count": null,
      "metadata": {
        "colab": {
          "base_uri": "https://localhost:8080/"
        },
        "id": "044vnlVP0cM8",
        "outputId": "da12a873-be83-481f-d591-27b150193890"
      },
      "outputs": [
        {
          "output_type": "stream",
          "name": "stdout",
          "text": [
            "Removing empty folder: /content/gdrive/MyDrive/Dataset/output/models/2022-12-01 15-04-12\n"
          ]
        }
      ],
      "source": [
        "batch_size = 4\n",
        "\n",
        "input_directory = \"/content/gdrive/MyDrive/Dataset/data2/\"\n",
        "output_directory = \"/content/gdrive/MyDrive/Dataset/output/\"\n",
        "\n",
        "train_path = input_directory + r\"train\"\n",
        "val_path = input_directory + r\"valid\"\n",
        "test_path = input_directory + r\"test\"\n",
        "\n",
        "figure_directory = \"output/figures\" \n",
        "file_name_pred_batch = figure_directory+r\"/result\"\n",
        "file_name_pred_sample = figure_directory+r\"/sample\"\n",
        "\n",
        "main_model_dir = output_directory + r\"models/\"\n",
        "main_log_dir = output_directory + r\"logs/\"\n",
        "\n",
        "\n",
        "clear_directory(main_log_dir)\n",
        "remove_empty_folders(main_model_dir, False)\n",
        "\n",
        "\n",
        "model_dir = main_model_dir + time.strftime('%Y-%m-%d %H-%M-%S') + \"/\"\n",
        "log_dir = main_log_dir + time.strftime('%Y-%m-%d %H-%M-%S')\n",
        "\n",
        "create_directory(model_dir, remove=True)\n",
        "create_directory(log_dir, remove=True)\n",
        "\n",
        "model_file = model_dir + \"{epoch:02d}-val_acc-{val_acc:.2f}-val_loss-{val_loss:.2f}.hdf5\"\n"
      ]
    },
    {
      "cell_type": "code",
      "execution_count": null,
      "metadata": {
        "id": "Q9I5nUSRexqB"
      },
      "outputs": [],
      "source": [
        "reset_graph()\n",
        "reset_callbacks()"
      ]
    },
    {
      "cell_type": "markdown",
      "metadata": {
        "id": "UTu9IeSrhOzl"
      },
      "source": [
        "### callbacks"
      ]
    },
    {
      "cell_type": "code",
      "execution_count": null,
      "metadata": {
        "colab": {
          "base_uri": "https://localhost:8080/"
        },
        "id": "Gq6EluX-fYKo",
        "outputId": "9cbb1197-9e1c-496d-96bd-74ae483d2dd0"
      },
      "outputs": [
        {
          "output_type": "stream",
          "name": "stderr",
          "text": [
            "WARNING:tensorflow:`batch_size` is no longer needed in the `TensorBoard` Callback and will be ignored in TensorFlow 2.0.\n"
          ]
        },
        {
          "output_type": "stream",
          "name": "stdout",
          "text": [
            "Settting Callbacks at  Timestamp: 2022-12-01 15:14:14\n",
            "Set Callbacks at  Timestamp: 2022-12-01 15:14:14\n"
          ]
        }
      ],
      "source": [
        "print(\"Settting Callbacks at \", date_time(1))\n",
        "\n",
        "checkpoint = ModelCheckpoint(\n",
        "    model_file, \n",
        "    monitor='val_acc', \n",
        "    save_best_only=True)\n",
        "\n",
        "early_stopping = EarlyStopping(\n",
        "    monitor='val_loss',\n",
        "    patience=5,\n",
        "    verbose=1,\n",
        "    restore_best_weights=True)\n",
        "\n",
        "\n",
        "tensorboard = TensorBoard(\n",
        "    log_dir=log_dir,\n",
        "    batch_size=batch_size,\n",
        "    update_freq = 'batch')\n",
        "\n",
        "\n",
        "reduce_lr = ReduceLROnPlateau(\n",
        "    monitor='val_loss',\n",
        "    patience=5,\n",
        "    cooldown=2,\n",
        "    min_lr=0.0000000001,\n",
        "    verbose=1)\n",
        "\n",
        "\n",
        "#-----------------------------------------------------------------------------------------------------------------#\n",
        "callbacks = [checkpoint, reduce_lr, early_stopping, tensorboard]\n",
        "# callbacks = [checkpoint, tensorboard]\n",
        "#-----------------------------------------------------------------------------------------------------------------#\n",
        "print(\"Set Callbacks at \", date_time(1))"
      ]
    },
    {
      "cell_type": "markdown",
      "metadata": {
        "id": "zzhneEFRlzUM"
      },
      "source": [
        "### preprosessing"
      ]
    },
    {
      "cell_type": "code",
      "execution_count": null,
      "metadata": {
        "id": "FMFmruAz0cM7"
      },
      "outputs": [],
      "source": [
        "# Set a seed value\n",
        "seed_value= 42\n",
        "\n",
        "# 1. Set `PYTHONHASHSEED` environment variable at a fixed value\n",
        "\n",
        "os.environ['PYTHONHASHSEED']=str(seed_value)\n",
        "\n",
        "# 2. Set `python` built-in pseudo-random generator at a fixed value\n",
        "\n",
        "random.seed(seed_value)\n",
        "\n",
        "# 3. Set `numpy` pseudo-random generator at a fixed value\n",
        "np.random.seed(seed_value)\n",
        "\n",
        "# 4. Set `tensorflow` pseudo-random generator at a fixed value\n",
        "#tf.set_random_seed(seed_value)\n",
        "tf.random.set_seed(seed_value)\n",
        "# 5. For layers that introduce randomness like dropout, make sure to set seed values \n",
        "#model.add(Dropout(0.25, seed=seed_value))\n",
        "\n",
        "#6 Configure a new global `tensorflow` session\n",
        "\n",
        "session_conf = tf.compat.v1.ConfigProto(intra_op_parallelism_threads=1, inter_op_parallelism_threads=1)\n",
        "sess = tf.compat.v1.Session(graph=tf.compat.v1.get_default_graph(), config=session_conf)\n",
        "K.set_session(sess)"
      ]
    },
    {
      "cell_type": "code",
      "execution_count": null,
      "metadata": {
        "id": "pUJRKGr70cM8"
      },
      "outputs": [],
      "source": [
        "hyper_dimension = 331\n",
        "\n",
        "hyper_epochs = 100\n",
        "\n",
        "## Training in grayscale instead of RGB\n",
        "hyper_channels = 1\n",
        "#hyper_mode = 'grayscale'\n",
        "#imagesize=(688, 1760, 3)"
      ]
    },
    {
      "cell_type": "code",
      "execution_count": null,
      "metadata": {
        "colab": {
          "base_uri": "https://localhost:8080/"
        },
        "id": "mEmQB-Lg0cM8",
        "outputId": "6e16fe1e-1465-441e-86c9-2a2be7780812"
      },
      "outputs": [
        {
          "output_type": "stream",
          "name": "stdout",
          "text": [
            "Found 151 images belonging to 4 classes.\n",
            "Found 69 images belonging to 4 classes.\n",
            "Found 26 images belonging to 4 classes.\n"
          ]
        }
      ],
      "source": [
        "train_datagen = ImageDataGenerator(rescale=1.0/255.0, \n",
        "                                   shear_range = 0.02,\n",
        "                                   zoom_range = 0.02, \n",
        "                                   horizontal_flip = False)\n",
        "val_datagen = ImageDataGenerator(rescale=1.0/255.0) \n",
        "test_datagen = ImageDataGenerator(rescale=1.0/255.0) \n",
        "\n",
        "\n",
        "train_generator = train_datagen.flow_from_directory(directory = train_path, \n",
        "                                                    color_mode=\"rgb\",\n",
        "                                                    target_size = (688, 1760), # image height , image width\n",
        "                                                    class_mode=\"categorical\",\n",
        "                                                    batch_size=batch_size,\n",
        "                                                    shuffle=True,\n",
        "                                                    seed=42)\n",
        "val_generator = val_datagen.flow_from_directory(directory = val_path, \n",
        "                                                 color_mode=\"rgb\",\n",
        "                                                    target_size = (688, 1760), # image height , image width\n",
        "                                                    class_mode=\"categorical\",\n",
        "                                                    batch_size=batch_size,\n",
        "                                                    shuffle=True,\n",
        "                                                    seed=42)\n",
        "test_generator = test_datagen.flow_from_directory(directory = test_path, \n",
        "                                                 color_mode=\"rgb\",\n",
        "                                                    target_size = (688, 1760), # image height , image width\n",
        "                                                    class_mode=\"categorical\",\n",
        "                                                    batch_size=batch_size,\n",
        "                                                    shuffle=True,\n",
        "                                                    seed=42)\n",
        "\n",
        "test_generator.reset()"
      ]
    },
    {
      "cell_type": "code",
      "execution_count": null,
      "metadata": {
        "colab": {
          "base_uri": "https://localhost:8080/"
        },
        "id": "fgfidq8346qn",
        "outputId": "5a69a491-b897-4592-ac55-e154bc55b2dd"
      },
      "outputs": [
        {
          "output_type": "execute_result",
          "data": {
            "text/plain": [
              "(4, 688, 1760, 3)"
            ]
          },
          "metadata": {},
          "execution_count": 76
        }
      ],
      "source": [
        "x,y = next(train_generator)\n",
        "x.shape"
      ]
    },
    {
      "cell_type": "code",
      "execution_count": null,
      "metadata": {
        "colab": {
          "base_uri": "https://localhost:8080/",
          "height": 103
        },
        "id": "OX8NyzKs5Zlo",
        "outputId": "67bb2836-8dc2-47cc-f171-9b2dac332738"
      },
      "outputs": [
        {
          "output_type": "display_data",
          "data": {
            "text/plain": [
              "<Figure size 1080x720 with 4 Axes>"
            ],
            "image/png": "[encoded data removed]"
          },
          "metadata": {
            "needs_background": "light"
          }
        }
      ],
      "source": [
        "a = train_generator.class_indices\n",
        "class_names = list(a.keys())  # storing class/breed names in a list\n",
        " \n",
        " \n",
        "def plot_images(img, labels):\n",
        "    plt.figure(figsize=[15, 10])\n",
        "    for i in range(batch_size):\n",
        "        plt.subplot(5, 5, i+1)\n",
        "        plt.imshow(img[i])\n",
        "        plt.title(class_names[np.argmax(labels[i])])\n",
        "        plt.axis('off')\n",
        " \n",
        "plot_images(x,y)"
      ]
    },
    {
      "cell_type": "markdown",
      "metadata": {
        "id": "AgR0YAgrktB1"
      },
      "source": [
        "## Model"
      ]
    },
    {
      "cell_type": "code",
      "execution_count": null,
      "metadata": {
        "id": "lGxNPT3951lM"
      },
      "outputs": [],
      "source": [
        "# load the InceptionResNetV2 architecture with imagenet weights as base\n",
        "base_model = tf.keras.applications.resnet.ResNet50(\n",
        "                     include_top=False,\n",
        "                     weights='imagenet',\n",
        "                     input_shape=(688, 1760,3),\n",
        "                     pooling='avg',\n",
        "                     classes=4\n",
        "                     )\n",
        " \n",
        "base_model.trainable=True\n",
        "for layer in base_model.layers:\n",
        "        layer.trainable=True\n",
        "# For freezing the layer we make use of layer.trainable = False\n",
        "# means that its internal state will not change during training.\n",
        "# model's trainable weights will not be updated during fit(),\n",
        "# and also its state updates will not run.\n",
        " \n",
        "model = tf.keras.Sequential([\n",
        "        base_model,  \n",
        "        tf.keras.layers.Flatten(),\n",
        "        #tf.keras.layers.BatchNormalization(renorm=True),\n",
        "        #tf.keras.layers.GlobalAveragePooling2D(),\n",
        "        #tf.keras.layers.Dense(1000, activation='relu'),\n",
        "        #tf.keras.layers.Dense(512, activation='relu'),\n",
        "        #tf.keras.layers.Dense(256, activation='relu'),\n",
        "        \n",
        "        #tf.keras.layers.Dense(128, activation='relu'),\n",
        "        #tf.keras.layers.Dense(120, activation='relu'),\n",
        "        #tf.keras.layers.Dense(60, activation='relu'),\n",
        "        #tf.keras.layers.Dropout(0.4),\n",
        "        tf.keras.layers.Dense(512, activation='relu'),\n",
        "        tf.keras.layers.Dense(4, activation='softmax')\n",
        "    ])"
      ]
    },
    {
      "cell_type": "code",
      "execution_count": null,
      "metadata": {
        "id": "3VEG_F4G597a"
      },
      "outputs": [],
      "source": [
        "model.compile(optimizer='Adam',loss='categorical_crossentropy',metrics=['accuracy'])\n",
        "# categorical cross entropy is taken since its used as a loss function for\n",
        "# multi-class classification problems where there are two or more output labels.\n",
        "# using Adam optimizer for better performance\n",
        "# other optimizers such as sgd can also be used depending upon the model\n",
        "\n",
        "early = tf.keras.callbacks.EarlyStopping( patience=10,\n",
        "                                          min_delta=0.001,\n",
        "                                          restore_best_weights=True)\n",
        "# early stopping call back"
      ]
    },
    {
      "cell_type": "code",
      "execution_count": null,
      "metadata": {
        "colab": {
          "base_uri": "https://localhost:8080/"
        },
        "id": "SxhMnWqg6DKm",
        "outputId": "25d53cb3-e79c-4e52-8c1b-1e27394799a9"
      },
      "outputs": [
        {
          "output_type": "stream",
          "name": "stdout",
          "text": [
            "Model: \"sequential\"\n",
            "_________________________________________________________________\n",
            " Layer (type)                Output Shape              Param #   \n",
            "=================================================================\n",
            " resnet50 (Functional)       (None, 2048)              23587712  \n",
            "                                                                 \n",
            " flatten (Flatten)           (None, 2048)              0         \n",
            "                                                                 \n",
            " dense (Dense)               (None, 512)               1049088   \n",
            "                                                                 \n",
            " dense_1 (Dense)             (None, 4)                 2052      \n",
            "                                                                 \n",
            "=================================================================\n",
            "Total params: 24,638,852\n",
            "Trainable params: 24,585,732\n",
            "Non-trainable params: 53,120\n",
            "_________________________________________________________________\n"
          ]
        }
      ],
      "source": [
        "model.summary()"
      ]
    },
    {
      "cell_type": "code",
      "execution_count": null,
      "metadata": {
        "colab": {
          "base_uri": "https://localhost:8080/"
        },
        "id": "XIBMjP0Ujy2I",
        "outputId": "b836cd93-b800-4cdf-956b-c09b4c5e59cc"
      },
      "outputs": [
        {
          "output_type": "execute_result",
          "data": {
            "text/plain": [
              "{0: 0.94375, 1: 1.1796875, 2: 0.6188524590163934, 3: 2.0972222222222223}"
            ]
          },
          "metadata": {},
          "execution_count": 81
        }
      ],
      "source": [
        "from sklearn.utils import class_weight\n",
        "\n",
        "def get_weight(t):\n",
        "    class_weight_current =  class_weight.compute_class_weight('balanced', classes=np.unique(t), y=t)\n",
        "    return class_weight_current\n",
        "\n",
        "    \n",
        "train_classes = train_generator.classes\n",
        "\n",
        "class_weight =  get_weight(train_classes )\n",
        "class_weight = dict(zip(np.unique(train_classes), class_weight))\n",
        "class_weight\n"
      ]
    },
    {
      "cell_type": "code",
      "execution_count": null,
      "metadata": {
        "colab": {
          "base_uri": "https://localhost:8080/",
          "height": 588
        },
        "id": "3QSWgf6P8xVx",
        "outputId": "4cd00502-a602-478e-8b86-e298303da2e8"
      },
      "outputs": [
        {
          "output_type": "stream",
          "name": "stdout",
          "text": [
            "start Model Trainning Timestamp: 2022-12-01 15:14:18\n",
            "Epoch 1/100\n",
            "37/37 [==============================] - 62s 2s/step - loss: 1.5957 - accuracy: 0.3129 - val_loss: 159780.3750 - val_accuracy: 0.1176\n",
            "Epoch 2/100\n",
            "37/37 [==============================] - 54s 1s/step - loss: 1.3520 - accuracy: 0.3605 - val_loss: 473.0669 - val_accuracy: 0.0441\n",
            "Epoch 3/100\n",
            "37/37 [==============================] - 54s 1s/step - loss: 1.3383 - accuracy: 0.3810 - val_loss: 1.3746 - val_accuracy: 0.4706\n",
            "Epoch 4/100\n",
            "37/37 [==============================] - 54s 1s/step - loss: 1.3233 - accuracy: 0.4054 - val_loss: 1.3743 - val_accuracy: 0.4706\n",
            "Epoch 5/100\n",
            "37/37 [==============================] - 57s 2s/step - loss: 1.3159 - accuracy: 0.4082 - val_loss: 1.3697 - val_accuracy: 0.4706\n"
          ]
        },
        {
          "output_type": "error",
          "ename": "KeyboardInterrupt",
          "evalue": "ignored",
          "traceback": [
            "\u001b[0;31m---------------------------------------------------------------------------\u001b[0m",
            "\u001b[0;31mKeyboardInterrupt\u001b[0m                         Traceback (most recent call last)",
            "\u001b[0;32m<ipython-input-82-e6d1d3a6e542>\u001b[0m in \u001b[0;36m<module>\u001b[0;34m\u001b[0m\n\u001b[1;32m      5\u001b[0m \u001b[0mprint\u001b[0m\u001b[0;34m(\u001b[0m\u001b[0;34m\"start Model Trainning\"\u001b[0m\u001b[0;34m,\u001b[0m \u001b[0mdate_time\u001b[0m\u001b[0;34m(\u001b[0m\u001b[0;36m1\u001b[0m\u001b[0;34m)\u001b[0m\u001b[0;34m)\u001b[0m\u001b[0;34m\u001b[0m\u001b[0;34m\u001b[0m\u001b[0m\n\u001b[1;32m      6\u001b[0m \u001b[0;31m# fit model\u001b[0m\u001b[0;34m\u001b[0m\u001b[0;34m\u001b[0m\u001b[0;34m\u001b[0m\u001b[0m\n\u001b[0;32m----> 7\u001b[0;31m history = model.fit(train_generator,\n\u001b[0m\u001b[1;32m      8\u001b[0m                     \u001b[0msteps_per_epoch\u001b[0m\u001b[0;34m=\u001b[0m\u001b[0mSTEP_SIZE_TRAIN\u001b[0m\u001b[0;34m,\u001b[0m\u001b[0;34m\u001b[0m\u001b[0;34m\u001b[0m\u001b[0m\n\u001b[1;32m      9\u001b[0m                     \u001b[0mvalidation_data\u001b[0m\u001b[0;34m=\u001b[0m\u001b[0mval_generator\u001b[0m\u001b[0;34m,\u001b[0m\u001b[0;34m\u001b[0m\u001b[0;34m\u001b[0m\u001b[0m\n",
            "\u001b[0;32m/usr/local/lib/python3.8/dist-packages/keras/utils/traceback_utils.py\u001b[0m in \u001b[0;36merror_handler\u001b[0;34m(*args, **kwargs)\u001b[0m\n\u001b[1;32m     62\u001b[0m     \u001b[0mfiltered_tb\u001b[0m \u001b[0;34m=\u001b[0m \u001b[0;32mNone\u001b[0m\u001b[0;34m\u001b[0m\u001b[0;34m\u001b[0m\u001b[0m\n\u001b[1;32m     63\u001b[0m     \u001b[0;32mtry\u001b[0m\u001b[0;34m:\u001b[0m\u001b[0;34m\u001b[0m\u001b[0;34m\u001b[0m\u001b[0m\n\u001b[0;32m---> 64\u001b[0;31m       \u001b[0;32mreturn\u001b[0m \u001b[0mfn\u001b[0m\u001b[0;34m(\u001b[0m\u001b[0;34m*\u001b[0m\u001b[0margs\u001b[0m\u001b[0;34m,\u001b[0m \u001b[0;34m**\u001b[0m\u001b[0mkwargs\u001b[0m\u001b[0;34m)\u001b[0m\u001b[0;34m\u001b[0m\u001b[0;34m\u001b[0m\u001b[0m\n\u001b[0m\u001b[1;32m     65\u001b[0m     \u001b[0;32mexcept\u001b[0m \u001b[0mException\u001b[0m \u001b[0;32mas\u001b[0m \u001b[0me\u001b[0m\u001b[0;34m:\u001b[0m  \u001b[0;31m# pylint: disable=broad-except\u001b[0m\u001b[0;34m\u001b[0m\u001b[0;34m\u001b[0m\u001b[0m\n\u001b[1;32m     66\u001b[0m       \u001b[0mfiltered_tb\u001b[0m \u001b[0;34m=\u001b[0m \u001b[0m_process_traceback_frames\u001b[0m\u001b[0;34m(\u001b[0m\u001b[0me\u001b[0m\u001b[0;34m.\u001b[0m\u001b[0m__traceback__\u001b[0m\u001b[0;34m)\u001b[0m\u001b[0;34m\u001b[0m\u001b[0;34m\u001b[0m\u001b[0m\n",
            "\u001b[0;32m/usr/local/lib/python3.8/dist-packages/keras/engine/training.py\u001b[0m in \u001b[0;36mfit\u001b[0;34m(self, x, y, batch_size, epochs, verbose, callbacks, validation_split, validation_data, shuffle, class_weight, sample_weight, initial_epoch, steps_per_epoch, validation_steps, validation_batch_size, validation_freq, max_queue_size, workers, use_multiprocessing)\u001b[0m\n\u001b[1;32m   1395\u001b[0m       \u001b[0mlogs\u001b[0m \u001b[0;34m=\u001b[0m \u001b[0;32mNone\u001b[0m\u001b[0;34m\u001b[0m\u001b[0;34m\u001b[0m\u001b[0m\n\u001b[1;32m   1396\u001b[0m       \u001b[0;32mfor\u001b[0m \u001b[0mepoch\u001b[0m\u001b[0;34m,\u001b[0m \u001b[0miterator\u001b[0m \u001b[0;32min\u001b[0m \u001b[0mdata_handler\u001b[0m\u001b[0;34m.\u001b[0m\u001b[0menumerate_epochs\u001b[0m\u001b[0;34m(\u001b[0m\u001b[0;34m)\u001b[0m\u001b[0;34m:\u001b[0m\u001b[0;34m\u001b[0m\u001b[0;34m\u001b[0m\u001b[0m\n\u001b[0;32m-> 1397\u001b[0;31m         \u001b[0mself\u001b[0m\u001b[0;34m.\u001b[0m\u001b[0mreset_metrics\u001b[0m\u001b[0;34m(\u001b[0m\u001b[0;34m)\u001b[0m\u001b[0;34m\u001b[0m\u001b[0;34m\u001b[0m\u001b[0m\n\u001b[0m\u001b[1;32m   1398\u001b[0m         \u001b[0mcallbacks\u001b[0m\u001b[0;34m.\u001b[0m\u001b[0mon_epoch_begin\u001b[0m\u001b[0;34m(\u001b[0m\u001b[0mepoch\u001b[0m\u001b[0;34m)\u001b[0m\u001b[0;34m\u001b[0m\u001b[0;34m\u001b[0m\u001b[0m\n\u001b[1;32m   1399\u001b[0m         \u001b[0;32mwith\u001b[0m \u001b[0mdata_handler\u001b[0m\u001b[0;34m.\u001b[0m\u001b[0mcatch_stop_iteration\u001b[0m\u001b[0;34m(\u001b[0m\u001b[0;34m)\u001b[0m\u001b[0;34m:\u001b[0m\u001b[0;34m\u001b[0m\u001b[0;34m\u001b[0m\u001b[0m\n",
            "\u001b[0;31mKeyboardInterrupt\u001b[0m: "
          ]
        }
      ],
      "source": [
        "\n",
        "epochs=100\n",
        "STEP_SIZE_TRAIN = train_generator.n//train_generator.batch_size\n",
        "STEP_SIZE_VALID = val_generator.n//val_generator.batch_size\n",
        "\n",
        "print(\"start Model Trainning\", date_time(1))\n",
        "# fit model\n",
        "history = model.fit(train_generator,\n",
        "                    #steps_per_epoch=STEP_SIZE_TRAIN,\n",
        "                    validation_data=val_generator,\n",
        "                    #validation_steps=STEP_SIZE_VALID,\n",
        "                    epochs=epochs,\n",
        "                    callbacks=[early])\n",
        "\n",
        "\n",
        "print(\"Completed Model Trainning\", date_time(1))"
      ]
    },
    {
      "cell_type": "code",
      "execution_count": null,
      "metadata": {
        "id": "dUe5gMMmCN_D"
      },
      "outputs": [],
      "source": [
        "model.save(\"/content/gdrive/MyDrive/Dataset/output/models/Model.h5\")"
      ]
    },
    {
      "cell_type": "markdown",
      "metadata": {
        "id": "Y0gK9kfKk0qu"
      },
      "source": [
        "## Visualization"
      ]
    },
    {
      "cell_type": "code",
      "execution_count": null,
      "metadata": {
        "id": "dGdxcoqPCV9u"
      },
      "outputs": [],
      "source": [
        "# store results\n",
        "acc = history.history['accuracy']\n",
        "val_acc = history.history['val_accuracy']\n",
        "loss = history.history['loss']\n",
        "val_loss = history.history['val_loss']\n",
        " \n",
        " \n",
        "# plot results\n",
        "# accuracy\n",
        "plt.figure(figsize=(10, 16))\n",
        "plt.rcParams['figure.figsize'] = [16, 9]\n",
        "plt.rcParams['font.size'] = 14\n",
        "plt.rcParams['axes.grid'] = True\n",
        "plt.rcParams['figure.facecolor'] = 'white'\n",
        "plt.subplot(2, 1, 1)\n",
        "plt.plot(acc, label='Training Accuracy')\n",
        "plt.plot(val_acc, label='Validation Accuracy')\n",
        "plt.legend(loc='lower right')\n",
        "plt.ylabel('Accuracy')\n",
        "plt.title(f'\\nTraining and Validation Accuracy. \\nTrain Accuracy:{str(acc[-1])}\\nValidation Accuracy: {str(val_acc[-1])}')"
      ]
    },
    {
      "cell_type": "code",
      "execution_count": null,
      "metadata": {
        "id": "lingEFbGJFez"
      },
      "outputs": [],
      "source": [
        "# loss\n",
        "plt.subplot(2, 1, 2)\n",
        "plt.plot(loss, label='Training Loss')\n",
        "plt.plot(val_loss, label='Validation Loss')\n",
        "plt.legend(loc='upper right')\n",
        "plt.ylabel('Cross Entropy')\n",
        "plt.title(f'Training and Validation Loss. \\nTrain Loss:{str(loss[-1])}\\nValidation Loss: {str(val_loss[-1])}')\n",
        "plt.xlabel('epoch')\n",
        "plt.tight_layout(pad=3.0)\n",
        "plt.show()"
      ]
    },
    {
      "cell_type": "code",
      "execution_count": null,
      "metadata": {
        "id": "GORNvGrvJaH-"
      },
      "outputs": [],
      "source": [
        "accuracy_score = model.evaluate(val_generator)\n",
        "print(accuracy_score)\n",
        "print(\"Accuracy: {:.4f}%\".format(accuracy_score[1] * 100))\n",
        " \n",
        "print(\"Loss: \",accuracy_score[0])"
      ]
    },
    {
      "cell_type": "code",
      "execution_count": null,
      "metadata": {
        "id": "4UOL1FjKJyS3"
      },
      "outputs": [],
      "source": [
        "test_img_path = \"/content/gdrive/MyDrive/Dataset/data2/test/score0/convex_1048_1126_8.jpg\"\n",
        " \n",
        "img = cv2.imread(test_img_path)\n",
        "resized_img = cv2.resize(img, (331, 331)).reshape(-1, 331, 331, 3)/255\n",
        " \n",
        "plt.figure(figsize=(6,6))\n",
        "plt.title(\"TEST IMAGE\")\n",
        "plt.imshow(resized_img[0])"
      ]
    },
    {
      "cell_type": "code",
      "execution_count": null,
      "metadata": {
        "id": "xeT102GqKHhp"
      },
      "outputs": [],
      "source": [
        "predictions = []\n",
        "images=[]\n",
        "for root, dirs, files in os.walk(test_path, topdown=False):\n",
        "   for image in files:\n",
        "      image=os.path.join(root, image)\n",
        "      images.append(image)\n",
        "      img = tf.keras.preprocessing.image.load_img(image)\n",
        "      img = tf.keras.preprocessing.image.img_to_array(img)\n",
        "      img = tf.keras.preprocessing.image.smart_resize(img, (688, 1760))\n",
        "      img = tf.reshape(img, (-1, 688, 1760, 3))\n",
        "      prediction = model.predict(img/255)\n",
        "      predictions.append(np.argmax(prediction))\n",
        "sample=pd.DataFrame(images)  \n",
        "\n",
        "my_submission = pd.DataFrame({'image_id': images, 'label':  predictions})\n",
        "if os.path.exists('/content/gdrive/MyDrive/Dataset/output/submission.csv'):\n",
        "  os.remove('/content/gdrive/MyDrive/Dataset/output/submission.csv')\n",
        "my_submission.to_csv('/content/gdrive/MyDrive/Dataset/output/submission.csv', index=False)\n",
        " \n",
        "# Submission file ouput\n",
        "print(\"Submission File: \\n---------------\\n\")\n",
        "print(my_submission.head()) # Displaying first five predicted output"
      ]
    }
  ],
  "metadata": {
    "accelerator": "GPU",
    "colab": {
      "provenance": [],
      "include_colab_link": true
    },
    "gpuClass": "standard",
    "kernelspec": {
      "display_name": "Python 3",
      "language": "python",
      "name": "python3"
    },
    "language_info": {
      "codemirror_mode": {
        "name": "ipython",
        "version": 3
      },
      "file_extension": ".py",
      "mimetype": "text/x-python",
      "name": "python",
      "nbconvert_exporter": "python",
      "pygments_lexer": "ipython3",
      "version": "3.10.8 (tags/v3.10.8:aaaf517, Oct 11 2022, 16:50:30) [MSC v.1933 64 bit (AMD64)]"
    },
    "vscode": {
      "interpreter": {
        "hash": "180a8cf1fc48fa92a53c2d4bd1ff24d9f8e77dd7507839b4c169d20814ecdb3b"
      }
    }
  },
  "nbformat": 4,
  "nbformat_minor": 0
}