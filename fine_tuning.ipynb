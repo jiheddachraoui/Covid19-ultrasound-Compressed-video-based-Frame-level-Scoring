{
  "nbformat": 4,
  "nbformat_minor": 0,
  "metadata": {
    "colab": {
      "provenance": [],
      "authorship_tag": "ABX9TyMlOpYtXiYa0844mRhul/zB",
      "include_colab_link": true
    },
    "kernelspec": {
      "name": "python3",
      "display_name": "Python 3"
    },
    "language_info": {
      "name": "python"
    },
    "gpuClass": "standard"
  },
  "cells": [
    {
      "cell_type": "markdown",
      "metadata": {
        "id": "view-in-github",
        "colab_type": "text"
      },
      "source": [
        "<a href=\"https://colab.research.google.com/github/jiheddachraoui/Frame-level-Scoring-of-Compressed-COVID-19-Ultrasound-Videos/blob/main/fine_tuning.ipynb\" target=\"_parent\"><img src=\"https://colab.research.google.com/assets/colab-badge.svg\" alt=\"Open In Colab\"/></a>"
      ]
    },
    {
      "cell_type": "markdown",
      "metadata": {
        "id": "exCuSrEN0cM7"
      },
      "source": [
        "## Import The Required Libraries"
      ]
    },
    {
      "cell_type": "code",
      "execution_count": 77,
      "metadata": {
        "id": "7IU3as4W0cM7",
        "colab": {
          "base_uri": "https://localhost:8080/"
        },
        "outputId": "a87b1e50-f7fd-4746-99db-0f9a1598e620"
      },
      "outputs": [
        {
          "output_type": "stream",
          "name": "stdout",
          "text": [
            "Drive already mounted at /content/gdrive; to attempt to forcibly remount, call drive.mount(\"/content/gdrive\", force_remount=True).\n"
          ]
        }
      ],
      "source": [
        "# basics\n",
        "import sys\n",
        "from google.colab import drive\n",
        "drive.mount('/content/gdrive')\n",
        "import numpy as np \n",
        "import matplotlib.pyplot as plt\n",
        "import pandas as pd\n",
        "import seaborn as sns\n",
        "from sklearn.metrics import classification_report, confusion_matrix\n",
        "from sklearn.metrics import roc_curve\n",
        "from sklearn.metrics import roc_auc_score\n",
        "from sklearn.metrics import auc\n",
        "import cv2\n",
        "import pickle \n",
        "\n",
        "import shutil\n",
        "# Keras Libraries\n",
        "import keras\n",
        "import tensorflow as tf\n",
        "from keras import backend as K\n",
        "from keras import metrics\n",
        "from tensorflow.keras.utils import load_img, img_to_array\n",
        "from keras.callbacks import ModelCheckpoint, EarlyStopping, TensorBoard, ReduceLROnPlateau\n",
        "from keras.regularizers import l2\n",
        "from keras.models import Sequential , Functional\n",
        "from keras.layers import Conv2D, MaxPooling2D, Flatten, Dense, Dropout, BatchNormalization, InputLayer, Activation\n",
        "from keras.utils import  load_img\n",
        "from keras.preprocessing.image import ImageDataGenerator\n",
        "from keras.metrics import AUC\n",
        "from keras.optimizers import Adam\n",
        "from keras.callbacks import EarlyStopping\n",
        "from sklearn.metrics import classification_report, confusion_matrix\n",
        "from sklearn.preprocessing import label_binarize\n",
        "from sklearn.metrics import classification_report, roc_auc_score\n",
        "import keras.backend\n",
        "import os\n",
        "import random\n",
        "import time\n",
        "import datetime\n",
        "from tensorflow.python.framework import ops\n",
        "import inspect\n",
        "import gc"
      ]
    },
    {
      "cell_type": "markdown",
      "metadata": {
        "id": "-txyLjSbeifK"
      },
      "source": [
        "## utility functions"
      ]
    },
    {
      "cell_type": "code",
      "execution_count": 78,
      "metadata": {
        "id": "RI2-jctMeP0-"
      },
      "outputs": [],
      "source": [
        "# print date and time for given type of representation\n",
        "def date_time(x):\n",
        "    if x==1:\n",
        "        return 'Timestamp: {:%Y-%m-%d %H:%M:%S}'.format(datetime.datetime.now())\n",
        "    if x==2:    \n",
        "        return 'Timestamp: {:%Y-%b-%d %H:%M:%S}'.format(datetime.datetime.now())\n",
        "    if x==3:  \n",
        "        return 'Date now: %s' % datetime.datetime.now()\n",
        "    if x==4:  \n",
        "        return 'Date today: %s' % datetime.date.today() "
      ]
    },
    {
      "cell_type": "markdown",
      "metadata": {
        "id": "ZrRD9ORterTQ"
      },
      "source": [
        "## code\n"
      ]
    },
    {
      "cell_type": "code",
      "execution_count": 79,
      "metadata": {
        "id": "044vnlVP0cM8"
      },
      "outputs": [],
      "source": [
        "batch_size =16\n",
        "model_name=\"vgg16\"\n",
        "fold_name=\"fold1\"\n",
        "input_directory = \"/content/gdrive/MyDrive/Dataset/data_{}/\".format(fold_name)\n",
        "output_directory = \"/content/gdrive/MyDrive/Dataset/output/\"\n",
        "\n",
        "train_path = input_directory + r\"train\"\n",
        "val_path = input_directory + r\"valid\"\n",
        "test_path = input_directory + r\"test\"\n",
        "\n",
        "figure_directory = \"output/figures\" \n",
        "file_name_pred_batch = figure_directory+r\"/result\"\n",
        "file_name_pred_sample = figure_directory+r\"/sample\"\n",
        "\n",
        "main_model_dir = output_directory + r\"models/\"\n",
        "main_log_dir = output_directory + r\"logs/\"\n",
        "\n",
        "\n"
      ]
    },
    {
      "cell_type": "markdown",
      "metadata": {
        "id": "zzhneEFRlzUM"
      },
      "source": [
        "### preprosessing"
      ]
    },
    {
      "cell_type": "code",
      "execution_count": 80,
      "metadata": {
        "id": "FMFmruAz0cM7"
      },
      "outputs": [],
      "source": [
        "# Set a seed value\n",
        "seed_value= 42\n",
        "\n",
        "# 1. Set `PYTHONHASHSEED` environment variable at a fixed value\n",
        "\n",
        "os.environ['PYTHONHASHSEED']=str(seed_value)\n",
        "\n",
        "# 2. Set `python` built-in pseudo-random generator at a fixed value\n",
        "\n",
        "random.seed(seed_value)\n",
        "\n",
        "# 3. Set `numpy` pseudo-random generator at a fixed value\n",
        "np.random.seed(seed_value)\n",
        "\n",
        "# 4. Set `tensorflow` pseudo-random generator at a fixed value\n",
        "#tf.set_random_seed(seed_value)\n",
        "tf.random.set_seed(seed_value)\n",
        "# 5. For layers that introduce randomness like dropout, make sure to set seed values \n",
        "#model.add(Dropout(0.25, seed=seed_value))\n",
        "\n",
        "#6 Configure a new global `tensorflow` session\n",
        "\n",
        "session_conf = tf.compat.v1.ConfigProto(intra_op_parallelism_threads=1, inter_op_parallelism_threads=1)\n",
        "sess = tf.compat.v1.Session(graph=tf.compat.v1.get_default_graph(), config=session_conf)\n",
        "K.set_session(sess)"
      ]
    },
    {
      "cell_type": "code",
      "execution_count": 81,
      "metadata": {
        "id": "mEmQB-Lg0cM8",
        "colab": {
          "base_uri": "https://localhost:8080/"
        },
        "outputId": "e5259b9a-5b10-4642-f47a-0a4de21971e9"
      },
      "outputs": [
        {
          "output_type": "stream",
          "name": "stdout",
          "text": [
            "Found 180 images belonging to 4 classes.\n",
            "Found 66 images belonging to 4 classes.\n"
          ]
        }
      ],
      "source": [
        "datagen = ImageDataGenerator( rescale=1.0/255.0,\n",
        "                                   shear_range = 0.02,\n",
        "                                   zoom_range = 0.02, rotation_range=10,\n",
        "    fill_mode='nearest',\n",
        "    horizontal_flip=True,\n",
        "    \n",
        "    width_shift_range=0.1,\n",
        "    height_shift_range=0.1)\n",
        "\n",
        "\n",
        "\n",
        "train_generator = datagen.flow_from_directory(directory = train_path, \n",
        "                                                    color_mode=\"rgb\",\n",
        "                                                    target_size = (240, 240), # image height , image width\n",
        "                                                    class_mode=\"categorical\",\n",
        "                                                    batch_size=batch_size,\n",
        "                                                    shuffle=True,\n",
        "                                                    seed=42)\n",
        "'''val_generator = datagen.flow_from_directory(directory = val_path, \n",
        "                                                 color_mode=\"rgb\",\n",
        "                                                    target_size = (333,666), # image height , image width\n",
        "                                                    class_mode=\"categorical\",\n",
        "                                                    batch_size=batch_size,\n",
        "                                                    shuffle=True,\n",
        "                                                    seed=42)'''\n",
        "test_generator = datagen.flow_from_directory(directory = test_path, \n",
        "                                                 color_mode=\"rgb\",\n",
        "                                                    target_size = (240, 240), # image height , image width\n",
        "                                                    class_mode=\"categorical\",\n",
        "                                                    batch_size=batch_size,\n",
        "                                                    shuffle=True,\n",
        "                                                    seed=42)\n",
        "\n",
        "test_generator.reset()"
      ]
    },
    {
      "cell_type": "code",
      "execution_count": 82,
      "metadata": {
        "id": "fgfidq8346qn",
        "colab": {
          "base_uri": "https://localhost:8080/"
        },
        "outputId": "c4f72549-16eb-4eab-afcf-8f6138eca86a"
      },
      "outputs": [
        {
          "output_type": "execute_result",
          "data": {
            "text/plain": [
              "(16, 240, 240, 3)"
            ]
          },
          "metadata": {},
          "execution_count": 82
        }
      ],
      "source": [
        "x,y = next(train_generator)\n",
        "x.shape"
      ]
    },
    {
      "cell_type": "code",
      "execution_count": 83,
      "metadata": {
        "id": "OX8NyzKs5Zlo",
        "colab": {
          "base_uri": "https://localhost:8080/",
          "height": 72
        },
        "outputId": "21ad125e-1ca3-4668-d545-2b22ae35de46"
      },
      "outputs": [
        {
          "output_type": "execute_result",
          "data": {
            "text/plain": [
              "\"a = train_generator.class_indices\\nclass_names = list(a.keys())  # storing class/breed names in a list\\n \\n \\ndef plot_images(img, labels):\\n    plt.figure(figsize=[15, 10])\\n    for i in range(batch_size):\\n        plt.subplot(5, 5, i+1)\\n        plt.imshow(img[i])\\n        plt.title(class_names[np.argmax(labels[i])])\\n        plt.axis('off')\\n \\nplot_images(x,y)\""
            ],
            "application/vnd.google.colaboratory.intrinsic+json": {
              "type": "string"
            }
          },
          "metadata": {},
          "execution_count": 83
        }
      ],
      "source": [
        "\"\"\"a = train_generator.class_indices\n",
        "class_names = list(a.keys())  # storing class/breed names in a list\n",
        " \n",
        " \n",
        "def plot_images(img, labels):\n",
        "    plt.figure(figsize=[15, 10])\n",
        "    for i in range(batch_size):\n",
        "        plt.subplot(5, 5, i+1)\n",
        "        plt.imshow(img[i])\n",
        "        plt.title(class_names[np.argmax(labels[i])])\n",
        "        plt.axis('off')\n",
        " \n",
        "plot_images(x,y)\"\"\""
      ]
    },
    {
      "cell_type": "markdown",
      "source": [
        "# Fine tuning"
      ],
      "metadata": {
        "id": "g7CTkfeFfbIO"
      }
    },
    {
      "cell_type": "code",
      "source": [
        "# Load pre-trained model\n",
        "base_model= tf.keras.models.load_model('/content/gdrive/MyDrive/Dataset/output/models/Model_frame_{}.h5'.format(model_name))\n",
        "model = Sequential()\n",
        "\n",
        "for layer in base_model.layers[:-1]: # this is where I changed your code\n",
        "    model.add(layer)  \n",
        "\n",
        "# Freeze the layers of the base model\n",
        "for layer in model.layers:\n",
        "    layer.trainable = False\n",
        "base_model=model\n",
        "\n",
        "# add new layers to the base model\n",
        "x = base_model.output\n",
        "#x = keras.layers.Flatten()(x)\n",
        "x = keras.layers.Dense(1024, activation='relu')(x)\n",
        "x = keras.layers.Dense(256, activation='relu')(x)\n",
        "predictions = keras.layers.Dense(4, activation='softmax')(x)\n",
        "\n",
        "# create a new model with the new layers\n",
        "model = keras.models.Model(inputs=base_model.input, outputs=predictions)"
      ],
      "metadata": {
        "id": "s5KcKgPmfa8A"
      },
      "execution_count": 84,
      "outputs": []
    },
    {
      "cell_type": "code",
      "source": [
        "early = tf.keras.callbacks.EarlyStopping( patience=10,\n",
        "                                          min_delta=0.001,\n",
        "                                          restore_best_weights=True,\n",
        "                                         #monitor='loss', \n",
        "                                         #mode='min'\n",
        ")\n",
        "checkpoint=tf.keras.callbacks.ModelCheckpoint(\n",
        "    filepath=r\"/content/gdrive/MyDrive/Dataset/output/checkpoints/model_tuned_\"+model_name+\"_\"+fold_name+\"_{epoch}.h5\",\n",
        "   save_best_only=True,\n",
        "    verbose=1,\n",
        "    #monitor='loss', \n",
        "    #mode='min'\n",
        "\n",
        ")\n",
        "reduce1=tf.keras.callbacks.ReduceLROnPlateau(patience=10,\n",
        "                                             #monitor='loss', \n",
        "                                             #mode='min',  # after 10 epochs with no improvement\n",
        "    verbose=1)\n",
        "callbacks=[early,checkpoint,reduce1]\n",
        "model.summary()\n",
        "model.compile(optimizer=keras.optimizers.Adam(learning_rate=.0001),loss='categorical_crossentropy',metrics=[AUC()])"
      ],
      "metadata": {
        "colab": {
          "base_uri": "https://localhost:8080/"
        },
        "id": "EqF_qeJR4Qk0",
        "outputId": "2bbc5bb6-6a50-4ad9-af8f-e4ac6c4fb18c"
      },
      "execution_count": 85,
      "outputs": [
        {
          "output_type": "stream",
          "name": "stdout",
          "text": [
            "Model: \"model_4\"\n",
            "_________________________________________________________________\n",
            " Layer (type)                Output Shape              Param #   \n",
            "=================================================================\n",
            " vgg16_input (InputLayer)    [(None, 240, 240, 3)]     0         \n",
            "                                                                 \n",
            " vgg16 (Functional)          (None, 7, 7, 512)         14714688  \n",
            "                                                                 \n",
            " flatten (Flatten)           (None, 25088)             0         \n",
            "                                                                 \n",
            " dense (Dense)               (None, 256)               6422784   \n",
            "                                                                 \n",
            " dropout (Dropout)           (None, 256)               0         \n",
            "                                                                 \n",
            " dense_12 (Dense)            (None, 1024)              263168    \n",
            "                                                                 \n",
            " dense_13 (Dense)            (None, 256)               262400    \n",
            "                                                                 \n",
            " dense_14 (Dense)            (None, 4)                 1028      \n",
            "                                                                 \n",
            "=================================================================\n",
            "Total params: 21,664,068\n",
            "Trainable params: 526,596\n",
            "Non-trainable params: 21,137,472\n",
            "_________________________________________________________________\n"
          ]
        }
      ]
    },
    {
      "cell_type": "code",
      "source": [
        "#model=tf.keras.models.load_model(\"/content/gdrive/MyDrive/Dataset/output/checkpoints/model_tuned_vgg16_fold3_19.h5\")\n"
      ],
      "metadata": {
        "id": "ky9pifVSpyc-"
      },
      "execution_count": 86,
      "outputs": []
    },
    {
      "cell_type": "code",
      "source": [
        "epochs=100\n",
        "STEP_SIZE_TRAIN = train_generator.n//train_generator.batch_size\n",
        "STEP_SIZE_VALID = test_generator.n//test_generator.batch_size\n",
        "\n",
        "print(\"start Model Trainning\", date_time(1))\n",
        "# fit model\n",
        "history = model.fit(train_generator,\n",
        "                    steps_per_epoch=STEP_SIZE_TRAIN,\n",
        "                    validation_data=test_generator,\n",
        "                    validation_steps=STEP_SIZE_VALID,\n",
        "                    epochs=epochs,\n",
        "                    callbacks=callbacks)\n",
        "\n",
        "\n",
        "print(\"Completed Model Trainning\", date_time(1))"
      ],
      "metadata": {
        "colab": {
          "base_uri": "https://localhost:8080/"
        },
        "id": "xl6w6VE54STz",
        "outputId": "7cbf4be4-ff0e-409a-902c-04012801da85"
      },
      "execution_count": 87,
      "outputs": [
        {
          "output_type": "stream",
          "name": "stdout",
          "text": [
            "start Model Trainning Timestamp: 2023-01-31 00:21:22\n",
            "Epoch 1/100\n",
            "11/11 [==============================] - ETA: 0s - loss: 1.3516 - auc_4: 0.6139\n",
            "Epoch 1: val_loss improved from inf to 1.40704, saving model to /content/gdrive/MyDrive/Dataset/output/checkpoints/model_tuned_vgg16_fold1_1.h5\n",
            "11/11 [==============================] - 152s 14s/step - loss: 1.3516 - auc_4: 0.6139 - val_loss: 1.4070 - val_auc_4: 0.4477 - lr: 1.0000e-04\n",
            "Epoch 2/100\n",
            "11/11 [==============================] - ETA: 0s - loss: 1.3019 - auc_4: 0.6680 \n",
            "Epoch 2: val_loss improved from 1.40704 to 1.40391, saving model to /content/gdrive/MyDrive/Dataset/output/checkpoints/model_tuned_vgg16_fold1_2.h5\n",
            "11/11 [==============================] - 148s 14s/step - loss: 1.3019 - auc_4: 0.6680 - val_loss: 1.4039 - val_auc_4: 0.4555 - lr: 1.0000e-04\n",
            "Epoch 3/100\n",
            "11/11 [==============================] - ETA: 0s - loss: 1.2630 - auc_4: 0.6978\n",
            "Epoch 3: val_loss did not improve from 1.40391\n",
            "11/11 [==============================] - 148s 14s/step - loss: 1.2630 - auc_4: 0.6978 - val_loss: 1.4041 - val_auc_4: 0.4637 - lr: 1.0000e-04\n",
            "Epoch 4/100\n",
            "11/11 [==============================] - ETA: 0s - loss: 1.2509 - auc_4: 0.6874 \n",
            "Epoch 4: val_loss did not improve from 1.40391\n",
            "11/11 [==============================] - 146s 14s/step - loss: 1.2509 - auc_4: 0.6874 - val_loss: 1.4227 - val_auc_4: 0.4600 - lr: 1.0000e-04\n",
            "Epoch 5/100\n",
            "11/11 [==============================] - ETA: 0s - loss: 1.2404 - auc_4: 0.6936 \n",
            "Epoch 5: val_loss did not improve from 1.40391\n",
            "11/11 [==============================] - 146s 14s/step - loss: 1.2404 - auc_4: 0.6936 - val_loss: 1.4261 - val_auc_4: 0.4681 - lr: 1.0000e-04\n",
            "Epoch 6/100\n",
            "11/11 [==============================] - ETA: 0s - loss: 1.2521 - auc_4: 0.6831 \n",
            "Epoch 6: val_loss did not improve from 1.40391\n",
            "11/11 [==============================] - 153s 14s/step - loss: 1.2521 - auc_4: 0.6831 - val_loss: 1.4505 - val_auc_4: 0.4556 - lr: 1.0000e-04\n",
            "Epoch 7/100\n",
            "11/11 [==============================] - ETA: 0s - loss: 1.2268 - auc_4: 0.7097\n",
            "Epoch 7: val_loss did not improve from 1.40391\n",
            "11/11 [==============================] - 145s 13s/step - loss: 1.2268 - auc_4: 0.7097 - val_loss: 1.4569 - val_auc_4: 0.4468 - lr: 1.0000e-04\n",
            "Epoch 8/100\n",
            "11/11 [==============================] - ETA: 0s - loss: 1.2295 - auc_4: 0.7057\n",
            "Epoch 8: val_loss did not improve from 1.40391\n",
            "11/11 [==============================] - 146s 13s/step - loss: 1.2295 - auc_4: 0.7057 - val_loss: 1.4777 - val_auc_4: 0.4624 - lr: 1.0000e-04\n",
            "Epoch 9/100\n",
            "11/11 [==============================] - ETA: 0s - loss: 1.2401 - auc_4: 0.6943\n",
            "Epoch 9: val_loss did not improve from 1.40391\n",
            "11/11 [==============================] - 146s 13s/step - loss: 1.2401 - auc_4: 0.6943 - val_loss: 1.4949 - val_auc_4: 0.4352 - lr: 1.0000e-04\n",
            "Epoch 10/100\n",
            "11/11 [==============================] - ETA: 0s - loss: 1.2432 - auc_4: 0.6920\n",
            "Epoch 10: val_loss did not improve from 1.40391\n",
            "11/11 [==============================] - 148s 14s/step - loss: 1.2432 - auc_4: 0.6920 - val_loss: 1.4794 - val_auc_4: 0.4579 - lr: 1.0000e-04\n",
            "Epoch 11/100\n",
            "11/11 [==============================] - ETA: 0s - loss: 1.2295 - auc_4: 0.6990\n",
            "Epoch 11: val_loss did not improve from 1.40391\n",
            "11/11 [==============================] - 146s 14s/step - loss: 1.2295 - auc_4: 0.6990 - val_loss: 1.4667 - val_auc_4: 0.4616 - lr: 1.0000e-04\n",
            "Epoch 12/100\n",
            "11/11 [==============================] - ETA: 0s - loss: 1.2379 - auc_4: 0.6973\n",
            "Epoch 12: val_loss did not improve from 1.40391\n",
            "\n",
            "Epoch 12: ReduceLROnPlateau reducing learning rate to 9.999999747378752e-06.\n",
            "11/11 [==============================] - 147s 14s/step - loss: 1.2379 - auc_4: 0.6973 - val_loss: 1.4392 - val_auc_4: 0.4790 - lr: 1.0000e-04\n",
            "Completed Model Trainning Timestamp: 2023-01-31 00:56:12\n"
          ]
        }
      ]
    },
    {
      "cell_type": "code",
      "source": [
        "model.save(\"/content/gdrive/MyDrive/Dataset/output/models/model_tuned_\"+model_name+\"_{}.h5\".format(fold_name))"
      ],
      "metadata": {
        "id": "M91Mw4pY8VaK"
      },
      "execution_count": 88,
      "outputs": []
    },
    {
      "cell_type": "markdown",
      "metadata": {
        "id": "Y0gK9kfKk0qu"
      },
      "source": [
        "## Visualization"
      ]
    },
    {
      "cell_type": "code",
      "source": [
        "def create_charts(cnn, cnn_model):\n",
        "    ## Define train & validation loss\n",
        "    train_loss = cnn_model.history['loss']\n",
        "    val_loss = cnn_model.history['val_loss']\n",
        "    #print(list(cnn_model.history.keys()))\n",
        "    ## Define train & validation AUC\n",
        "    train_auc_name = list(cnn_model.history.keys())[1]\n",
        "    val_auc_name = list(cnn_model.history.keys())[3]\n",
        "    train_auc = cnn_model.history[train_auc_name]\n",
        "    val_auc = cnn_model.history[val_auc_name]\n",
        "    \n",
        "    ## Define y_pred & y_true\n",
        "    y_true = test_generator.classes\n",
        "    Y_pred = cnn.predict(test_generator, steps = len(test_generator))\n",
        "    print(y_true)\n",
        "    print(Y_pred)\n",
        "   \n",
        "   \n",
        "    #y_pred = (Y_pred > 0.5).T[0]\n",
        "    y_pred = np.argmax(Y_pred, axis=1)\n",
        "    print(y_pred)\n",
        "    ## PLOT ##\n",
        "    fig = plt.figure(figsize=(13, 10))\n",
        "    \n",
        "    ## PLOT 1: TRAIN VS. VALIDATION LOSS \n",
        "    plt.subplot(2,2,1)\n",
        "    plt.title(\"Training vs. Validation Loss\")\n",
        "    plt.plot(train_loss, label='training loss')\n",
        "    plt.plot(val_loss, label='validation loss')\n",
        "    plt.xlabel(\"Number of Epochs\", size=14)\n",
        "    plt.legend()\n",
        "\n",
        "    ## PLOT 2: TRAIN VS. VALIDATION AUC\n",
        "    plt.subplot(2,2,2)\n",
        "    plt.title(\"Training vs. Validation AUC Score\")\n",
        "    plt.plot(train_auc, label='training auc')\n",
        "    plt.plot(val_auc, label='validation auc')\n",
        "    plt.xlabel(\"Number of Epochs\", size=14)\n",
        "    plt.legend()\n",
        "    \n",
        "    ## PLOT 3: CONFUSION MATRIX\n",
        "    plt.subplot(2,2,3)\n",
        "      # Set up the labels for in the confusion matrix\n",
        "    cm = confusion_matrix(y_true, y_pred,labels=[0,1,2,3])\n",
        "    names = ['True Negatives', 'False Positives', 'False Negatives', 'True Positives']\n",
        "    counts = ['{0:0.0f}'.format(value) for value in cm.flatten()]\n",
        "    #print(counts)\n",
        "    percentages = ['{0:.2%}'.format(value) for value in cm.flatten()/np.sum(cm)]\n",
        "    labels = [[f'{names[i]}\\n{percentages[i]}' for i in range(len(names))] for j in range(len(cm))]\n",
        "    #print(labels)\n",
        "    #labels = np.asarray(labels).reshape(2,2)\n",
        "    ticklabels = ['socre0', 'socre1','socre2','socre3']\n",
        "    #print(cm)\n",
        "    #print(labels)\n",
        "    # Create confusion matrix as heatmap\n",
        "    sns.set(font_scale = 1.4)\n",
        "    ax = sns.heatmap(cm, annot=True, fmt='', cmap='Oranges', xticklabels=ticklabels, yticklabels=ticklabels )\n",
        "    plt.xticks(size=12)\n",
        "    plt.yticks(size=12)\n",
        "    plt.title(\"Confusion Matrix\") #plt.title(\"Confusion Matrix\\n\", fontsize=10)\n",
        "    plt.xlabel(\"Predicted\", size=14)\n",
        "    plt.ylabel(\"Actual\", size=14) \n",
        "    plt.savefig(\"/content/gdrive/MyDrive/Dataset/output/figures/cm_model_tuned_\"+model_name+\"_{}.jpg\".format(fold_name))\n",
        "    \n",
        "  \n",
        "    plt.xlabel('False Positive Rate', size=14)\n",
        "    plt.ylabel('True Positive Rate', size=14)\n",
        "    plt.legend(loc='best')\n",
        "    #plt.savefig('roc.png', bbox_inches='tight', pad_inches=1)\n",
        "    \n",
        "    ## END PLOTS\n",
        "    plt.tight_layout();\n",
        "    \n",
        "    ## Summary Statistics\n",
        "    \n",
        "    accuracy = np.trace(cm) / np.sum(cm)\n",
        "    precision = np.diag(cm) / np.sum(cm, axis = 0)\n",
        "    precision = np.mean(precision)  \n",
        "    recall = np.diag(cm) / np.sum(cm, axis = 1)\n",
        "    recall = np.mean(recall)\n",
        "    f1 = 2 * (precision * recall) / (precision + recall)\n",
        "    TN = np.sum(np.diag(cm)) - np.sum(cm)\n",
        "    FP = np.sum(cm, axis=0) - np.diag(cm)\n",
        "    specificity = TN / (TN+FP) # % negative out of all supposed to be negatives\n",
        "    specificity = np.mean(specificity)\n",
        "    \n",
        "    stats_summary = '[Summary Statistics]\\nAccuracy = {:.2%} | Precision = {:.2%} | Recall = {:.2%} | Specificity = {:.2%} | F1 Score = {:.2%}'.format(accuracy, precision, recall, specificity, f1)\n",
        "    print(stats_summary)"
      ],
      "metadata": {
        "id": "kvUhMiImAb4w"
      },
      "execution_count": 89,
      "outputs": []
    },
    {
      "cell_type": "code",
      "execution_count": 90,
      "metadata": {
        "id": "ggHEpWwRUJLg",
        "colab": {
          "base_uri": "https://localhost:8080/",
          "height": 1000
        },
        "outputId": "6990e1ae-16f0-4ead-b5e4-d45c8e77fad3"
      },
      "outputs": [
        {
          "output_type": "stream",
          "name": "stdout",
          "text": [
            "5/5 [==============================] - 42s 8s/step\n",
            "[0 0 1 1 1 1 1 1 2 2 2 2 2 2 2 2 2 2 2 2 2 2 2 2 2 2 2 2 2 2 2 2 2 2 2 3 3\n",
            " 3 3 3 3 3 3 3 3 3 3 3 3 3 3 3 3 3 3 3 3 3 3 3 3 3 3 3 3 3]\n",
            "[[0.24449372 0.22252685 0.34021    0.19276942]\n",
            " [0.22623609 0.22837521 0.35611102 0.1892777 ]\n",
            " [0.24708912 0.2224715  0.3502042  0.18023513]\n",
            " [0.23886633 0.22526743 0.35251004 0.18335621]\n",
            " [0.22642684 0.2275158  0.3584959  0.1875616 ]\n",
            " [0.23922744 0.22384304 0.34984767 0.18708175]\n",
            " [0.23957992 0.22369996 0.34412253 0.19259761]\n",
            " [0.23746619 0.22378007 0.34382564 0.19492814]\n",
            " [0.22789305 0.22934616 0.3530397  0.18972103]\n",
            " [0.24815117 0.22295538 0.35505012 0.17384328]\n",
            " [0.22680637 0.22788063 0.35803103 0.18728203]\n",
            " [0.22597142 0.2270921  0.35982972 0.18710676]\n",
            " [0.22862868 0.23023136 0.3475487  0.19359131]\n",
            " [0.22872804 0.22931774 0.34982285 0.19213139]\n",
            " [0.24611418 0.22715956 0.33786288 0.18886344]\n",
            " [0.22761531 0.22881842 0.3532347  0.19033143]\n",
            " [0.22797506 0.22798944 0.35509345 0.18894212]\n",
            " [0.22893253 0.22873923 0.35286626 0.18946196]\n",
            " [0.24454269 0.22186491 0.3463079  0.1872845 ]\n",
            " [0.23260729 0.22917469 0.34781295 0.19040509]\n",
            " [0.22585206 0.22703959 0.35926753 0.18784083]\n",
            " [0.22788863 0.22742286 0.35762885 0.18705972]\n",
            " [0.22686383 0.2298569  0.35492787 0.18835145]\n",
            " [0.25515655 0.20937012 0.34502497 0.19044825]\n",
            " [0.22603959 0.22840887 0.35690054 0.18865092]\n",
            " [0.22999264 0.22695394 0.35457548 0.18847796]\n",
            " [0.2538134  0.21382    0.34117228 0.19119431]\n",
            " [0.22681227 0.22936058 0.35335466 0.1904725 ]\n",
            " [0.2659688  0.21708412 0.32999405 0.18695302]\n",
            " [0.25104725 0.22123784 0.33830744 0.18940753]\n",
            " [0.2805936  0.19782926 0.34248042 0.17909668]\n",
            " [0.2270748  0.22881177 0.35528708 0.18882632]\n",
            " [0.22888485 0.22747907 0.3555267  0.18810935]\n",
            " [0.22934107 0.22408527 0.36149684 0.18507677]\n",
            " [0.22627528 0.22770806 0.35694295 0.18907364]\n",
            " [0.22892606 0.22991754 0.34760025 0.19355612]\n",
            " [0.24212894 0.22730276 0.342763   0.18780525]\n",
            " [0.24416794 0.22110635 0.33235374 0.20237184]\n",
            " [0.22617501 0.22779705 0.35680595 0.18922202]\n",
            " [0.23116122 0.22766365 0.34975323 0.19142185]\n",
            " [0.25711933 0.20814441 0.347059   0.18767717]\n",
            " [0.23699424 0.22403525 0.34842336 0.1905471 ]\n",
            " [0.25851855 0.21310918 0.3392785  0.18909374]\n",
            " [0.22924396 0.23023544 0.34753203 0.19298863]\n",
            " [0.3133197  0.18921942 0.33492032 0.16254058]\n",
            " [0.22609532 0.22776096 0.35860762 0.18753603]\n",
            " [0.24645986 0.22382466 0.3437805  0.18593498]\n",
            " [0.22603457 0.22714068 0.35853916 0.1882855 ]\n",
            " [0.22990654 0.22961208 0.34637278 0.19410855]\n",
            " [0.22548583 0.22743642 0.3609692  0.1861086 ]\n",
            " [0.24756512 0.21756768 0.35202622 0.18284099]\n",
            " [0.28541037 0.19989145 0.33694008 0.17775805]\n",
            " [0.22812678 0.22635245 0.35756782 0.18795301]\n",
            " [0.22696525 0.23018438 0.35184783 0.1910025 ]\n",
            " [0.2287924  0.22798245 0.3529048  0.1903204 ]\n",
            " [0.32032204 0.18897916 0.32815245 0.16254638]\n",
            " [0.22808476 0.22946772 0.35227484 0.19017254]\n",
            " [0.22846717 0.22708885 0.35548612 0.18895775]\n",
            " [0.24264464 0.22274326 0.35056764 0.18404444]\n",
            " [0.29666653 0.20750444 0.325729   0.1700999 ]\n",
            " [0.22899745 0.22826679 0.35297373 0.18976195]\n",
            " [0.22828726 0.22900908 0.35172302 0.19098063]\n",
            " [0.24587129 0.2232736  0.34723932 0.18361574]\n",
            " [0.22886647 0.22918116 0.35075647 0.19119592]\n",
            " [0.22478603 0.22984877 0.35778308 0.1875821 ]\n",
            " [0.23188128 0.2273207  0.34833112 0.19246686]]\n",
            "[2 2 2 2 2 2 2 2 2 2 2 2 2 2 2 2 2 2 2 2 2 2 2 2 2 2 2 2 2 2 2 2 2 2 2 2 2\n",
            " 2 2 2 2 2 2 2 2 2 2 2 2 2 2 2 2 2 2 2 2 2 2 2 2 2 2 2 2 2]\n"
          ]
        },
        {
          "output_type": "stream",
          "name": "stderr",
          "text": [
            "WARNING:matplotlib.legend:No handles with labels found to put in legend.\n",
            "<ipython-input-89-ae5451aa6547>:77: RuntimeWarning: invalid value encountered in true_divide\n",
            "  precision = np.diag(cm) / np.sum(cm, axis = 0)\n",
            "<ipython-input-89-ae5451aa6547>:84: RuntimeWarning: divide by zero encountered in true_divide\n",
            "  specificity = TN / (TN+FP) # % negative out of all supposed to be negatives\n"
          ]
        },
        {
          "output_type": "stream",
          "name": "stdout",
          "text": [
            "[Summary Statistics]\n",
            "Accuracy = 40.91% | Precision = nan% | Recall = 25.00% | Specificity = -inf% | F1 Score = nan%\n"
          ]
        },
        {
          "output_type": "display_data",
          "data": {
            "text/plain": [
              "<Figure size 936x720 with 4 Axes>"
            ],
            "image/png": "[encoded data removed]"
          },
          "metadata": {}
        }
      ],
      "source": [
        "create_charts(model, history)"
      ]
    },
    {
      "cell_type": "code",
      "execution_count": 91,
      "metadata": {
        "id": "dGdxcoqPCV9u",
        "colab": {
          "base_uri": "https://localhost:8080/",
          "height": 127
        },
        "outputId": "3803b724-4a5f-4da8-a0df-2a06e3eee8a5"
      },
      "outputs": [
        {
          "output_type": "execute_result",
          "data": {
            "text/plain": [
              "\"# store results\\nacc = history.history['auc']\\nval_acc = history.history['val_auc']\\nloss = history.history['loss']\\nval_loss = history.history['val_loss']\\n \\n \\n# plot results\\n# accuracy\\nplt.figure(figsize=(10, 16))\\nplt.rcParams['figure.figsize'] = [16, 9]\\nplt.rcParams['font.size'] = 14\\nplt.rcParams['axes.grid'] = True\\nplt.rcParams['figure.facecolor'] = 'white'\\nplt.subplot(2, 1, 1)\\nplt.plot(acc, label='Training Accuracy')\\nplt.plot(val_acc, label='Validation Accuracy')\\nplt.legend(loc='lower right')\\nplt.ylabel('Accuracy')\\nplt.title(f'\\nTraining and Validation Accuracy. \\nTrain Accuracy:{str(acc[-1])}\\nValidation Accuracy: {str(val_acc[-1])}')\""
            ],
            "application/vnd.google.colaboratory.intrinsic+json": {
              "type": "string"
            }
          },
          "metadata": {},
          "execution_count": 91
        }
      ],
      "source": [
        "\"\"\"# store results\n",
        "acc = history.history['auc']\n",
        "val_acc = history.history['val_auc']\n",
        "loss = history.history['loss']\n",
        "val_loss = history.history['val_loss']\n",
        " \n",
        " \n",
        "# plot results\n",
        "# accuracy\n",
        "plt.figure(figsize=(10, 16))\n",
        "plt.rcParams['figure.figsize'] = [16, 9]\n",
        "plt.rcParams['font.size'] = 14\n",
        "plt.rcParams['axes.grid'] = True\n",
        "plt.rcParams['figure.facecolor'] = 'white'\n",
        "plt.subplot(2, 1, 1)\n",
        "plt.plot(acc, label='Training Accuracy')\n",
        "plt.plot(val_acc, label='Validation Accuracy')\n",
        "plt.legend(loc='lower right')\n",
        "plt.ylabel('Accuracy')\n",
        "plt.title(f'\\nTraining and Validation Accuracy. \\nTrain Accuracy:{str(acc[-1])}\\nValidation Accuracy: {str(val_acc[-1])}')\"\"\""
      ]
    },
    {
      "cell_type": "code",
      "execution_count": 92,
      "metadata": {
        "id": "lingEFbGJFez",
        "colab": {
          "base_uri": "https://localhost:8080/",
          "height": 72
        },
        "outputId": "4f4e8898-4ade-47db-b635-1ab871000f31"
      },
      "outputs": [
        {
          "output_type": "execute_result",
          "data": {
            "text/plain": [
              "\"# loss\\nplt.subplot(2, 1, 2)\\nplt.plot(loss, label='Training Loss')\\nplt.plot(val_loss, label='Validation Loss')\\nplt.legend(loc='upper right')\\nplt.ylabel('Cross Entropy')\\nplt.title(f'Training and Validation Loss. \\nTrain Loss:{str(loss[-1])}\\nValidation Loss: {str(val_loss[-1])}')\\nplt.xlabel('epoch')\\nplt.tight_layout(pad=3.0)\\nplt.show()\""
            ],
            "application/vnd.google.colaboratory.intrinsic+json": {
              "type": "string"
            }
          },
          "metadata": {},
          "execution_count": 92
        }
      ],
      "source": [
        "\"\"\"# loss\n",
        "plt.subplot(2, 1, 2)\n",
        "plt.plot(loss, label='Training Loss')\n",
        "plt.plot(val_loss, label='Validation Loss')\n",
        "plt.legend(loc='upper right')\n",
        "plt.ylabel('Cross Entropy')\n",
        "plt.title(f'Training and Validation Loss. \\nTrain Loss:{str(loss[-1])}\\nValidation Loss: {str(val_loss[-1])}')\n",
        "plt.xlabel('epoch')\n",
        "plt.tight_layout(pad=3.0)\n",
        "plt.show()\"\"\""
      ]
    },
    {
      "cell_type": "code",
      "execution_count": 93,
      "metadata": {
        "id": "GORNvGrvJaH-",
        "colab": {
          "base_uri": "https://localhost:8080/"
        },
        "outputId": "94b44f67-c64e-45b0-c0f9-29217c83b51b"
      },
      "outputs": [
        {
          "output_type": "stream",
          "name": "stdout",
          "text": [
            "5/5 [==============================] - 42s 8s/step - loss: 1.4035 - auc_4: 0.4435\n",
            "[1.4035300016403198, 0.44348788261413574]\n",
            "Accuracy: 44.3488%\n",
            "Loss:  1.4035300016403198\n"
          ]
        }
      ],
      "source": [
        "accuracy_score = model.evaluate(test_generator)\n",
        "print(accuracy_score)\n",
        "print(\"Accuracy: {:.4f}%\".format(accuracy_score[1] * 100))\n",
        " \n",
        "print(\"Loss: \",accuracy_score[0])"
      ]
    }
  ]
}