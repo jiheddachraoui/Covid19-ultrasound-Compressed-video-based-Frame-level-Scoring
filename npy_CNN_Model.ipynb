{
  "cells": [
    {
      "cell_type": "markdown",
      "metadata": {
        "id": "view-in-github",
        "colab_type": "text"
      },
      "source": [
        "<a href=\"https://colab.research.google.com/github/jiheddachraoui/Covid19-ultrasound-video-scoring/blob/main/npy_CNN_Model.ipynb\" target=\"_parent\"><img src=\"https://colab.research.google.com/assets/colab-badge.svg\" alt=\"Open In Colab\"/></a>"
      ]
    },
    {
      "cell_type": "markdown",
      "metadata": {
        "id": "UfuqyGdp0cM7"
      },
      "source": [
        "# scoring using Convolutional Neural Network (CNN)"
      ]
    },
    {
      "cell_type": "markdown",
      "metadata": {
        "id": "exCuSrEN0cM7"
      },
      "source": [
        "## Import The Required Libraries"
      ]
    },
    {
      "cell_type": "code",
      "execution_count": 12,
      "metadata": {
        "colab": {
          "base_uri": "https://localhost:8080/"
        },
        "id": "7IU3as4W0cM7",
        "outputId": "b236a2f8-269f-49ef-8db4-11e353258fee"
      },
      "outputs": [
        {
          "output_type": "stream",
          "name": "stdout",
          "text": [
            "Drive already mounted at /content/gdrive; to attempt to forcibly remount, call drive.mount(\"/content/gdrive\", force_remount=True).\n"
          ]
        }
      ],
      "source": [
        "# basics\n",
        "import sys\n",
        "from google.colab import drive\n",
        "drive.mount('/content/gdrive')\n",
        "import numpy as np \n",
        "import matplotlib.pyplot as plt\n",
        "import pandas as pd\n",
        "import seaborn as sns\n",
        "from sklearn.metrics import classification_report, confusion_matrix\n",
        "from sklearn.metrics import roc_curve\n",
        "from sklearn.metrics import roc_auc_score\n",
        "from sklearn.metrics import auc\n",
        "import cv2\n",
        "import pickle \n",
        "import glob\n",
        "import shutil\n",
        "# Keras Libraries\n",
        "import keras\n",
        "import tensorflow as tf\n",
        "from keras import backend as K\n",
        "from keras import metrics\n",
        "from tensorflow.keras.utils import load_img, img_to_array\n",
        "from keras.callbacks import ModelCheckpoint, EarlyStopping, TensorBoard, ReduceLROnPlateau\n",
        "from keras.regularizers import l2\n",
        "from keras.models import Sequential\n",
        "from keras.layers import Conv2D, MaxPooling2D, Flatten, Dense, Dropout, BatchNormalization, InputLayer, Activation\n",
        "from keras.utils import  load_img\n",
        "from keras.preprocessing.image import ImageDataGenerator\n",
        "from keras.metrics import AUC\n",
        "from keras.optimizers import Adam\n",
        "from keras.callbacks import EarlyStopping\n",
        "from sklearn.metrics import classification_report, confusion_matrix\n",
        "import keras.backend\n",
        "import os\n",
        "import random\n",
        "import time\n",
        "import datetime\n",
        "from tensorflow.python.framework import ops\n",
        "import inspect\n",
        "import gc"
      ]
    },
    {
      "cell_type": "markdown",
      "metadata": {
        "id": "-txyLjSbeifK"
      },
      "source": [
        "## utility functions"
      ]
    },
    {
      "cell_type": "code",
      "execution_count": 13,
      "metadata": {
        "id": "RI2-jctMeP0-"
      },
      "outputs": [],
      "source": [
        "# print date and time for given type of representation\n",
        "def date_time(x):\n",
        "    if x==1:\n",
        "        return 'Timestamp: {:%Y-%m-%d %H:%M:%S}'.format(datetime.datetime.now())\n",
        "    if x==2:    \n",
        "        return 'Timestamp: {:%Y-%b-%d %H:%M:%S}'.format(datetime.datetime.now())\n",
        "    if x==3:  \n",
        "        return 'Date now: %s' % datetime.datetime.now()\n",
        "    if x==4:  \n",
        "        return 'Date today: %s' % datetime.date.today() "
      ]
    },
    {
      "cell_type": "code",
      "execution_count": 14,
      "metadata": {
        "id": "eshN2RCXepJg"
      },
      "outputs": [],
      "source": [
        "# reset tensorflow graph tp free up memory and resource allocation \n",
        "def reset_graph(model=None):\n",
        "    if model:\n",
        "        try:\n",
        "            del model\n",
        "        except:\n",
        "            return False\n",
        "    \n",
        "   \n",
        "    ops.reset_default_graph()\n",
        "    K.clear_session()\n",
        "    \n",
        "    gc.collect()\n",
        "    \n",
        "    return True\n",
        "\n",
        "\n",
        "# reset callbacks \n",
        "def reset_callbacks(checkpoint=None, reduce_lr=None, early_stopping=None, tensorboard=None):\n",
        "    checkpoint = None\n",
        "    reduce_lr = None\n",
        "    early_stopping = None\n",
        "    tensorboard = None"
      ]
    },
    {
      "cell_type": "code",
      "execution_count": 15,
      "metadata": {
        "id": "bQMObDy_hqRZ"
      },
      "outputs": [],
      "source": [
        "def create_directory(directory_path, remove=False):\n",
        "    if remove and os.path.exists(directory_path):\n",
        "        try:\n",
        "            shutil.rmtree(directory_path)\n",
        "            os.mkdir(directory_path)\n",
        "        except:\n",
        "            print(\"Could not remove directory : \", directory_path)\n",
        "            return False\n",
        "    else:\n",
        "        try:\n",
        "            os.mkdir(directory_path)\n",
        "        except:\n",
        "            print(\"Could not create directory: \", directory_path)\n",
        "            return False\n",
        "        \n",
        "    return True\n",
        "\n",
        "# Removes directory, if directory exists \n",
        "def remove_directory(directory_path):\n",
        "    if os.path.exists(directory_path):\n",
        "        try:\n",
        "            shutil.rmtree(directory_path)\n",
        "        except:\n",
        "            print(\"Could not remove directory : \", directory_path)\n",
        "            return False\n",
        "        \n",
        "    return True\n",
        "\n",
        "def clear_directory(directory_path):\n",
        "    dirs_files = os.listdir(directory_path)\n",
        "    \n",
        "    for item in dirs_files:\n",
        "#         item_path = os.path.join(directory_path, item)\n",
        "        item_path = directory_path+ item\n",
        "        \n",
        "        try:\n",
        "            if os.path.isfile(item_path):\n",
        "                os.unlink(item_path)\n",
        "            elif os.path.isdir(item_path): \n",
        "                shutil.rmtree(item_path)\n",
        "        except Exception as e:\n",
        "            print(e)\n",
        "            \n",
        "    return True\n",
        "\n",
        "\n",
        "def remove_empty_folders(path, removeRoot=True):\n",
        "    if not os.path.isdir(path):\n",
        "        return\n",
        "    \n",
        "    # remove empty subfolders\n",
        "    files = os.listdir(path)\n",
        "    \n",
        "    if len(files):\n",
        "        for f in files:\n",
        "            fullpath = os.path.join(path, f)\n",
        "            \n",
        "            if os.path.isdir(fullpath):\n",
        "                remove_empty_folders(fullpath)\n",
        "\n",
        "    # if folder empty, delete it\n",
        "    files = os.listdir(path)\n",
        "    \n",
        "    if len(files) == 0 and removeRoot:\n",
        "        print(\"Removing empty folder:\", path)\n",
        "        os.rmdir(path)\n",
        "        \n",
        "        \n",
        "def dir_file_count(directory):\n",
        "    return sum([len(files) for r, d, files in os.walk(directory)])"
      ]
    },
    {
      "cell_type": "code",
      "execution_count": 16,
      "metadata": {
        "id": "fmSqutyd-nCA"
      },
      "outputs": [],
      "source": [
        "def create_charts(cnn, cnn_model):\n",
        "    ## Define train & validation loss\n",
        "    train_loss = cnn_model.history['loss']\n",
        "    val_loss = cnn_model.history['val_loss']\n",
        "    \n",
        "    ## Define train & validation AUC\n",
        "    train_auc_name = list(cnn_model.history.keys())[3]\n",
        "    val_auc_name = list(cnn_model.history.keys())[1]\n",
        "    train_auc = cnn_model.history[train_auc_name]\n",
        "    val_auc = cnn_model.history[val_auc_name]\n",
        "    \n",
        "    ## Define y_pred & y_true\n",
        "    y_true = test_generator.classes\n",
        "    Y_pred = cnn.predict_generator(test_generator, steps = len(test_generator))\n",
        "    y_pred = (Y_pred > 0.5).T[0]\n",
        "    y_pred_prob = Y_pred.T[0]\n",
        "    \n",
        "    ## PLOT ##\n",
        "    fig = plt.figure(figsize=(13, 10))\n",
        "    \n",
        "    ## PLOT 1: TRAIN VS. VALIDATION LOSS \n",
        "    plt.subplot(2,2,1)\n",
        "    plt.title(\"Training vs. Validation Loss\")\n",
        "    plt.plot(train_loss, label='training loss')\n",
        "    plt.plot(val_loss, label='validation loss')\n",
        "    plt.xlabel(\"Number of Epochs\", size=14)\n",
        "    plt.legend()\n",
        "\n",
        "    ## PLOT 2: TRAIN VS. VALIDATION AUC\n",
        "    plt.subplot(2,2,2)\n",
        "    plt.title(\"Training vs. Validation AUC Score\")\n",
        "    plt.plot(train_auc, label='training auc')\n",
        "    plt.plot(val_auc, label='validation auc')\n",
        "    plt.xlabel(\"Number of Epochs\", size=14)\n",
        "    plt.legend()\n",
        "    \n",
        "    ## PLOT 3: CONFUSION MATRIX\n",
        "    plt.subplot(2,2,3)\n",
        "      # Set up the labels for in the confusion matrix\n",
        "    cm = confusion_matrix(y_true, y_pred)\n",
        "    names = ['True Negatives', 'False Positives', 'False Negatives', 'True Positives']\n",
        "    counts = ['{0:0.0f}'.format(value) for value in cm.flatten()]\n",
        "    percentages = ['{0:.2%}'.format(value) for value in cm.flatten()/np.sum(cm)]\n",
        "    labels = [f'{v1}\\n{v2}' for v1, v2 in zip(names, percentages)]\n",
        "    labels = np.asarray(labels).reshape(2,2)\n",
        "    ticklabels = ['Normal', 'Pneumonia']\n",
        "\n",
        "      # Create confusion matrix as heatmap\n",
        "    sns.set(font_scale = 1.4)\n",
        "    ax = sns.heatmap(cm, annot=labels, fmt='', cmap='Oranges', xticklabels=ticklabels, yticklabels=ticklabels )\n",
        "    plt.xticks(size=12)\n",
        "    plt.yticks(size=12)\n",
        "    plt.title(\"Confusion Matrix\") #plt.title(\"Confusion Matrix\\n\", fontsize=10)\n",
        "    plt.xlabel(\"Predicted\", size=14)\n",
        "    plt.ylabel(\"Actual\", size=14) \n",
        "    #plt.savefig('cm.png', transparent=True) \n",
        "    \n",
        "    ## PLOT 4: ROC CURVE\n",
        "    plt.subplot(2,2,4)\n",
        "    fpr, tpr, thresholds = roc_curve(y_true, y_pred_prob)\n",
        "    auc = roc_auc_score(y_true, y_pred_prob)\n",
        "    plt.title('ROC Curve')\n",
        "    plt.plot([0, 1], [0, 1], 'k--', label = \"Random (AUC = 50%)\")\n",
        "    plt.plot(fpr, tpr, label='CNN (AUC = {:.2f}%)'.format(auc*100))\n",
        "    plt.xlabel('False Positive Rate', size=14)\n",
        "    plt.ylabel('True Positive Rate', size=14)\n",
        "    plt.legend(loc='best')\n",
        "    #plt.savefig('roc.png', bbox_inches='tight', pad_inches=1)\n",
        "    \n",
        "    ## END PLOTS\n",
        "    plt.tight_layout();\n",
        "    \n",
        "    ## Summary Statistics\n",
        "    TN, FP, FN, TP = cm.ravel() # cm[0,0], cm[0, 1], cm[1, 0], cm[1, 1]\n",
        "    accuracy = (TP + TN) / np.sum(cm) # % positive out of all predicted positives\n",
        "    precision = TP / (TP+FP) # % positive out of all predicted positives\n",
        "    recall =  TP / (TP+FN) # % positive out of all supposed to be positives\n",
        "    specificity = TN / (TN+FP) # % negative out of all supposed to be negatives\n",
        "    f1 = 2*precision*recall / (precision + recall)\n",
        "    stats_summary = '[Summary Statistics]\\nAccuracy = {:.2%} | Precision = {:.2%} | Recall = {:.2%} | Specificity = {:.2%} | F1 Score = {:.2%}'.format(accuracy, precision, recall, specificity, f1)\n",
        "    print(stats_summary)"
      ]
    },
    {
      "cell_type": "markdown",
      "metadata": {
        "id": "ZrRD9ORterTQ"
      },
      "source": [
        "## code\n"
      ]
    },
    {
      "cell_type": "code",
      "execution_count": 17,
      "metadata": {
        "colab": {
          "base_uri": "https://localhost:8080/"
        },
        "id": "044vnlVP0cM8",
        "outputId": "4dc34a06-df84-4b9f-d93a-a30fcabd8277"
      },
      "outputs": [
        {
          "output_type": "stream",
          "name": "stdout",
          "text": [
            "Removing empty folder: /content/gdrive/MyDrive/Dataset/output/models/2022-12-04 20-11-16\n"
          ]
        }
      ],
      "source": [
        "\n",
        "\n",
        "input_directory = \"/content/gdrive/MyDrive/Dataset/data1/\"\n",
        "output_directory = \"/content/gdrive/MyDrive/Dataset/output/\"\n",
        "\n",
        "train_path = input_directory + r\"train\"\n",
        "val_path = input_directory + r\"valid\"\n",
        "test_path = input_directory + r\"test\"\n",
        "\n",
        "figure_directory = \"output/figures\" \n",
        "file_name_pred_batch = figure_directory+r\"/result\"\n",
        "file_name_pred_sample = figure_directory+r\"/sample\"\n",
        "\n",
        "main_model_dir = output_directory + r\"models/\"\n",
        "main_log_dir = output_directory + r\"logs/\"\n",
        "\n",
        "\n",
        "clear_directory(main_log_dir)\n",
        "remove_empty_folders(main_model_dir, False)\n",
        "\n",
        "\n",
        "model_dir = main_model_dir + time.strftime('%Y-%m-%d %H-%M-%S') + \"/\"\n",
        "log_dir = main_log_dir + time.strftime('%Y-%m-%d %H-%M-%S')\n",
        "\n",
        "create_directory(model_dir, remove=True)\n",
        "create_directory(log_dir, remove=True)\n",
        "\n",
        "model_file = model_dir + \"{epoch:02d}-val_acc-{val_acc:.2f}-val_loss-{val_loss:.2f}.hdf5\"\n"
      ]
    },
    {
      "cell_type": "code",
      "execution_count": 18,
      "metadata": {
        "id": "Q9I5nUSRexqB"
      },
      "outputs": [],
      "source": [
        "reset_graph()\n",
        "reset_callbacks()"
      ]
    },
    {
      "cell_type": "markdown",
      "metadata": {
        "id": "UTu9IeSrhOzl"
      },
      "source": [
        "### callbacks"
      ]
    },
    {
      "cell_type": "code",
      "execution_count": 19,
      "metadata": {
        "colab": {
          "base_uri": "https://localhost:8080/"
        },
        "id": "Gq6EluX-fYKo",
        "outputId": "ae1ffdd2-be56-4856-9ee4-9588f71a782a"
      },
      "outputs": [
        {
          "output_type": "stream",
          "name": "stderr",
          "text": [
            "WARNING:tensorflow:`batch_size` is no longer needed in the `TensorBoard` Callback and will be ignored in TensorFlow 2.0.\n"
          ]
        },
        {
          "output_type": "stream",
          "name": "stdout",
          "text": [
            "Settting Callbacks at  Timestamp: 2022-12-04 20:11:59\n",
            "Set Callbacks at  Timestamp: 2022-12-04 20:11:59\n"
          ]
        }
      ],
      "source": [
        "print(\"Settting Callbacks at \", date_time(1))\n",
        "batch_size = 4\n",
        "\n",
        "checkpoint = ModelCheckpoint(\n",
        "    model_file, \n",
        "    monitor='val_acc', \n",
        "    save_best_only=True)\n",
        "\n",
        "early_stopping = EarlyStopping(\n",
        "    monitor='val_loss',\n",
        "    patience=5,\n",
        "    verbose=1,\n",
        "    restore_best_weights=True)\n",
        "\n",
        "\n",
        "tensorboard = TensorBoard(\n",
        "    log_dir=log_dir,\n",
        "    batch_size=batch_size,\n",
        "    update_freq = 'batch')\n",
        "\n",
        "\n",
        "reduce_lr = ReduceLROnPlateau(\n",
        "    monitor='val_loss',\n",
        "    patience=5,\n",
        "    cooldown=2,\n",
        "    min_lr=0.0000000001,\n",
        "    verbose=1)\n",
        "\n",
        "\n",
        "#-----------------------------------------------------------------------------------------------------------------#\n",
        "callbacks = [checkpoint, reduce_lr, early_stopping, tensorboard]\n",
        "# callbacks = [checkpoint, tensorboard]\n",
        "#-----------------------------------------------------------------------------------------------------------------#\n",
        "print(\"Set Callbacks at \", date_time(1))"
      ]
    },
    {
      "cell_type": "markdown",
      "metadata": {
        "id": "zzhneEFRlzUM"
      },
      "source": [
        "### preprosessing"
      ]
    },
    {
      "cell_type": "code",
      "execution_count": 20,
      "metadata": {
        "id": "FMFmruAz0cM7"
      },
      "outputs": [],
      "source": [
        "# Set a seed value\n",
        "seed_value= 42\n",
        "\n",
        "os.environ['PYTHONHASHSEED']=str(seed_value)\n",
        "\n",
        "\n",
        "random.seed(seed_value)\n",
        "\n",
        "np.random.seed(seed_value)\n",
        "\n",
        "tf.random.set_seed(seed_value)\n",
        "\n",
        "\n",
        "#6 Configure a new global `tensorflow` session\n",
        "\n",
        "session_conf = tf.compat.v1.ConfigProto(intra_op_parallelism_threads=1, inter_op_parallelism_threads=1)\n",
        "sess = tf.compat.v1.Session(graph=tf.compat.v1.get_default_graph(), config=session_conf)\n",
        "K.set_session(sess)"
      ]
    },
    {
      "cell_type": "code",
      "execution_count": 21,
      "metadata": {
        "id": "pUJRKGr70cM8"
      },
      "outputs": [],
      "source": [
        "batch_size = 4\n",
        "epochs=25\n",
        "hyper_channels = 6\n",
        "\n",
        "#imagesize=(688, 880,6)"
      ]
    },
    {
      "cell_type": "markdown",
      "source": [
        "### Loading dataset"
      ],
      "metadata": {
        "id": "tWryua0pVTm9"
      }
    },
    {
      "cell_type": "code",
      "execution_count": 22,
      "metadata": {
        "id": "VkRazGSD2Kt7"
      },
      "outputs": [],
      "source": [
        "path =\"/content/gdrive/MyDrive/Dataset/data1\"\n",
        "\n",
        "train_score_0=glob.glob(\"/content/gdrive/MyDrive/Dataset/data1/train/score0\"+'**/*.npy',recursive=True)\n",
        "train_score_1=glob.glob(\"/content/gdrive/MyDrive/Dataset/data1/train/score1\"+'**/*.npy',recursive=True)\n",
        "train_score_2=glob.glob(\"/content/gdrive/MyDrive/Dataset/data1/train/score2\"+'**/*.npy',recursive=True)\n",
        "train_score_3=glob.glob(\"/content/gdrive/MyDrive/Dataset/data1/train/score3\"+'**/*.npy',recursive=True)\n",
        "\n",
        "valid_score_0=glob.glob(\"/content/gdrive/MyDrive/Dataset/data1/valid/score0\"+'**/*.npy',recursive=True)\n",
        "valid_score_1=glob.glob(\"/content/gdrive/MyDrive/Dataset/data1/valid/score1\"+'**/*.npy',recursive=True)\n",
        "valid_score_2=glob.glob(\"/content/gdrive/MyDrive/Dataset/data1/valid/score2\"+'**/*.npy',recursive=True)\n",
        "valid_score_3=glob.glob(\"/content/gdrive/MyDrive/Dataset/data1/valid/score3\"+'**/*.npy',recursive=True)\n"
      ]
    },
    {
      "cell_type": "code",
      "execution_count": 24,
      "metadata": {
        "id": "w1olpJpo2ePl"
      },
      "outputs": [],
      "source": [
        "X_train=[]\n",
        "Y_train=[]\n",
        "\n",
        "X_valid=[]\n",
        "Y_valid=[]\n",
        "\n",
        "for i in train_score_0:\n",
        "  X_train.append(np.load(i))\n",
        "  Y_train.append([0,0,0,1])\n",
        "\n",
        "for i in train_score_1:\n",
        "  X_train.append(np.load(i))\n",
        "  Y_train.append([0,0,1,0])\n",
        "\n",
        "for i in train_score_2:\n",
        "  X_train.append(np.load(i))\n",
        "  Y_train.append([0,1,0,0])\n",
        "\n",
        "for i in train_score_3:\n",
        "  X_train.append(np.load(i))\n",
        "  Y_train.append([1,0,0,0])\n",
        "\n",
        "\n",
        "for i in valid_score_0:\n",
        "  X_valid.append(np.load(i))\n",
        "  Y_valid.append([0,0,0,1])\n",
        "\n",
        "for i in valid_score_1:\n",
        "  X_valid.append(np.load(i))\n",
        "  Y_valid.append([0,0,1,0])\n",
        "\n",
        "for i in valid_score_2:\n",
        "  X_valid.append(np.load(i))\n",
        "  Y_valid.append([0,1,0,0])\n",
        "\n",
        "for i in valid_score_3:\n",
        "  X_valid.append(np.load(i))\n",
        "  Y_valid.append([1,0,0,0])\n"
      ]
    },
    {
      "cell_type": "code",
      "execution_count": 25,
      "metadata": {
        "colab": {
          "base_uri": "https://localhost:8080/"
        },
        "id": "kN_8vmK636Yc",
        "outputId": "3bd9ab58-be5d-4ca6-ba68-ddddd44f46b2"
      },
      "outputs": [
        {
          "output_type": "stream",
          "name": "stdout",
          "text": [
            "(69, 688, 880, 6)\n",
            "(151, 4)\n"
          ]
        }
      ],
      "source": [
        "print(np.array(X_valid,dtype=np.uint8).shape)\n",
        "print(np.array(Y_train,dtype=np.uint8).shape)"
      ]
    },
    {
      "cell_type": "code",
      "execution_count": 26,
      "metadata": {
        "id": "dRpmX2o9LI_6"
      },
      "outputs": [],
      "source": [
        "X_train=np.array(X_train)\n",
        "X_valid=np.array(X_valid)\n",
        "Y_valid=np.array(Y_valid)\n",
        "Y_train=np.array(Y_train)"
      ]
    },
    {
      "cell_type": "code",
      "execution_count": 27,
      "metadata": {
        "id": "MXSJm1TzUlN_"
      },
      "outputs": [],
      "source": [
        "train_generator = tf.data.Dataset.from_tensor_slices((X_train, Y_train))\n",
        "\n",
        "train_generator = train_generator.repeat().batch(batch_size)\n",
        "\n",
        "val_generator = tf.data.Dataset.from_tensor_slices((X_valid, Y_valid))\n",
        " \n",
        "val_generator = val_generator.repeat().batch(batch_size)\n"
      ]
    },
    {
      "cell_type": "code",
      "execution_count": 28,
      "metadata": {
        "colab": {
          "base_uri": "https://localhost:8080/",
          "height": 304
        },
        "id": "9J8oS0Wh3SWg",
        "outputId": "9f23014b-6940-4d6d-a0f5-3e41a1ff0950"
      },
      "outputs": [
        {
          "output_type": "stream",
          "name": "stdout",
          "text": [
            "(688, 880, 6)\n",
            "this image label is  [0 0 0 1]\n"
          ]
        },
        {
          "output_type": "display_data",
          "data": {
            "text/plain": [
              "<Figure size 432x288 with 1 Axes>"
            ],
            "image/png": "[encoded data removed]"
          },
          "metadata": {
            "needs_background": "light"
          }
        }
      ],
      "source": [
        "plt.imshow(X_train[0][:,:,:3])\n",
        "print(X_train[5].shape)\n",
        "print('this image label is ',Y_train[0])"
      ]
    },
    {
      "cell_type": "markdown",
      "metadata": {
        "id": "mjr15Vb47t5h"
      },
      "source": [
        "### other thing"
      ]
    },
    {
      "cell_type": "code",
      "execution_count": null,
      "metadata": {
        "id": "QR7jFInMC6Sl"
      },
      "outputs": [],
      "source": [
        "'''datafiles=[]\n",
        "labels=[]\n",
        "features=[]\n",
        "\n",
        "def get_train_data():\n",
        "  \n",
        "  for root, dirs, files in os.walk(train_path, topdown=False):\n",
        "    for v in files: \n",
        "      if v.split('.')[1]=='npy':    \n",
        "          p=os.path.join(root, v)\n",
        "          datafiles.append(p)\n",
        "  for file in datafiles:\n",
        "      img=np.load(file)\n",
        "      label=os.path.dirname(p).split('/')[-1]\n",
        "      if label=='score0':\n",
        "        label=0\n",
        "      if label=='score1':\n",
        "        label=1\n",
        "      if label=='score2':\n",
        "        label=2\n",
        "      if label=='score3':\n",
        "        label=3\n",
        "      labels.append(labels)\n",
        "      features.append(img)\n",
        "      example = (img, label)\n",
        "      \n",
        "      \n",
        "      yield example  # yield in a loop\n",
        "\n",
        "def get_valid_data():\n",
        "  \n",
        "  for root, dirs, files in os.walk(val_path, topdown=False):\n",
        "    for v in files: \n",
        "      if v.split('.')[1]=='npy':    \n",
        "          p=os.path.join(root, v)\n",
        "          datafiles.append(p)\n",
        "  for file in datafiles:\n",
        "      img=np.load(file)\n",
        "      label=os.path.dirname(p).split('/')[-1]\n",
        "      if label=='score0':\n",
        "        label=0\n",
        "      if label=='score1':\n",
        "        label=1\n",
        "      if label=='score2':\n",
        "        label=2\n",
        "      if label=='score3':\n",
        "        label=3\n",
        "      labels.append(labels)\n",
        "      features.append(img)\n",
        "      example = (img, label)\n",
        "      \n",
        "      yield example  # yield in a loop\n",
        "\n",
        "def get_test_data():\n",
        "  \n",
        "  for root, dirs, files in os.walk(test_path, topdown=False):\n",
        "    for v in files: \n",
        "      if v.split('.')[1]=='npy':    \n",
        "          p=os.path.join(root, v)\n",
        "          datafiles.append(p)\n",
        "  for file in datafiles:\n",
        "      img=np.load(file)\n",
        "      label=os.path.dirname(p).split('/')[-1]\n",
        "      if label=='score0':\n",
        "        label=0\n",
        "      if label=='score1':\n",
        "        label=1\n",
        "      if label=='score2':\n",
        "        label=2\n",
        "      if label=='score3':\n",
        "        label=3\n",
        "      labels.append(labels)\n",
        "      features.append(img)\n",
        "      example = (img, label)\n",
        "      \n",
        "      \n",
        "      yield example  # yield in a loop\n",
        "     \n",
        "\n",
        "#dataset = tf.data.Dataset.from_generator(get_npy_data, output_types=(tf.float32, tf.int32)).batch(batch_size)\n",
        "\n",
        "#x,y = next(iter(dataset))\n",
        "#x.shape'''\n"
      ]
    },
    {
      "cell_type": "code",
      "execution_count": null,
      "metadata": {
        "id": "mEmQB-Lg0cM8"
      },
      "outputs": [],
      "source": [
        "'''train_generator = tf.data.Dataset.from_generator(get_train_data, output_types=(tf.float32, tf.int8)).repeat().batch(batch_size)\n",
        "val_generator = tf.data.Dataset.from_generator(get_valid_data, output_types=(tf.float32, tf.int8)).repeat().batch(batch_size)\n",
        "\n",
        "test_generator = tf.data.Dataset.from_generator(get_test_data, output_types=(tf.float32, tf.int8)).repeat().batch(batch_size)\n",
        "\n",
        "'''"
      ]
    },
    {
      "cell_type": "code",
      "execution_count": null,
      "metadata": {
        "id": "fgfidq8346qn"
      },
      "outputs": [],
      "source": [
        "'''x,y = next(train_generator.as_numpy_iterator())\n",
        "len(x)\n",
        "'''"
      ]
    },
    {
      "cell_type": "code",
      "execution_count": null,
      "metadata": {
        "id": "ySiMJpNnt3Wi"
      },
      "outputs": [],
      "source": [
        "'''import matplotlib.pyplot as plt\n",
        "\n",
        "for inputs, outputs in train_generator.as_numpy_iterator():\n",
        "    # Verify the shapes are still as we expect\n",
        "    print(\"Input shape is:\", inputs.shape, \"output shape is:\", outputs.shape)\n",
        "\n",
        "    # Print the first element and the label\n",
        "    #plt.imshow(inputs[0,:])\n",
        "    #plt.show()\n",
        "    print('label of this input is', outputs[3])\n",
        "    \n",
        "    # Break now. We only want to visualise the first example\n",
        "    break'''"
      ]
    },
    {
      "cell_type": "code",
      "execution_count": null,
      "metadata": {
        "id": "OX8NyzKs5Zlo"
      },
      "outputs": [],
      "source": [
        "\"\"\"a = train_generator.class_indices\n",
        "class_names = list(a.keys())  # storing class/breed names in a list\n",
        " \n",
        " \n",
        "def plot_images(img, labels):\n",
        "    plt.figure(figsize=[15, 10])\n",
        "    for i in range(batch_size):\n",
        "        plt.subplot(5, 5, i+1)\n",
        "        plt.imshow(img[i])\n",
        "        plt.title(class_names[np.argmax(labels[i])])\n",
        "        plt.axis('off')\n",
        " \n",
        "plot_images(x,y)\"\"\""
      ]
    },
    {
      "cell_type": "markdown",
      "metadata": {
        "id": "AgR0YAgrktB1"
      },
      "source": [
        "## Model"
      ]
    },
    {
      "cell_type": "code",
      "execution_count": 29,
      "metadata": {
        "id": "APl-Zi7uXZNs"
      },
      "outputs": [],
      "source": [
        "STEP_SIZE_TRAIN = len(X_train)//batch_size\n",
        "STEP_SIZE_VALID = len(X_valid)//batch_size\n",
        "\n",
        "cnn = tf.keras.Sequential()\n",
        "cnn.add(tf.keras.layers.InputLayer(input_shape=(688, 880,6)))\n",
        "#here\n",
        "cnn.add(Conv2D(16, (5, 5), activation='relu', padding=\"same\", input_shape=(688, 880,6)))\n",
        "cnn.add(Conv2D(16, (5, 5), padding=\"same\", activation='relu'))\n",
        "cnn.add(MaxPooling2D(pool_size=(5, 5)))\n",
        "\n",
        "cnn.add(Conv2D(32, (5, 5), activation='relu', padding=\"same\", input_shape=(688, 880,6)))\n",
        "cnn.add(Conv2D(32, (5,5), padding=\"same\", activation='relu'))\n",
        "cnn.add(MaxPooling2D(pool_size=(5, 5)))\n",
        "\n",
        "cnn.add(Conv2D(64, (3, 3), activation='relu', padding=\"same\"))\n",
        "cnn.add(Conv2D(64, (3, 3), padding=\"same\", activation='relu'))\n",
        "cnn.add(MaxPooling2D(pool_size=(3, 3)))\n",
        "cnn.add(tf.keras.layers.Conv2D(filters=32, kernel_size=3, padding=\"same\", activation='relu'))\n",
        "cnn.add(tf.keras.layers.MaxPooling2D(pool_size=(2,2)))\n",
        "\n",
        "cnn.add(tf.keras.layers.Conv2D(filters=32, kernel_size=3, padding=\"same\", activation='relu'))\n",
        "\n",
        "\n",
        "cnn.add(tf.keras.layers.Conv2D(filters=32, kernel_size=3, padding=\"same\", activation='relu'))\n",
        "cnn.add(tf.keras.layers.BatchNormalization(renorm=True)),\n",
        "\n",
        "\n",
        "\n",
        "cnn.add(Conv2D(96, (3, 3), padding=\"valid\", activation='relu'))\n",
        "cnn.add(MaxPooling2D(pool_size=(2, 2)))\n",
        "\n",
        "cnn.add(Conv2D(128, (3, 3), dilation_rate=(2, 2), activation='relu', padding=\"same\"))\n",
        "cnn.add(Conv2D(128, (3, 3), padding=\"same\", activation='relu'))\n",
        "\n",
        "cnn.add(tf.keras.layers.Dense(activation='relu', units=128))\n",
        "\n",
        "\n",
        "cnn.add(Dense(32, activation='relu'))\n",
        "cnn.add(tf.keras.layers.Flatten())\n",
        "cnn.add(Dropout(0.25, seed=seed_value))\n",
        "\n",
        "cnn.add(tf.keras.layers.Dense(activation='softmax', units=4))\n",
        "#here\n",
        "'''cnn.add(tf.keras.layers.Conv2D(filters=32, kernel_size=3, activation='relu'))\n",
        "cnn.add(tf.keras.layers.MaxPooling2D(pool_size=(2,2)))\n",
        "\n",
        "cnn.add(tf.keras.layers.Conv2D(filters=32, kernel_size=3, activation='relu'))\n",
        "cnn.add(tf.keras.layers.MaxPooling2D(pool_size=(2,2)))\n",
        "\n",
        "cnn.add(tf.keras.layers.Conv2D(filters=32, kernel_size=3, activation='relu'))\n",
        "cnn.add(tf.keras.layers.MaxPooling2D(pool_size=(2,2)))\n",
        "\n",
        "cnn.add(tf.keras.layers.Flatten())\n",
        "cnn.add(Dropout(0.4))\n",
        "cnn.add(tf.keras.layers.Dense(activation='relu', units=128))\n",
        "cnn.add(tf.keras.layers.Dense(activation='softmax', units=4))'''\n",
        "\n",
        "cnn.compile(optimizer=keras.optimizers.Adam(learning_rate=.001),loss='categorical_crossentropy',metrics=['accuracy'])\n"
      ]
    },
    {
      "cell_type": "code",
      "execution_count": 31,
      "metadata": {
        "colab": {
          "base_uri": "https://localhost:8080/"
        },
        "id": "fnvWGqt7YBR0",
        "outputId": "f71a0fe6-3bf8-40ad-c204-e0a6224e9cb1"
      },
      "outputs": [
        {
          "output_type": "stream",
          "name": "stdout",
          "text": [
            "Model: \"sequential\"\n",
            "_________________________________________________________________\n",
            " Layer (type)                Output Shape              Param #   \n",
            "=================================================================\n",
            " conv2d (Conv2D)             (None, 688, 880, 16)      2416      \n",
            "                                                                 \n",
            " conv2d_1 (Conv2D)           (None, 688, 880, 16)      6416      \n",
            "                                                                 \n",
            " max_pooling2d (MaxPooling2D  (None, 137, 176, 16)     0         \n",
            " )                                                               \n",
            "                                                                 \n",
            " conv2d_2 (Conv2D)           (None, 137, 176, 32)      12832     \n",
            "                                                                 \n",
            " conv2d_3 (Conv2D)           (None, 137, 176, 32)      25632     \n",
            "                                                                 \n",
            " max_pooling2d_1 (MaxPooling  (None, 27, 35, 32)       0         \n",
            " 2D)                                                             \n",
            "                                                                 \n",
            " conv2d_4 (Conv2D)           (None, 27, 35, 64)        18496     \n",
            "                                                                 \n",
            " conv2d_5 (Conv2D)           (None, 27, 35, 64)        36928     \n",
            "                                                                 \n",
            " max_pooling2d_2 (MaxPooling  (None, 9, 11, 64)        0         \n",
            " 2D)                                                             \n",
            "                                                                 \n",
            " conv2d_6 (Conv2D)           (None, 9, 11, 32)         18464     \n",
            "                                                                 \n",
            " max_pooling2d_3 (MaxPooling  (None, 4, 5, 32)         0         \n",
            " 2D)                                                             \n",
            "                                                                 \n",
            " conv2d_7 (Conv2D)           (None, 4, 5, 32)          9248      \n",
            "                                                                 \n",
            " conv2d_8 (Conv2D)           (None, 4, 5, 32)          9248      \n",
            "                                                                 \n",
            " conv2d_9 (Conv2D)           (None, 2, 3, 96)          27744     \n",
            "                                                                 \n",
            " max_pooling2d_4 (MaxPooling  (None, 1, 1, 96)         0         \n",
            " 2D)                                                             \n",
            "                                                                 \n",
            " conv2d_10 (Conv2D)          (None, 1, 1, 128)         110720    \n",
            "                                                                 \n",
            " conv2d_11 (Conv2D)          (None, 1, 1, 128)         147584    \n",
            "                                                                 \n",
            " dense (Dense)               (None, 1, 1, 128)         16512     \n",
            "                                                                 \n",
            " dense_1 (Dense)             (None, 1, 1, 32)          4128      \n",
            "                                                                 \n",
            " flatten (Flatten)           (None, 32)                0         \n",
            "                                                                 \n",
            " dropout (Dropout)           (None, 32)                0         \n",
            "                                                                 \n",
            " dense_2 (Dense)             (None, 4)                 132       \n",
            "                                                                 \n",
            "=================================================================\n",
            "Total params: 446,500\n",
            "Trainable params: 446,500\n",
            "Non-trainable params: 0\n",
            "_________________________________________________________________\n"
          ]
        }
      ],
      "source": [
        "cnn.summary()\n",
        "\n",
        "early = tf.keras.callbacks.EarlyStopping( patience=10,\n",
        "                                          min_delta=0.001,\n",
        "                                          restore_best_weights=True)\n"
      ]
    },
    {
      "cell_type": "code",
      "execution_count": 32,
      "metadata": {
        "colab": {
          "base_uri": "https://localhost:8080/"
        },
        "id": "Z0wF2AoAYJLu",
        "outputId": "665f280f-b6e8-484b-ed21-1c733809a3a2"
      },
      "outputs": [
        {
          "output_type": "stream",
          "name": "stdout",
          "text": [
            "37/37 [==============================] - 18s 161ms/step - loss: 82.9529 - accuracy: 0.2635 - val_loss: 1.3865 - val_accuracy: 0.4706\n"
          ]
        }
      ],
      "source": [
        "history = cnn.fit(train_generator.repeat(),\n",
        "                    steps_per_epoch=STEP_SIZE_TRAIN,\n",
        "                    validation_data=val_generator.repeat(),\n",
        "                    validation_steps=STEP_SIZE_VALID,\n",
        "                    epochs=epochs,\n",
        "                    batch_size=batch_size,\n",
        "                    callbacks=[early])"
      ]
    },
    {
      "cell_type": "code",
      "execution_count": null,
      "metadata": {
        "id": "MyTaEBLPX_yI"
      },
      "outputs": [],
      "source": [
        "cnn.save(\"/content/gdrive/MyDrive/Dataset/output/models/Model.h5\")"
      ]
    },
    {
      "cell_type": "markdown",
      "source": [
        "### other model"
      ],
      "metadata": {
        "id": "6bBeK0paqx0T"
      }
    },
    {
      "cell_type": "code",
      "execution_count": null,
      "metadata": {
        "id": "lGxNPT3951lM"
      },
      "outputs": [],
      "source": [
        "''''# load the InceptionResNetV2 architecture with imagenet weights as base\n",
        "base_model = tf.keras.applications.resnet_rs.ResNetRS420(\n",
        "                     include_top=False,\n",
        "                     weights='imagenet',\n",
        "                     input_shape=(688, 880,6))\n",
        " \n",
        "base_model.trainable=True\n",
        "\n",
        "# For freezing the layer we make use of layer.trainable = False\n",
        "# means that its internal state will not change during training.\n",
        "# model's trainable weights will not be updated during fit(),\n",
        "# and also its state updates will not run.\n",
        " \n",
        "model = tf.keras.Sequential([\n",
        "        base_model,  \n",
        "        \n",
        "        tf.keras.layers.BatchNormalization(renorm=True),\n",
        "        tf.keras.layers.GlobalAveragePooling2D(),\n",
        "        tf.keras.layers.Dense(1000, activation='relu'),\n",
        "        tf.keras.layers.Dense(512, activation='relu'),\n",
        "        tf.keras.layers.Dense(256, activation='relu'),\n",
        "        \n",
        "        tf.keras.layers.Dense(128, activation='relu'),\n",
        "        tf.keras.layers.Dense(120, activation='relu'),\n",
        "        tf.keras.layers.Dense(60, activation='relu'),\n",
        "        tf.keras.layers.Dropout(0.4),\n",
        "        tf.keras.layers.Dense(512, activation='relu'),\n",
        "        tf.keras.layers.Dense(4, activation='softmax')\n",
        "    ])\n",
        "for layer in model.layers:\n",
        "        layer.trainable=True''''"
      ]
    },
    {
      "cell_type": "code",
      "execution_count": null,
      "metadata": {
        "id": "3VEG_F4G597a"
      },
      "outputs": [],
      "source": [
        "''''model.compile(optimizer=keras.optimizers.Adam(learning_rate=.001),loss='categorical_crossentropy',metrics=['accuracy'])\n",
        "\n",
        "\n",
        "early = tf.keras.callbacks.EarlyStopping( patience=10,\n",
        "                                          min_delta=0.001,\n",
        "                                          restore_best_weights=True)\n",
        "# early stopping call back''''"
      ]
    },
    {
      "cell_type": "code",
      "execution_count": null,
      "metadata": {
        "id": "SxhMnWqg6DKm"
      },
      "outputs": [],
      "source": [
        "'''model.summary()'''"
      ]
    },
    {
      "cell_type": "code",
      "execution_count": null,
      "metadata": {
        "id": "XIBMjP0Ujy2I"
      },
      "outputs": [],
      "source": [
        "'''from sklearn.utils import class_weight\n",
        "\n",
        "def get_weight(t):\n",
        "    class_weight_current =  class_weight.compute_class_weight('balanced', classes=np.unique(t), y=t)\n",
        "    return class_weight_current\n",
        "\n",
        "    \n",
        "train_classes = train_generator.classes\n",
        "\n",
        "class_weight =  get_weight(train_classes )\n",
        "class_weight = dict(zip(np.unique(train_classes), class_weight))\n",
        "class_weight\n",
        "'''"
      ]
    },
    {
      "cell_type": "code",
      "execution_count": null,
      "metadata": {
        "id": "3QSWgf6P8xVx"
      },
      "outputs": [],
      "source": [
        "\n",
        "'''\n",
        "STEP_SIZE_TRAIN = train_generator.n//train_generator.batch_size\n",
        "STEP_SIZE_VALID = val_generator.n//val_generator.batch_size\n",
        "\n",
        "print(\"start Model Trainning\", date_time(1))\n",
        "# fit model\n",
        "history = model.fit(train_generator,\n",
        "                    steps_per_epoch=STEP_SIZE_TRAIN,\n",
        "                    validation_data=val_generator,\n",
        "                    validation_steps=STEP_SIZE_VALID,\n",
        "                    epochs=epochs,\n",
        "                    callbacks=[early]\n",
        "                    )\n",
        "\n",
        "\n",
        "print(\"Completed Model Trainning\", date_time(1))\n",
        "\n",
        "#create_charts(model, history)'''"
      ]
    },
    {
      "cell_type": "code",
      "execution_count": null,
      "metadata": {
        "id": "dUe5gMMmCN_D"
      },
      "outputs": [],
      "source": [
        "'''model.save(\"/content/gdrive/MyDrive/Dataset/output/models/Model.h5\")'''"
      ]
    },
    {
      "cell_type": "markdown",
      "metadata": {
        "id": "Y0gK9kfKk0qu"
      },
      "source": [
        "## Visualization"
      ]
    },
    {
      "cell_type": "code",
      "execution_count": 33,
      "metadata": {
        "colab": {
          "base_uri": "https://localhost:8080/",
          "height": 547
        },
        "id": "dGdxcoqPCV9u",
        "outputId": "9703c61a-0a8c-4155-c39f-5a4425f57b43"
      },
      "outputs": [
        {
          "output_type": "execute_result",
          "data": {
            "text/plain": [
              "Text(0.5, 1.0, '\\nTraining and Validation Accuracy. \\nTrain Accuracy:0.2635135054588318\\nValidation Accuracy: 0.47058823704719543')"
            ]
          },
          "metadata": {},
          "execution_count": 33
        },
        {
          "output_type": "display_data",
          "data": {
            "text/plain": [
              "<Figure size 720x1152 with 1 Axes>"
            ],
            "image/png": "[encoded data removed]"
          },
          "metadata": {
            "needs_background": "light"
          }
        }
      ],
      "source": [
        "# store results\n",
        "acc = history.history['accuracy']\n",
        "val_acc = history.history['val_accuracy']\n",
        "loss = history.history['loss']\n",
        "val_loss = history.history['val_loss']\n",
        " \n",
        " \n",
        "# plot results\n",
        "# accuracy\n",
        "plt.figure(figsize=(10, 16))\n",
        "plt.rcParams['figure.figsize'] = [16, 9]\n",
        "plt.rcParams['font.size'] = 14\n",
        "plt.rcParams['axes.grid'] = True\n",
        "plt.rcParams['figure.facecolor'] = 'white'\n",
        "plt.subplot(2, 1, 1)\n",
        "plt.plot(acc, label='Training Accuracy')\n",
        "plt.plot(val_acc, label='Validation Accuracy')\n",
        "plt.legend(loc='lower right')\n",
        "plt.ylabel('Accuracy')\n",
        "plt.title(f'\\nTraining and Validation Accuracy. \\nTrain Accuracy:{str(acc[-1])}\\nValidation Accuracy: {str(val_acc[-1])}')"
      ]
    },
    {
      "cell_type": "code",
      "execution_count": 34,
      "metadata": {
        "colab": {
          "base_uri": "https://localhost:8080/",
          "height": 342
        },
        "id": "lingEFbGJFez",
        "outputId": "49ff3246-8b60-49dc-8081-6d5a9799ba4d"
      },
      "outputs": [
        {
          "output_type": "display_data",
          "data": {
            "text/plain": [
              "<Figure size 1152x648 with 1 Axes>"
            ],
            "image/png": "[encoded data removed]"
          },
          "metadata": {}
        }
      ],
      "source": [
        "# loss\n",
        "plt.subplot(2, 1, 2)\n",
        "plt.plot(loss, label='Training Loss')\n",
        "plt.plot(val_loss, label='Validation Loss')\n",
        "plt.legend(loc='upper right')\n",
        "plt.ylabel('Cross Entropy')\n",
        "plt.title(f'Training and Validation Loss. \\nTrain Loss:{str(loss[-1])}\\nValidation Loss: {str(val_loss[-1])}')\n",
        "plt.xlabel('epoch')\n",
        "plt.tight_layout(pad=3.0)\n",
        "plt.show()"
      ]
    },
    {
      "cell_type": "code",
      "execution_count": 35,
      "metadata": {
        "colab": {
          "base_uri": "https://localhost:8080/",
          "height": 380
        },
        "id": "GORNvGrvJaH-",
        "outputId": "b92c86f1-120a-4eec-849f-2c41ef0f4710"
      },
      "outputs": [
        {
          "output_type": "error",
          "ename": "ValueError",
          "evalue": "ignored",
          "traceback": [
            "\u001b[0;31m---------------------------------------------------------------------------\u001b[0m",
            "\u001b[0;31mValueError\u001b[0m                                Traceback (most recent call last)",
            "\u001b[0;32m<ipython-input-35-a0b1f66fed7b>\u001b[0m in \u001b[0;36m<module>\u001b[0;34m\u001b[0m\n\u001b[0;32m----> 1\u001b[0;31m \u001b[0maccuracy_score\u001b[0m \u001b[0;34m=\u001b[0m \u001b[0mcnn\u001b[0m\u001b[0;34m.\u001b[0m\u001b[0mevaluate\u001b[0m\u001b[0;34m(\u001b[0m\u001b[0mval_generator\u001b[0m\u001b[0;34m)\u001b[0m\u001b[0;34m\u001b[0m\u001b[0;34m\u001b[0m\u001b[0m\n\u001b[0m\u001b[1;32m      2\u001b[0m \u001b[0mprint\u001b[0m\u001b[0;34m(\u001b[0m\u001b[0maccuracy_score\u001b[0m\u001b[0;34m)\u001b[0m\u001b[0;34m\u001b[0m\u001b[0;34m\u001b[0m\u001b[0m\n\u001b[1;32m      3\u001b[0m \u001b[0mprint\u001b[0m\u001b[0;34m(\u001b[0m\u001b[0;34m\"Accuracy: {:.4f}%\"\u001b[0m\u001b[0;34m.\u001b[0m\u001b[0mformat\u001b[0m\u001b[0;34m(\u001b[0m\u001b[0maccuracy_score\u001b[0m\u001b[0;34m[\u001b[0m\u001b[0;36m1\u001b[0m\u001b[0;34m]\u001b[0m \u001b[0;34m*\u001b[0m \u001b[0;36m100\u001b[0m\u001b[0;34m)\u001b[0m\u001b[0;34m)\u001b[0m\u001b[0;34m\u001b[0m\u001b[0;34m\u001b[0m\u001b[0m\n\u001b[1;32m      4\u001b[0m \u001b[0;34m\u001b[0m\u001b[0m\n\u001b[1;32m      5\u001b[0m \u001b[0mprint\u001b[0m\u001b[0;34m(\u001b[0m\u001b[0;34m\"Loss: \"\u001b[0m\u001b[0;34m,\u001b[0m\u001b[0maccuracy_score\u001b[0m\u001b[0;34m[\u001b[0m\u001b[0;36m0\u001b[0m\u001b[0;34m]\u001b[0m\u001b[0;34m)\u001b[0m\u001b[0;34m\u001b[0m\u001b[0;34m\u001b[0m\u001b[0m\n",
            "\u001b[0;32m/usr/local/lib/python3.8/dist-packages/keras/utils/traceback_utils.py\u001b[0m in \u001b[0;36merror_handler\u001b[0;34m(*args, **kwargs)\u001b[0m\n\u001b[1;32m     65\u001b[0m     \u001b[0;32mexcept\u001b[0m \u001b[0mException\u001b[0m \u001b[0;32mas\u001b[0m \u001b[0me\u001b[0m\u001b[0;34m:\u001b[0m  \u001b[0;31m# pylint: disable=broad-except\u001b[0m\u001b[0;34m\u001b[0m\u001b[0;34m\u001b[0m\u001b[0m\n\u001b[1;32m     66\u001b[0m       \u001b[0mfiltered_tb\u001b[0m \u001b[0;34m=\u001b[0m \u001b[0m_process_traceback_frames\u001b[0m\u001b[0;34m(\u001b[0m\u001b[0me\u001b[0m\u001b[0;34m.\u001b[0m\u001b[0m__traceback__\u001b[0m\u001b[0;34m)\u001b[0m\u001b[0;34m\u001b[0m\u001b[0;34m\u001b[0m\u001b[0m\n\u001b[0;32m---> 67\u001b[0;31m       \u001b[0;32mraise\u001b[0m \u001b[0me\u001b[0m\u001b[0;34m.\u001b[0m\u001b[0mwith_traceback\u001b[0m\u001b[0;34m(\u001b[0m\u001b[0mfiltered_tb\u001b[0m\u001b[0;34m)\u001b[0m \u001b[0;32mfrom\u001b[0m \u001b[0;32mNone\u001b[0m\u001b[0;34m\u001b[0m\u001b[0;34m\u001b[0m\u001b[0m\n\u001b[0m\u001b[1;32m     68\u001b[0m     \u001b[0;32mfinally\u001b[0m\u001b[0;34m:\u001b[0m\u001b[0;34m\u001b[0m\u001b[0;34m\u001b[0m\u001b[0m\n\u001b[1;32m     69\u001b[0m       \u001b[0;32mdel\u001b[0m \u001b[0mfiltered_tb\u001b[0m\u001b[0;34m\u001b[0m\u001b[0;34m\u001b[0m\u001b[0m\n",
            "\u001b[0;32m/usr/local/lib/python3.8/dist-packages/keras/engine/data_adapter.py\u001b[0m in \u001b[0;36m_validate_args\u001b[0;34m(self, y, sample_weights, steps)\u001b[0m\n\u001b[1;32m    758\u001b[0m       \u001b[0msize\u001b[0m \u001b[0;34m=\u001b[0m \u001b[0mtf\u001b[0m\u001b[0;34m.\u001b[0m\u001b[0mdata\u001b[0m\u001b[0;34m.\u001b[0m\u001b[0mexperimental\u001b[0m\u001b[0;34m.\u001b[0m\u001b[0mcardinality\u001b[0m\u001b[0;34m(\u001b[0m\u001b[0mself\u001b[0m\u001b[0;34m.\u001b[0m\u001b[0m_dataset\u001b[0m\u001b[0;34m)\u001b[0m\u001b[0;34m.\u001b[0m\u001b[0mnumpy\u001b[0m\u001b[0;34m(\u001b[0m\u001b[0;34m)\u001b[0m\u001b[0;34m\u001b[0m\u001b[0;34m\u001b[0m\u001b[0m\n\u001b[1;32m    759\u001b[0m       \u001b[0;32mif\u001b[0m \u001b[0msize\u001b[0m \u001b[0;34m==\u001b[0m \u001b[0mtf\u001b[0m\u001b[0;34m.\u001b[0m\u001b[0mdata\u001b[0m\u001b[0;34m.\u001b[0m\u001b[0mexperimental\u001b[0m\u001b[0;34m.\u001b[0m\u001b[0mINFINITE_CARDINALITY\u001b[0m \u001b[0;32mand\u001b[0m \u001b[0msteps\u001b[0m \u001b[0;32mis\u001b[0m \u001b[0;32mNone\u001b[0m\u001b[0;34m:\u001b[0m\u001b[0;34m\u001b[0m\u001b[0;34m\u001b[0m\u001b[0m\n\u001b[0;32m--> 760\u001b[0;31m         raise ValueError(\n\u001b[0m\u001b[1;32m    761\u001b[0m             \u001b[0;34m\"When providing an infinite dataset, you must specify \"\u001b[0m\u001b[0;34m\u001b[0m\u001b[0;34m\u001b[0m\u001b[0m\n\u001b[1;32m    762\u001b[0m             \u001b[0;34m\"the number of steps to run (if you did not intend to \"\u001b[0m\u001b[0;34m\u001b[0m\u001b[0;34m\u001b[0m\u001b[0m\n",
            "\u001b[0;31mValueError\u001b[0m: When providing an infinite dataset, you must specify the number of steps to run (if you did not intend to create an infinite dataset, make sure to not call `repeat()` on the dataset)."
          ]
        }
      ],
      "source": [
        "accuracy_score = cnn.evaluate(val_generator)\n",
        "print(accuracy_score)\n",
        "print(\"Accuracy: {:.4f}%\".format(accuracy_score[1] * 100))\n",
        " \n",
        "print(\"Loss: \",accuracy_score[0])"
      ]
    },
    {
      "cell_type": "code",
      "execution_count": null,
      "metadata": {
        "id": "4UOL1FjKJyS3"
      },
      "outputs": [],
      "source": [
        "test_img_path = \"/content/gdrive/MyDrive/Dataset/data2/test/score0/convex_1048_1126_8.jpg\"\n",
        " \n",
        "img = cv2.imread(test_img_path)\n",
        "resized_img = cv2.resize(img, (331, 331)).reshape(-1, 331, 331, 3)/255\n",
        " \n",
        "plt.figure(figsize=(6,6))\n",
        "plt.title(\"TEST IMAGE\")\n",
        "plt.imshow(resized_img[0])"
      ]
    },
    {
      "cell_type": "code",
      "execution_count": null,
      "metadata": {
        "id": "xeT102GqKHhp"
      },
      "outputs": [],
      "source": [
        "'''predictions = []\n",
        "images=[]\n",
        "for root, dirs, files in os.walk(test_path, topdown=False):\n",
        "   for image in files:\n",
        "      image=os.path.join(root, image)\n",
        "      images.append(image)\n",
        "      img = tf.keras.preprocessing.image.load_img(image)\n",
        "      img = tf.keras.preprocessing.image.img_to_array(img)\n",
        "      img = tf.keras.preprocessing.image.smart_resize(img, (688, 1760))\n",
        "      img = tf.reshape(img, (-1, 688, 1760, 3))\n",
        "      prediction = model.predict(img/255)\n",
        "      predictions.append(np.argmax(prediction))\n",
        "sample=pd.DataFrame(images)  \n",
        "\n",
        "my_submission = pd.DataFrame({'image_id': images, 'label':  predictions})\n",
        "if os.path.exists('/content/gdrive/MyDrive/Dataset/output/submission.csv'):\n",
        "  os.remove('/content/gdrive/MyDrive/Dataset/output/submission.csv')\n",
        "my_submission.to_csv('/content/gdrive/MyDrive/Dataset/output/submission.csv', index=False)\n",
        " \n",
        "# Submission file ouput\n",
        "print(\"Submission File: \\n---------------\\n\")\n",
        "print(my_submission.head()) # Displaying first five predicted output'''"
      ]
    }
  ],
  "metadata": {
    "colab": {
      "collapsed_sections": [
        "exCuSrEN0cM7",
        "-txyLjSbeifK",
        "Y0gK9kfKk0qu"
      ],
      "provenance": [],
      "include_colab_link": true
    },
    "gpuClass": "standard",
    "kernelspec": {
      "display_name": "Python 3",
      "language": "python",
      "name": "python3"
    },
    "language_info": {
      "codemirror_mode": {
        "name": "ipython",
        "version": 3
      },
      "file_extension": ".py",
      "mimetype": "text/x-python",
      "name": "python",
      "nbconvert_exporter": "python",
      "pygments_lexer": "ipython3",
      "version": "3.10.8 (tags/v3.10.8:aaaf517, Oct 11 2022, 16:50:30) [MSC v.1933 64 bit (AMD64)]"
    },
    "vscode": {
      "interpreter": {
        "hash": "180a8cf1fc48fa92a53c2d4bd1ff24d9f8e77dd7507839b4c169d20814ecdb3b"
      }
    },
    "accelerator": "GPU"
  },
  "nbformat": 4,
  "nbformat_minor": 0
}