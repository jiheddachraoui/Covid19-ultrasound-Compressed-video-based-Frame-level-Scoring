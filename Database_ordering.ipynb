{
  "cells": [
    {
      "cell_type": "markdown",
      "metadata": {
        "id": "view-in-github",
        "colab_type": "text"
      },
      "source": [
        "<a href=\"https://colab.research.google.com/github/jiheddachraoui/Covid19-ultrasound-video-scoring/blob/main/Database_ordering.ipynb\" target=\"_parent\"><img src=\"https://colab.research.google.com/assets/colab-badge.svg\" alt=\"Open In Colab\"/></a>"
      ]
    },
    {
      "cell_type": "code",
      "execution_count": 2,
      "metadata": {
        "colab": {
          "base_uri": "https://localhost:8080/"
        },
        "id": "Jx8KFACzFGVP",
        "outputId": "31ee7805-6c2e-42e4-d214-0174a97b55e2"
      },
      "outputs": [
        {
          "output_type": "stream",
          "name": "stdout",
          "text": [
            "Drive already mounted at /content/gdrive; to attempt to forcibly remount, call drive.mount(\"/content/gdrive\", force_remount=True).\n"
          ]
        }
      ],
      "source": [
        "import sys \n",
        "from google.colab import drive\n",
        "drive.mount('/content/gdrive')\n",
        "   \n"
      ]
    },
    {
      "cell_type": "markdown",
      "metadata": {
        "id": "mPYKPiC_vj_c"
      },
      "source": [
        "## Importations"
      ]
    },
    {
      "cell_type": "code",
      "execution_count": 23,
      "metadata": {
        "id": "AFuXhsc9GeUv"
      },
      "outputs": [],
      "source": [
        "from datetime import timedelta\n",
        "import cv2\n",
        "import numpy as np\n",
        "import os\n",
        "import shutil\n",
        "import matplotlib.pyplot as plt\n",
        "import pandas as pd\n",
        "import random\n",
        "from sklearn.model_selection import KFold \n",
        "from sklearn.metrics import accuracy_score\n"
      ]
    },
    {
      "cell_type": "markdown",
      "metadata": {
        "id": "ta_oXqsDvsLh"
      },
      "source": [
        "# Copying Data to Drive"
      ]
    },
    {
      "cell_type": "code",
      "execution_count": null,
      "metadata": {
        "colab": {
          "base_uri": "https://localhost:8080/",
          "height": 36
        },
        "id": "3hKFOVpAJqxB",
        "outputId": "6c66acf2-ca35-4b93-c923-a9f9ae9d9134"
      },
      "outputs": [
        {
          "data": {
            "application/vnd.google.colaboratory.intrinsic+json": {
              "type": "string"
            },
            "text/plain": [
              "'/content/gdrive/MyDrive/Dataset'"
            ]
          },
          "execution_count": 7,
          "metadata": {},
          "output_type": "execute_result"
        }
      ],
      "source": [
        "source_dir = r\"/content/gdrive/MyDrive/Dati San Matteo Dataset 2\"\n",
        "destination_dir = r\"/content/gdrive/MyDrive/Dataset\"\n",
        "#create a copy of the dataset\n",
        "#shutil.copytree(source_dir, destination_dir)"
      ]
    },
    {
      "cell_type": "markdown",
      "metadata": {
        "id": "BBIie2TvwACQ"
      },
      "source": [
        "## Copying all data in one folder"
      ]
    },
    {
      "cell_type": "markdown",
      "metadata": {
        "id": "cDQIyrG-0Dyd"
      },
      "source": [
        "###videos"
      ]
    },
    {
      "cell_type": "code",
      "execution_count": null,
      "metadata": {
        "colab": {
          "base_uri": "https://localhost:8080/"
        },
        "id": "IK7hStjtW-7G",
        "outputId": "eb52509b-032c-4757-bcfc-f3b6b1011be6"
      },
      "outputs": [
        {
          "data": {
            "text/plain": [
              "716"
            ]
          },
          "execution_count": 109,
          "metadata": {},
          "output_type": "execute_result"
        }
      ],
      "source": [
        "folder_path = \"/content/gdrive/MyDrive/Dataset\"\n",
        "if os.path.exists(\"/content/gdrive/MyDrive/Dataset/videos\"):\n",
        "  shutil.rmtree(\"/content/gdrive/MyDrive/Dataset/videos\")\n",
        "files = [f for f in os.listdir(folder_path) if not os.path.isfile(os.path.join(folder_path, f))]\n",
        "exams=[]\n",
        "videos=[]\n",
        "vid_path=[]\n",
        "for f in files:\n",
        "    path = os.path.join(folder_path,f)\n",
        "    for e in os.listdir(path):\n",
        "\n",
        "      if not os.path.isfile(os.path.join(path, e)):\n",
        "        exams.append(e)\n",
        "        path1 = os.path.join(path,e)\n",
        "        \n",
        "        for v in os.listdir(path1):\n",
        "          \n",
        "          if os.path.isfile(os.path.join(path1, v)) and v.split('.')[1]==\"avi\" :\n",
        "            videos.append(v)\n",
        "            vid_path.append(path1)\n",
        "            \n",
        " \n",
        "#len(videos)\n",
        "len(vid_path)\n",
        "\n"
      ]
    },
    {
      "cell_type": "code",
      "execution_count": null,
      "metadata": {
        "id": "a7n91YFPOg9o"
      },
      "outputs": [],
      "source": [
        "i=0\n",
        "for video in videos:\n",
        "    folder_type = video.split('.')[1]\n",
        "    patient_name = video.split('_')[1]\n",
        "    exam = video.split('_')[2]\n",
        "    new_path = os.path.join(videos_path, patient_name+'-'+exam)\n",
        "    if not os.path.exists(new_path):\n",
        "        os.makedirs(new_path)\n",
        "    \n",
        "    old_video_path = os.path.join(vid_path[i], video)\n",
        "    new_video_path = os.path.join(new_path, video)\n",
        "    if not os.path.exists(new_video_path):\n",
        "      shutil.copy(old_video_path, new_video_path)\n",
        "      print('video',video ,'added to',new_video_path)\n",
        "    i+=1"
      ]
    },
    {
      "cell_type": "markdown",
      "metadata": {
        "id": "Int7uQTu0U3X"
      },
      "source": [
        "### videos frames"
      ]
    },
    {
      "cell_type": "code",
      "execution_count": null,
      "metadata": {
        "id": "zmTopPyd0hk6"
      },
      "outputs": [],
      "source": [
        "folder_path = \"/content/gdrive/MyDrive/Dataset\"\n",
        "\n",
        "files = [f for f in os.listdir(folder_path) if not os.path.isfile(os.path.join(folder_path, f))]\n",
        "exams=[]\n",
        "frames=[]\n",
        "f_path=[]\n",
        "for f in files:\n",
        "    path = os.path.join(folder_path,f)\n",
        "    for e in os.listdir(path):\n",
        "\n",
        "      if not os.path.isfile(os.path.join(path, e)):\n",
        "        exams.append(e)\n",
        "        path1 = os.path.join(path,e)\n",
        "        \n",
        "        for v in os.listdir(path1):\n",
        "          \n",
        "          if os.path.isfile(os.path.join(path1, v)) and v.split('.')[1]==\"mat\" and len(v.split('_'))==4 :\n",
        "            \n",
        "            frames.append(v)\n",
        "            f_path.append(os.path.join(path1, v))\n",
        "            \n",
        " \n",
        "#len(videos)\n",
        "len(f_path)\n"
      ]
    },
    {
      "cell_type": "code",
      "execution_count": null,
      "metadata": {
        "id": "9X0fZSF0amr4"
      },
      "outputs": [],
      "source": [
        "frames_path='/content/gdrive/MyDrive/Dataset/frames'\n",
        "i=0\n",
        "\n",
        "for f in frames:\n",
        "    folder_type = f.split('.')[1]\n",
        "    patient_name = f.split('_')[1]\n",
        "    exam = f.split('_')[2]\n",
        "    new_path = os.path.join(frames_path, patient_name+'-'+exam)\n",
        "    if not os.path.exists(new_path):\n",
        "        os.makedirs(new_path)\n",
        "    \n",
        "    old_file_path = f_path[i]\n",
        "    new_file_path = os.path.join(new_path, f)\n",
        "    if not os.path.exists(new_file_path):\n",
        "      shutil.copy(old_file_path, new_file_path)\n",
        "      print('video frames',f ,'added to',new_file_path)\n",
        "    i+=1"
      ]
    },
    {
      "cell_type": "markdown",
      "metadata": {
        "id": "ea1EbvAhvL-3"
      },
      "source": [
        "# Frames extraction"
      ]
    },
    {
      "cell_type": "code",
      "execution_count": null,
      "metadata": {
        "id": "uF_G0Sl_GwsL"
      },
      "outputs": [],
      "source": [
        "SAVING_FRAMES_PER_SECOND = 10\n",
        "def format_timedelta(td):\n",
        "    \"\"\"Utility function to format timedelta objects in a cool way (e.g 00:00:20.05) \n",
        "    omitting microseconds and retaining milliseconds\"\"\"\n",
        "    result = str(td)\n",
        "    try:\n",
        "        result, ms = result.split(\".\")\n",
        "    except ValueError:\n",
        "        return result + \".00\".replace(\":\", \"-\")\n",
        "    ms = int(ms)\n",
        "    ms = round(ms / 1e4)\n",
        "    return f\"{result}.{ms:02}\".replace(\":\", \"-\")\n",
        "\n",
        "\n",
        "def get_saving_frames_durations(cap, saving_fps):\n",
        "    \"\"\"A function that returns the list of durations where to save the frames\"\"\"\n",
        "    s = []\n",
        "    # get the clip duration by dividing number of frames by the number of frames per second\n",
        "    clip_duration = cap.get(cv2.CAP_PROP_FRAME_COUNT) / cap.get(cv2.CAP_PROP_FPS)\n",
        "    # use np.arange() to make floating-point steps\n",
        "    for i in np.arange(0, clip_duration, 1 / saving_fps):\n",
        "        s.append(i)\n",
        "    return s"
      ]
    },
    {
      "cell_type": "code",
      "execution_count": null,
      "metadata": {
        "id": "GgmyjZawHiGo"
      },
      "outputs": [],
      "source": [
        "def extract(video_file):\n",
        "    filename, _ = os.path.splitext(video_file)\n",
        "    filename += \"-Frames\"\n",
        "    print(filename)\n",
        "    # make a folder by the name of the video file\n",
        "    if not os.path.isdir(filename):\n",
        "        os.mkdir(filename)\n",
        "    # read the video file    \n",
        "    cap = cv2.VideoCapture(video_file)\n",
        "    # get the FPS of the video\n",
        "    fps = cap.get(cv2.CAP_PROP_FPS)\n",
        "    # if the SAVING_FRAMES_PER_SECOND is above video FPS, then set it to FPS (as maximum)\n",
        "    saving_frames_per_second = min(fps, SAVING_FRAMES_PER_SECOND)\n",
        "    # get the list of duration spots to save\n",
        "    saving_frames_durations = get_saving_frames_durations(cap, saving_frames_per_second)\n",
        "    # start the loop\n",
        "    count = 0\n",
        "    while True:\n",
        "        is_read, frame = cap.read()\n",
        "        if not is_read:\n",
        "            # break out of the loop if there are no frames to read\n",
        "            break\n",
        "        # get the duration by dividing the frame count by the FPS\n",
        "        frame_duration = count / fps\n",
        "        try:\n",
        "            # get the earliest duration to save\n",
        "            closest_duration = saving_frames_durations[0]\n",
        "        except IndexError:\n",
        "            # the list is empty, all duration frames were saved\n",
        "            break\n",
        "        if frame_duration >= closest_duration:\n",
        "            # if closest duration is less than or equals the frame duration, \n",
        "            # then save the frame\n",
        "            frame_duration_formatted = format_timedelta(timedelta(seconds=frame_duration))\n",
        "            cv2.imwrite(os.path.join(filename, f\"frame{frame_duration_formatted}.jpg\"), frame)\n",
        "            print(os.path.join(filename, f\"frame{frame_duration_formatted}.jpg\"), 'saved') \n",
        "            # drop the duration spot from the list, since this duration spot is already saved\n",
        "            try:\n",
        "                saving_frames_durations.pop(0)\n",
        "            except IndexError:\n",
        "                pass\n",
        "        # increment the frame count\n",
        "        count += 1"
      ]
    },
    {
      "cell_type": "code",
      "execution_count": null,
      "metadata": {
        "id": "9ZprdpL2Hm_8"
      },
      "outputs": [],
      "source": [
        "videos_path='/content/gdrive/MyDrive/Dataset/videos'\n",
        "video_files=[]\n",
        "files = [os.path.join(videos_path,f) for f in os.listdir(videos_path)]\n",
        "for f in files:\n",
        "  for v in os.listdir(f):\n",
        "    if os.path.isfile(os.path.join(f,v)):\n",
        "      video_file=os.path.join(f,v)\n",
        "      video_files.append(video_file)\n",
        "    \n",
        "\n",
        "for video_file in video_files:\n",
        "  extract(video_file) \n",
        "  print('next video__________________________________________________________________________')"
      ]
    },
    {
      "cell_type": "markdown",
      "metadata": {
        "id": "on6VfOzTu83F"
      },
      "source": [
        "# Count files in folder"
      ]
    },
    {
      "cell_type": "code",
      "execution_count": 51,
      "metadata": {
        "id": "hUIsa8jfZbfc"
      },
      "outputs": [],
      "source": [
        "def count_files(path):\n",
        "  count = 0\n",
        "\n",
        "  for f in os.listdir(path):\n",
        "      # check if current path is a file\n",
        "      if os.path.isfile(os.path.join(path, f)):\n",
        "          count += 1\n",
        "  #print('File count:', count)\n",
        "  return count\n"
      ]
    },
    {
      "cell_type": "markdown",
      "metadata": {
        "id": "3FtkO9Reux6w"
      },
      "source": [
        "# Max-Min images generator"
      ]
    },
    {
      "cell_type": "code",
      "execution_count": 33,
      "metadata": {
        "id": "ppTGDSoV3o3T"
      },
      "outputs": [],
      "source": [
        "import cv2\n",
        "import numpy as np\n",
        "import matplotlib.pyplot as plt\n",
        "from scipy.io import loadmat\n",
        "\n",
        "\n",
        "def vid_max_min_frame_generator(vid_path):\n",
        "  filename, _ = os.path.splitext(video_file)\n",
        "  filename += \"-MAXMIN\"\n",
        "  if not os.path.isdir(filename):\n",
        "        os.mkdir(filename)\n",
        "  cap = cv2.VideoCapture(vid_path)\n",
        "  frameCount = int(cap.get(cv2.CAP_PROP_FRAME_COUNT))\n",
        "  frameWidth = int(cap.get(cv2.CAP_PROP_FRAME_WIDTH))\n",
        "  frameHeight = int(cap.get(cv2.CAP_PROP_FRAME_HEIGHT))\n",
        "\n",
        "  buf = np.empty((frameCount, frameHeight, frameWidth, 3), np.dtype('uint8'))\n",
        "\n",
        "  fc = 0\n",
        "  ret = True\n",
        "\n",
        "  while (fc < frameCount  and ret):\n",
        "      ret, buf[fc] = cap.read()\n",
        "      fc += 1\n",
        "\n",
        "  cap.release()\n",
        "  \n",
        "  try:\n",
        "    Max=np.max(buf,axis=0)\n",
        "    Min=np.min(buf,axis=0)\n",
        "   \n",
        "    #plt.imshow(Max)\n",
        "    #print(Max.shape)\n",
        "  \n",
        "    #plt.show()\n",
        "    #plt.imshow(Min)\n",
        "    #print(Min.shape)\n",
        "    #plt.show()\n",
        "    cv2.imwrite(os.path.join(filename,\"Max.jpg\"), Max)\n",
        "    print(os.path.join(filename,\"-Max.jpg\"))\n",
        "    cv2.imwrite(os.path.join(filename,\"Min.jpg\"), Min)\n",
        "    print(os.path.join(filename,\"-Min.jpg\"), 'saved')\n",
        "  \n",
        "  except ValueError:  \n",
        "      pass\n",
        " ################################################################\n",
        "\n",
        "\n",
        "\n",
        "\n",
        "\n",
        "def matrix_max_min_frame_generator(file_path):\n",
        "  filename=file_path.split('/')[-1]\n",
        "  filename=filename.split('.')[0]\n",
        "  filename1, _ = os.path.splitext(file_path)\n",
        "  filename1 =filename1+ \"-MAXMIN\"\n",
        "  \n",
        "  if not os.path.isdir(filename1):\n",
        "        os.mkdir(filename1)\n",
        "  f = loadmat(file_path)\n",
        "  frames=f['frames']\n",
        "  frames.shape\n",
        "  try:\n",
        "    Max=np.max(frames,axis=3)\n",
        "    Min=np.min(frames,axis=3)\n",
        "    #plt.imshow(Max)\n",
        "    #print(Max.shape)\n",
        "    #plt.show()\n",
        "    #plt.imshow(Min)\n",
        "    #print(Min.shape)\n",
        "    #plt.show()\n",
        "    if not os.path.exists(os.path.join(filename1,f\"{filename}-Max.jpg\")) :\n",
        "      cv2.imwrite(os.path.join(filename1,f\"{filename}-Max.jpg\"), Max)\n",
        "      print(os.path.join(filename1,f\"{filename}-Max.jpg\"))\n",
        "    if not os.path.exists(os.path.join(filename1,f\"{filename}-Min.jpg\")) :\n",
        "      cv2.imwrite(os.path.join(filename1,f\"{filename}-Min.jpg\"), Min)\n",
        "      print(os.path.join(filename1,f\"{filename}-Min.jpg\"), 'saved')\n",
        "  \n",
        "  except ValueError:  \n",
        "      pass  \n",
        " "
      ]
    },
    {
      "cell_type": "markdown",
      "metadata": {
        "id": "ZMzoabySoyky"
      },
      "source": [
        "# Crop Image"
      ]
    },
    {
      "cell_type": "code",
      "execution_count": null,
      "metadata": {
        "colab": {
          "base_uri": "https://localhost:8080/"
        },
        "id": "-8n4MHlzchkd",
        "outputId": "4af96e8f-4011-4c12-ca87-f3028da66ae4"
      },
      "outputs": [
        {
          "data": {
            "image/png": "[encoded data removed]",
            "text/plain": [
              "<Figure size 432x288 with 1 Axes>"
            ]
          },
          "metadata": {},
          "output_type": "display_data"
        },
        {
          "data": {
            "image/png": "[encoded data removed]",
            "text/plain": [
              "<Figure size 432x288 with 1 Axes>"
            ]
          },
          "metadata": {},
          "output_type": "display_data"
        },
        {
          "name": "stdout",
          "output_type": "stream",
          "text": [
            "1366 652\n"
          ]
        }
      ],
      "source": [
        "\n",
        "# Importing Image class from PIL module\n",
        "from PIL import Image\n",
        "import matplotlib.pyplot as plt\n",
        "# Opens a image in RGB mode\n",
        "def crop(image):\n",
        "  im = Image.open(image)\n",
        " \n",
        "  # Setting the points for cropped image\n",
        "  width, height = im.size\n",
        " \n",
        "  # Setting the points for cropped image\n",
        "  left = 400\n",
        "  top = 60\n",
        "  right = 1030\n",
        "  bottom=570\n",
        "  # Cropped image of above dimension\n",
        "  # (It will not change original image)\n",
        "  im1 = im.crop((left, top, right, bottom))\n",
        " \n",
        "  # Shows the image in image viewer\n",
        "  plt.imshow(im)\n",
        "  plt.show()\n",
        "  plt.imshow(im1)\n",
        "  plt.show()\n",
        "  "
      ]
    },
    {
      "cell_type": "markdown",
      "metadata": {
        "id": "I2owOzhPuQWX"
      },
      "source": [
        "# Data analysis \n"
      ]
    },
    {
      "cell_type": "code",
      "execution_count": 5,
      "metadata": {
        "colab": {
          "base_uri": "https://localhost:8080/",
          "height": 1000
        },
        "id": "Q2HxHE6OkG7G",
        "outputId": "36e92295-b5e0-404f-974c-0b12c4a38825"
      },
      "outputs": [
        {
          "output_type": "execute_result",
          "data": {
            "text/plain": [
              "array([[<matplotlib.axes._subplots.AxesSubplot object at 0x7f16aa6a2710>,\n",
              "        <matplotlib.axes._subplots.AxesSubplot object at 0x7f16aa5fdb50>,\n",
              "        <matplotlib.axes._subplots.AxesSubplot object at 0x7f16aa5c4190>,\n",
              "        <matplotlib.axes._subplots.AxesSubplot object at 0x7f16aa579790>,\n",
              "        <matplotlib.axes._subplots.AxesSubplot object at 0x7f16aa5aed90>,\n",
              "        <matplotlib.axes._subplots.AxesSubplot object at 0x7f16aa4f33d0>],\n",
              "       [<matplotlib.axes._subplots.AxesSubplot object at 0x7f16aa52aa50>,\n",
              "        <matplotlib.axes._subplots.AxesSubplot object at 0x7f16aa4d5b10>,\n",
              "        <matplotlib.axes._subplots.AxesSubplot object at 0x7f16aa4ed090>,\n",
              "        <matplotlib.axes._subplots.AxesSubplot object at 0x7f16aa4a2710>,\n",
              "        <matplotlib.axes._subplots.AxesSubplot object at 0x7f16aa41b250>,\n",
              "        <matplotlib.axes._subplots.AxesSubplot object at 0x7f16aa3d1850>],\n",
              "       [<matplotlib.axes._subplots.AxesSubplot object at 0x7f16aa389e50>,\n",
              "        <matplotlib.axes._subplots.AxesSubplot object at 0x7f16aa34b490>,\n",
              "        <matplotlib.axes._subplots.AxesSubplot object at 0x7f16aa300a90>,\n",
              "        <matplotlib.axes._subplots.AxesSubplot object at 0x7f16aa2c50d0>,\n",
              "        <matplotlib.axes._subplots.AxesSubplot object at 0x7f16aa27d6d0>,\n",
              "        <matplotlib.axes._subplots.AxesSubplot object at 0x7f16aa2b0cd0>],\n",
              "       [<matplotlib.axes._subplots.AxesSubplot object at 0x7f16aa1f5310>,\n",
              "        <matplotlib.axes._subplots.AxesSubplot object at 0x7f16aa22b910>,\n",
              "        <matplotlib.axes._subplots.AxesSubplot object at 0x7f16aa1e2f10>,\n",
              "        <matplotlib.axes._subplots.AxesSubplot object at 0x7f16aa1a6550>,\n",
              "        <matplotlib.axes._subplots.AxesSubplot object at 0x7f16aa15cb50>,\n",
              "        <matplotlib.axes._subplots.AxesSubplot object at 0x7f16aa120190>],\n",
              "       [<matplotlib.axes._subplots.AxesSubplot object at 0x7f16aa0d5790>,\n",
              "        <matplotlib.axes._subplots.AxesSubplot object at 0x7f16aa08cd90>,\n",
              "        <matplotlib.axes._subplots.AxesSubplot object at 0x7f16aa04f3d0>,\n",
              "        <matplotlib.axes._subplots.AxesSubplot object at 0x7f16aa0039d0>,\n",
              "        <matplotlib.axes._subplots.AxesSubplot object at 0x7f16aa030b10>,\n",
              "        <matplotlib.axes._subplots.AxesSubplot object at 0x7f16a9f7f610>],\n",
              "       [<matplotlib.axes._subplots.AxesSubplot object at 0x7f16a9f3a610>,\n",
              "        <matplotlib.axes._subplots.AxesSubplot object at 0x7f16a9f6fb10>,\n",
              "        <matplotlib.axes._subplots.AxesSubplot object at 0x7f16aa63ca50>,\n",
              "        <matplotlib.axes._subplots.AxesSubplot object at 0x7f16aa4768d0>,\n",
              "        <matplotlib.axes._subplots.AxesSubplot object at 0x7f16aa315510>,\n",
              "        <matplotlib.axes._subplots.AxesSubplot object at 0x7f16aa1a6f10>]],\n",
              "      dtype=object)"
            ]
          },
          "metadata": {},
          "execution_count": 5
        },
        {
          "output_type": "display_data",
          "data": {
            "text/plain": [
              "<Figure size 1440x1080 with 36 Axes>"
            ],
            "image/png": "[encoded data removed]"
          },
          "metadata": {
            "needs_background": "light"
          }
        }
      ],
      "source": [
        "import pandas as pd\n",
        "\n",
        "\n",
        "df=pd.read_csv('/content/gdrive/MyDrive/Dataset/SanMatteo.csv')\n",
        "\n",
        "score1=df['rating_operator']==1\n",
        "#df.where(score1).head()\n",
        "\n",
        "df.hist(bins=50,figsize=(20,15))"
      ]
    },
    {
      "cell_type": "code",
      "execution_count": 6,
      "metadata": {
        "id": "pTNz2vswuOM-",
        "colab": {
          "base_uri": "https://localhost:8080/",
          "height": 528
        },
        "outputId": "ebbf4890-1d7a-4a61-da32-20ec36cdb92e"
      },
      "outputs": [
        {
          "output_type": "stream",
          "name": "stderr",
          "text": [
            "/usr/local/lib/python3.7/dist-packages/ipykernel_launcher.py:5: SettingWithCopyWarning: \n",
            "A value is trying to be set on a copy of a slice from a DataFrame.\n",
            "Try using .loc[row_indexer,col_indexer] = value instead\n",
            "\n",
            "See the caveats in the documentation: https://pandas.pydata.org/pandas-docs/stable/user_guide/indexing.html#returning-a-view-versus-a-copy\n",
            "  \"\"\"\n"
          ]
        },
        {
          "output_type": "execute_result",
          "data": {
            "text/plain": [
              "                   video  rating_operator\n",
              "0     convex_1017_1047_1                2\n",
              "1     convex_1017_1047_2                1\n",
              "2     convex_1017_1047_3                2\n",
              "3     convex_1017_1047_4                1\n",
              "4     convex_1017_1047_5                2\n",
              "..                   ...              ...\n",
              "241  convex_1069_1158_10                1\n",
              "242  convex_1069_1158_11                1\n",
              "243  convex_1069_1158_12                1\n",
              "244  convex_1069_1158_13                1\n",
              "245  convex_1069_1158_14                0\n",
              "\n",
              "[246 rows x 2 columns]"
            ],
            "text/html": [
              "\n",
              "  <div id=\"df-04e00dc8-afb0-420c-88bb-8afceb72c942\">\n",
              "    <div class=\"colab-df-container\">\n",
              "      <div>\n",
              "<style scoped>\n",
              "    .dataframe tbody tr th:only-of-type {\n",
              "        vertical-align: middle;\n",
              "    }\n",
              "\n",
              "    .dataframe tbody tr th {\n",
              "        vertical-align: top;\n",
              "    }\n",
              "\n",
              "    .dataframe thead th {\n",
              "        text-align: right;\n",
              "    }\n",
              "</style>\n",
              "<table border=\"1\" class=\"dataframe\">\n",
              "  <thead>\n",
              "    <tr style=\"text-align: right;\">\n",
              "      <th></th>\n",
              "      <th>video</th>\n",
              "      <th>rating_operator</th>\n",
              "    </tr>\n",
              "  </thead>\n",
              "  <tbody>\n",
              "    <tr>\n",
              "      <th>0</th>\n",
              "      <td>convex_1017_1047_1</td>\n",
              "      <td>2</td>\n",
              "    </tr>\n",
              "    <tr>\n",
              "      <th>1</th>\n",
              "      <td>convex_1017_1047_2</td>\n",
              "      <td>1</td>\n",
              "    </tr>\n",
              "    <tr>\n",
              "      <th>2</th>\n",
              "      <td>convex_1017_1047_3</td>\n",
              "      <td>2</td>\n",
              "    </tr>\n",
              "    <tr>\n",
              "      <th>3</th>\n",
              "      <td>convex_1017_1047_4</td>\n",
              "      <td>1</td>\n",
              "    </tr>\n",
              "    <tr>\n",
              "      <th>4</th>\n",
              "      <td>convex_1017_1047_5</td>\n",
              "      <td>2</td>\n",
              "    </tr>\n",
              "    <tr>\n",
              "      <th>...</th>\n",
              "      <td>...</td>\n",
              "      <td>...</td>\n",
              "    </tr>\n",
              "    <tr>\n",
              "      <th>241</th>\n",
              "      <td>convex_1069_1158_10</td>\n",
              "      <td>1</td>\n",
              "    </tr>\n",
              "    <tr>\n",
              "      <th>242</th>\n",
              "      <td>convex_1069_1158_11</td>\n",
              "      <td>1</td>\n",
              "    </tr>\n",
              "    <tr>\n",
              "      <th>243</th>\n",
              "      <td>convex_1069_1158_12</td>\n",
              "      <td>1</td>\n",
              "    </tr>\n",
              "    <tr>\n",
              "      <th>244</th>\n",
              "      <td>convex_1069_1158_13</td>\n",
              "      <td>1</td>\n",
              "    </tr>\n",
              "    <tr>\n",
              "      <th>245</th>\n",
              "      <td>convex_1069_1158_14</td>\n",
              "      <td>0</td>\n",
              "    </tr>\n",
              "  </tbody>\n",
              "</table>\n",
              "<p>246 rows × 2 columns</p>\n",
              "</div>\n",
              "      <button class=\"colab-df-convert\" onclick=\"convertToInteractive('df-04e00dc8-afb0-420c-88bb-8afceb72c942')\"\n",
              "              title=\"Convert this dataframe to an interactive table.\"\n",
              "              style=\"display:none;\">\n",
              "        \n",
              "  <svg xmlns=\"http://www.w3.org/2000/svg\" height=\"24px\"viewBox=\"0 0 24 24\"\n",
              "       width=\"24px\">\n",
              "    <path d=\"M0 0h24v24H0V0z\" fill=\"none\"/>\n",
              "    <path d=\"M18.56 5.44l.94 2.06.94-2.06 2.06-.94-2.06-.94-.94-2.06-.94 2.06-2.06.94zm-11 1L8.5 8.5l.94-2.06 2.06-.94-2.06-.94L8.5 2.5l-.94 2.06-2.06.94zm10 10l.94 2.06.94-2.06 2.06-.94-2.06-.94-.94-2.06-.94 2.06-2.06.94z\"/><path d=\"M17.41 7.96l-1.37-1.37c-.4-.4-.92-.59-1.43-.59-.52 0-1.04.2-1.43.59L10.3 9.45l-7.72 7.72c-.78.78-.78 2.05 0 2.83L4 21.41c.39.39.9.59 1.41.59.51 0 1.02-.2 1.41-.59l7.78-7.78 2.81-2.81c.8-.78.8-2.07 0-2.86zM5.41 20L4 18.59l7.72-7.72 1.47 1.35L5.41 20z\"/>\n",
              "  </svg>\n",
              "      </button>\n",
              "      \n",
              "  <style>\n",
              "    .colab-df-container {\n",
              "      display:flex;\n",
              "      flex-wrap:wrap;\n",
              "      gap: 12px;\n",
              "    }\n",
              "\n",
              "    .colab-df-convert {\n",
              "      background-color: #E8F0FE;\n",
              "      border: none;\n",
              "      border-radius: 50%;\n",
              "      cursor: pointer;\n",
              "      display: none;\n",
              "      fill: #1967D2;\n",
              "      height: 32px;\n",
              "      padding: 0 0 0 0;\n",
              "      width: 32px;\n",
              "    }\n",
              "\n",
              "    .colab-df-convert:hover {\n",
              "      background-color: #E2EBFA;\n",
              "      box-shadow: 0px 1px 2px rgba(60, 64, 67, 0.3), 0px 1px 3px 1px rgba(60, 64, 67, 0.15);\n",
              "      fill: #174EA6;\n",
              "    }\n",
              "\n",
              "    [theme=dark] .colab-df-convert {\n",
              "      background-color: #3B4455;\n",
              "      fill: #D2E3FC;\n",
              "    }\n",
              "\n",
              "    [theme=dark] .colab-df-convert:hover {\n",
              "      background-color: #434B5C;\n",
              "      box-shadow: 0px 1px 3px 1px rgba(0, 0, 0, 0.15);\n",
              "      filter: drop-shadow(0px 1px 2px rgba(0, 0, 0, 0.3));\n",
              "      fill: #FFFFFF;\n",
              "    }\n",
              "  </style>\n",
              "\n",
              "      <script>\n",
              "        const buttonEl =\n",
              "          document.querySelector('#df-04e00dc8-afb0-420c-88bb-8afceb72c942 button.colab-df-convert');\n",
              "        buttonEl.style.display =\n",
              "          google.colab.kernel.accessAllowed ? 'block' : 'none';\n",
              "\n",
              "        async function convertToInteractive(key) {\n",
              "          const element = document.querySelector('#df-04e00dc8-afb0-420c-88bb-8afceb72c942');\n",
              "          const dataTable =\n",
              "            await google.colab.kernel.invokeFunction('convertToInteractive',\n",
              "                                                     [key], {});\n",
              "          if (!dataTable) return;\n",
              "\n",
              "          const docLinkHtml = 'Like what you see? Visit the ' +\n",
              "            '<a target=\"_blank\" href=https://colab.research.google.com/notebooks/data_table.ipynb>data table notebook</a>'\n",
              "            + ' to learn more about interactive tables.';\n",
              "          element.innerHTML = '';\n",
              "          dataTable['output_type'] = 'display_data';\n",
              "          await google.colab.output.renderOutput(dataTable, element);\n",
              "          const docLink = document.createElement('div');\n",
              "          docLink.innerHTML = docLinkHtml;\n",
              "          element.appendChild(docLink);\n",
              "        }\n",
              "      </script>\n",
              "    </div>\n",
              "  </div>\n",
              "  "
            ]
          },
          "metadata": {},
          "execution_count": 6
        }
      ],
      "source": [
        "df2=df[['patient_id','analysis_id','file_area_code','rating_operator']]\n",
        "\n",
        "\n",
        "#df2.sort_values(by=['rating_operator'])\n",
        "df2['video'] ='convex_' +df2['patient_id'].astype(str) + '_' + df2['analysis_id'].astype(str)+ '_' + df2['file_area_code'].astype(str)\n",
        "#df2=df2.set_index(['patient_id','analysis_id','file_area_code'])\n",
        "df2=df2[['video','rating_operator']]\n",
        "#df2=df2.set_index(['video'])\n",
        "df2=df2.reset_index(drop=True)\n",
        "\n",
        "df2\n"
      ]
    },
    {
      "cell_type": "code",
      "execution_count": 7,
      "metadata": {
        "id": "bJqsUqXCyLxT",
        "colab": {
          "base_uri": "https://localhost:8080/",
          "height": 206
        },
        "outputId": "5325feaa-55b3-4614-c464-1d0ab5dc1741"
      },
      "outputs": [
        {
          "output_type": "execute_result",
          "data": {
            "text/plain": [
              "                  video  rating_operator\n",
              "30   convex_1045_1119_3                0\n",
              "33   convex_1045_1119_6                0\n",
              "39  convex_1045_1119_12                0\n",
              "40  convex_1045_1119_13                0\n",
              "41  convex_1045_1119_14                0"
            ],
            "text/html": [
              "\n",
              "  <div id=\"df-fa18a107-7c3a-4c95-9296-542e2b8f7779\">\n",
              "    <div class=\"colab-df-container\">\n",
              "      <div>\n",
              "<style scoped>\n",
              "    .dataframe tbody tr th:only-of-type {\n",
              "        vertical-align: middle;\n",
              "    }\n",
              "\n",
              "    .dataframe tbody tr th {\n",
              "        vertical-align: top;\n",
              "    }\n",
              "\n",
              "    .dataframe thead th {\n",
              "        text-align: right;\n",
              "    }\n",
              "</style>\n",
              "<table border=\"1\" class=\"dataframe\">\n",
              "  <thead>\n",
              "    <tr style=\"text-align: right;\">\n",
              "      <th></th>\n",
              "      <th>video</th>\n",
              "      <th>rating_operator</th>\n",
              "    </tr>\n",
              "  </thead>\n",
              "  <tbody>\n",
              "    <tr>\n",
              "      <th>30</th>\n",
              "      <td>convex_1045_1119_3</td>\n",
              "      <td>0</td>\n",
              "    </tr>\n",
              "    <tr>\n",
              "      <th>33</th>\n",
              "      <td>convex_1045_1119_6</td>\n",
              "      <td>0</td>\n",
              "    </tr>\n",
              "    <tr>\n",
              "      <th>39</th>\n",
              "      <td>convex_1045_1119_12</td>\n",
              "      <td>0</td>\n",
              "    </tr>\n",
              "    <tr>\n",
              "      <th>40</th>\n",
              "      <td>convex_1045_1119_13</td>\n",
              "      <td>0</td>\n",
              "    </tr>\n",
              "    <tr>\n",
              "      <th>41</th>\n",
              "      <td>convex_1045_1119_14</td>\n",
              "      <td>0</td>\n",
              "    </tr>\n",
              "  </tbody>\n",
              "</table>\n",
              "</div>\n",
              "      <button class=\"colab-df-convert\" onclick=\"convertToInteractive('df-fa18a107-7c3a-4c95-9296-542e2b8f7779')\"\n",
              "              title=\"Convert this dataframe to an interactive table.\"\n",
              "              style=\"display:none;\">\n",
              "        \n",
              "  <svg xmlns=\"http://www.w3.org/2000/svg\" height=\"24px\"viewBox=\"0 0 24 24\"\n",
              "       width=\"24px\">\n",
              "    <path d=\"M0 0h24v24H0V0z\" fill=\"none\"/>\n",
              "    <path d=\"M18.56 5.44l.94 2.06.94-2.06 2.06-.94-2.06-.94-.94-2.06-.94 2.06-2.06.94zm-11 1L8.5 8.5l.94-2.06 2.06-.94-2.06-.94L8.5 2.5l-.94 2.06-2.06.94zm10 10l.94 2.06.94-2.06 2.06-.94-2.06-.94-.94-2.06-.94 2.06-2.06.94z\"/><path d=\"M17.41 7.96l-1.37-1.37c-.4-.4-.92-.59-1.43-.59-.52 0-1.04.2-1.43.59L10.3 9.45l-7.72 7.72c-.78.78-.78 2.05 0 2.83L4 21.41c.39.39.9.59 1.41.59.51 0 1.02-.2 1.41-.59l7.78-7.78 2.81-2.81c.8-.78.8-2.07 0-2.86zM5.41 20L4 18.59l7.72-7.72 1.47 1.35L5.41 20z\"/>\n",
              "  </svg>\n",
              "      </button>\n",
              "      \n",
              "  <style>\n",
              "    .colab-df-container {\n",
              "      display:flex;\n",
              "      flex-wrap:wrap;\n",
              "      gap: 12px;\n",
              "    }\n",
              "\n",
              "    .colab-df-convert {\n",
              "      background-color: #E8F0FE;\n",
              "      border: none;\n",
              "      border-radius: 50%;\n",
              "      cursor: pointer;\n",
              "      display: none;\n",
              "      fill: #1967D2;\n",
              "      height: 32px;\n",
              "      padding: 0 0 0 0;\n",
              "      width: 32px;\n",
              "    }\n",
              "\n",
              "    .colab-df-convert:hover {\n",
              "      background-color: #E2EBFA;\n",
              "      box-shadow: 0px 1px 2px rgba(60, 64, 67, 0.3), 0px 1px 3px 1px rgba(60, 64, 67, 0.15);\n",
              "      fill: #174EA6;\n",
              "    }\n",
              "\n",
              "    [theme=dark] .colab-df-convert {\n",
              "      background-color: #3B4455;\n",
              "      fill: #D2E3FC;\n",
              "    }\n",
              "\n",
              "    [theme=dark] .colab-df-convert:hover {\n",
              "      background-color: #434B5C;\n",
              "      box-shadow: 0px 1px 3px 1px rgba(0, 0, 0, 0.15);\n",
              "      filter: drop-shadow(0px 1px 2px rgba(0, 0, 0, 0.3));\n",
              "      fill: #FFFFFF;\n",
              "    }\n",
              "  </style>\n",
              "\n",
              "      <script>\n",
              "        const buttonEl =\n",
              "          document.querySelector('#df-fa18a107-7c3a-4c95-9296-542e2b8f7779 button.colab-df-convert');\n",
              "        buttonEl.style.display =\n",
              "          google.colab.kernel.accessAllowed ? 'block' : 'none';\n",
              "\n",
              "        async function convertToInteractive(key) {\n",
              "          const element = document.querySelector('#df-fa18a107-7c3a-4c95-9296-542e2b8f7779');\n",
              "          const dataTable =\n",
              "            await google.colab.kernel.invokeFunction('convertToInteractive',\n",
              "                                                     [key], {});\n",
              "          if (!dataTable) return;\n",
              "\n",
              "          const docLinkHtml = 'Like what you see? Visit the ' +\n",
              "            '<a target=\"_blank\" href=https://colab.research.google.com/notebooks/data_table.ipynb>data table notebook</a>'\n",
              "            + ' to learn more about interactive tables.';\n",
              "          element.innerHTML = '';\n",
              "          dataTable['output_type'] = 'display_data';\n",
              "          await google.colab.output.renderOutput(dataTable, element);\n",
              "          const docLink = document.createElement('div');\n",
              "          docLink.innerHTML = docLinkHtml;\n",
              "          element.appendChild(docLink);\n",
              "        }\n",
              "      </script>\n",
              "    </div>\n",
              "  </div>\n",
              "  "
            ]
          },
          "metadata": {},
          "execution_count": 7
        }
      ],
      "source": [
        "s0=df2[df2['rating_operator']==0]\n",
        "s0.head()"
      ]
    },
    {
      "cell_type": "code",
      "execution_count": 8,
      "metadata": {
        "id": "Cyqyw6vAyLpP",
        "colab": {
          "base_uri": "https://localhost:8080/",
          "height": 206
        },
        "outputId": "15ae5a66-12e5-46a2-aa16-e658848bca63"
      },
      "outputs": [
        {
          "output_type": "execute_result",
          "data": {
            "text/plain": [
              "                  video  rating_operator\n",
              "1    convex_1017_1047_2                1\n",
              "3    convex_1017_1047_4                1\n",
              "5    convex_1017_1047_6                1\n",
              "12  convex_1017_1047_13                1\n",
              "25  convex_1017_1048_12                1"
            ],
            "text/html": [
              "\n",
              "  <div id=\"df-eec7e9d2-42ed-4ca2-a6b4-6039bc9ce09e\">\n",
              "    <div class=\"colab-df-container\">\n",
              "      <div>\n",
              "<style scoped>\n",
              "    .dataframe tbody tr th:only-of-type {\n",
              "        vertical-align: middle;\n",
              "    }\n",
              "\n",
              "    .dataframe tbody tr th {\n",
              "        vertical-align: top;\n",
              "    }\n",
              "\n",
              "    .dataframe thead th {\n",
              "        text-align: right;\n",
              "    }\n",
              "</style>\n",
              "<table border=\"1\" class=\"dataframe\">\n",
              "  <thead>\n",
              "    <tr style=\"text-align: right;\">\n",
              "      <th></th>\n",
              "      <th>video</th>\n",
              "      <th>rating_operator</th>\n",
              "    </tr>\n",
              "  </thead>\n",
              "  <tbody>\n",
              "    <tr>\n",
              "      <th>1</th>\n",
              "      <td>convex_1017_1047_2</td>\n",
              "      <td>1</td>\n",
              "    </tr>\n",
              "    <tr>\n",
              "      <th>3</th>\n",
              "      <td>convex_1017_1047_4</td>\n",
              "      <td>1</td>\n",
              "    </tr>\n",
              "    <tr>\n",
              "      <th>5</th>\n",
              "      <td>convex_1017_1047_6</td>\n",
              "      <td>1</td>\n",
              "    </tr>\n",
              "    <tr>\n",
              "      <th>12</th>\n",
              "      <td>convex_1017_1047_13</td>\n",
              "      <td>1</td>\n",
              "    </tr>\n",
              "    <tr>\n",
              "      <th>25</th>\n",
              "      <td>convex_1017_1048_12</td>\n",
              "      <td>1</td>\n",
              "    </tr>\n",
              "  </tbody>\n",
              "</table>\n",
              "</div>\n",
              "      <button class=\"colab-df-convert\" onclick=\"convertToInteractive('df-eec7e9d2-42ed-4ca2-a6b4-6039bc9ce09e')\"\n",
              "              title=\"Convert this dataframe to an interactive table.\"\n",
              "              style=\"display:none;\">\n",
              "        \n",
              "  <svg xmlns=\"http://www.w3.org/2000/svg\" height=\"24px\"viewBox=\"0 0 24 24\"\n",
              "       width=\"24px\">\n",
              "    <path d=\"M0 0h24v24H0V0z\" fill=\"none\"/>\n",
              "    <path d=\"M18.56 5.44l.94 2.06.94-2.06 2.06-.94-2.06-.94-.94-2.06-.94 2.06-2.06.94zm-11 1L8.5 8.5l.94-2.06 2.06-.94-2.06-.94L8.5 2.5l-.94 2.06-2.06.94zm10 10l.94 2.06.94-2.06 2.06-.94-2.06-.94-.94-2.06-.94 2.06-2.06.94z\"/><path d=\"M17.41 7.96l-1.37-1.37c-.4-.4-.92-.59-1.43-.59-.52 0-1.04.2-1.43.59L10.3 9.45l-7.72 7.72c-.78.78-.78 2.05 0 2.83L4 21.41c.39.39.9.59 1.41.59.51 0 1.02-.2 1.41-.59l7.78-7.78 2.81-2.81c.8-.78.8-2.07 0-2.86zM5.41 20L4 18.59l7.72-7.72 1.47 1.35L5.41 20z\"/>\n",
              "  </svg>\n",
              "      </button>\n",
              "      \n",
              "  <style>\n",
              "    .colab-df-container {\n",
              "      display:flex;\n",
              "      flex-wrap:wrap;\n",
              "      gap: 12px;\n",
              "    }\n",
              "\n",
              "    .colab-df-convert {\n",
              "      background-color: #E8F0FE;\n",
              "      border: none;\n",
              "      border-radius: 50%;\n",
              "      cursor: pointer;\n",
              "      display: none;\n",
              "      fill: #1967D2;\n",
              "      height: 32px;\n",
              "      padding: 0 0 0 0;\n",
              "      width: 32px;\n",
              "    }\n",
              "\n",
              "    .colab-df-convert:hover {\n",
              "      background-color: #E2EBFA;\n",
              "      box-shadow: 0px 1px 2px rgba(60, 64, 67, 0.3), 0px 1px 3px 1px rgba(60, 64, 67, 0.15);\n",
              "      fill: #174EA6;\n",
              "    }\n",
              "\n",
              "    [theme=dark] .colab-df-convert {\n",
              "      background-color: #3B4455;\n",
              "      fill: #D2E3FC;\n",
              "    }\n",
              "\n",
              "    [theme=dark] .colab-df-convert:hover {\n",
              "      background-color: #434B5C;\n",
              "      box-shadow: 0px 1px 3px 1px rgba(0, 0, 0, 0.15);\n",
              "      filter: drop-shadow(0px 1px 2px rgba(0, 0, 0, 0.3));\n",
              "      fill: #FFFFFF;\n",
              "    }\n",
              "  </style>\n",
              "\n",
              "      <script>\n",
              "        const buttonEl =\n",
              "          document.querySelector('#df-eec7e9d2-42ed-4ca2-a6b4-6039bc9ce09e button.colab-df-convert');\n",
              "        buttonEl.style.display =\n",
              "          google.colab.kernel.accessAllowed ? 'block' : 'none';\n",
              "\n",
              "        async function convertToInteractive(key) {\n",
              "          const element = document.querySelector('#df-eec7e9d2-42ed-4ca2-a6b4-6039bc9ce09e');\n",
              "          const dataTable =\n",
              "            await google.colab.kernel.invokeFunction('convertToInteractive',\n",
              "                                                     [key], {});\n",
              "          if (!dataTable) return;\n",
              "\n",
              "          const docLinkHtml = 'Like what you see? Visit the ' +\n",
              "            '<a target=\"_blank\" href=https://colab.research.google.com/notebooks/data_table.ipynb>data table notebook</a>'\n",
              "            + ' to learn more about interactive tables.';\n",
              "          element.innerHTML = '';\n",
              "          dataTable['output_type'] = 'display_data';\n",
              "          await google.colab.output.renderOutput(dataTable, element);\n",
              "          const docLink = document.createElement('div');\n",
              "          docLink.innerHTML = docLinkHtml;\n",
              "          element.appendChild(docLink);\n",
              "        }\n",
              "      </script>\n",
              "    </div>\n",
              "  </div>\n",
              "  "
            ]
          },
          "metadata": {},
          "execution_count": 8
        }
      ],
      "source": [
        "s1=df2[df2['rating_operator']==1]\n",
        "s1.head()"
      ]
    },
    {
      "cell_type": "code",
      "execution_count": 9,
      "metadata": {
        "id": "N1T1cHVKyLXz",
        "colab": {
          "base_uri": "https://localhost:8080/",
          "height": 206
        },
        "outputId": "80c66298-9254-48f0-f012-9303a393d8c0"
      },
      "outputs": [
        {
          "output_type": "execute_result",
          "data": {
            "text/plain": [
              "                video  rating_operator\n",
              "0  convex_1017_1047_1                2\n",
              "2  convex_1017_1047_3                2\n",
              "4  convex_1017_1047_5                2\n",
              "6  convex_1017_1047_7                2\n",
              "7  convex_1017_1047_8                2"
            ],
            "text/html": [
              "\n",
              "  <div id=\"df-4e957ae9-dcf1-4df5-bd35-9136d4771358\">\n",
              "    <div class=\"colab-df-container\">\n",
              "      <div>\n",
              "<style scoped>\n",
              "    .dataframe tbody tr th:only-of-type {\n",
              "        vertical-align: middle;\n",
              "    }\n",
              "\n",
              "    .dataframe tbody tr th {\n",
              "        vertical-align: top;\n",
              "    }\n",
              "\n",
              "    .dataframe thead th {\n",
              "        text-align: right;\n",
              "    }\n",
              "</style>\n",
              "<table border=\"1\" class=\"dataframe\">\n",
              "  <thead>\n",
              "    <tr style=\"text-align: right;\">\n",
              "      <th></th>\n",
              "      <th>video</th>\n",
              "      <th>rating_operator</th>\n",
              "    </tr>\n",
              "  </thead>\n",
              "  <tbody>\n",
              "    <tr>\n",
              "      <th>0</th>\n",
              "      <td>convex_1017_1047_1</td>\n",
              "      <td>2</td>\n",
              "    </tr>\n",
              "    <tr>\n",
              "      <th>2</th>\n",
              "      <td>convex_1017_1047_3</td>\n",
              "      <td>2</td>\n",
              "    </tr>\n",
              "    <tr>\n",
              "      <th>4</th>\n",
              "      <td>convex_1017_1047_5</td>\n",
              "      <td>2</td>\n",
              "    </tr>\n",
              "    <tr>\n",
              "      <th>6</th>\n",
              "      <td>convex_1017_1047_7</td>\n",
              "      <td>2</td>\n",
              "    </tr>\n",
              "    <tr>\n",
              "      <th>7</th>\n",
              "      <td>convex_1017_1047_8</td>\n",
              "      <td>2</td>\n",
              "    </tr>\n",
              "  </tbody>\n",
              "</table>\n",
              "</div>\n",
              "      <button class=\"colab-df-convert\" onclick=\"convertToInteractive('df-4e957ae9-dcf1-4df5-bd35-9136d4771358')\"\n",
              "              title=\"Convert this dataframe to an interactive table.\"\n",
              "              style=\"display:none;\">\n",
              "        \n",
              "  <svg xmlns=\"http://www.w3.org/2000/svg\" height=\"24px\"viewBox=\"0 0 24 24\"\n",
              "       width=\"24px\">\n",
              "    <path d=\"M0 0h24v24H0V0z\" fill=\"none\"/>\n",
              "    <path d=\"M18.56 5.44l.94 2.06.94-2.06 2.06-.94-2.06-.94-.94-2.06-.94 2.06-2.06.94zm-11 1L8.5 8.5l.94-2.06 2.06-.94-2.06-.94L8.5 2.5l-.94 2.06-2.06.94zm10 10l.94 2.06.94-2.06 2.06-.94-2.06-.94-.94-2.06-.94 2.06-2.06.94z\"/><path d=\"M17.41 7.96l-1.37-1.37c-.4-.4-.92-.59-1.43-.59-.52 0-1.04.2-1.43.59L10.3 9.45l-7.72 7.72c-.78.78-.78 2.05 0 2.83L4 21.41c.39.39.9.59 1.41.59.51 0 1.02-.2 1.41-.59l7.78-7.78 2.81-2.81c.8-.78.8-2.07 0-2.86zM5.41 20L4 18.59l7.72-7.72 1.47 1.35L5.41 20z\"/>\n",
              "  </svg>\n",
              "      </button>\n",
              "      \n",
              "  <style>\n",
              "    .colab-df-container {\n",
              "      display:flex;\n",
              "      flex-wrap:wrap;\n",
              "      gap: 12px;\n",
              "    }\n",
              "\n",
              "    .colab-df-convert {\n",
              "      background-color: #E8F0FE;\n",
              "      border: none;\n",
              "      border-radius: 50%;\n",
              "      cursor: pointer;\n",
              "      display: none;\n",
              "      fill: #1967D2;\n",
              "      height: 32px;\n",
              "      padding: 0 0 0 0;\n",
              "      width: 32px;\n",
              "    }\n",
              "\n",
              "    .colab-df-convert:hover {\n",
              "      background-color: #E2EBFA;\n",
              "      box-shadow: 0px 1px 2px rgba(60, 64, 67, 0.3), 0px 1px 3px 1px rgba(60, 64, 67, 0.15);\n",
              "      fill: #174EA6;\n",
              "    }\n",
              "\n",
              "    [theme=dark] .colab-df-convert {\n",
              "      background-color: #3B4455;\n",
              "      fill: #D2E3FC;\n",
              "    }\n",
              "\n",
              "    [theme=dark] .colab-df-convert:hover {\n",
              "      background-color: #434B5C;\n",
              "      box-shadow: 0px 1px 3px 1px rgba(0, 0, 0, 0.15);\n",
              "      filter: drop-shadow(0px 1px 2px rgba(0, 0, 0, 0.3));\n",
              "      fill: #FFFFFF;\n",
              "    }\n",
              "  </style>\n",
              "\n",
              "      <script>\n",
              "        const buttonEl =\n",
              "          document.querySelector('#df-4e957ae9-dcf1-4df5-bd35-9136d4771358 button.colab-df-convert');\n",
              "        buttonEl.style.display =\n",
              "          google.colab.kernel.accessAllowed ? 'block' : 'none';\n",
              "\n",
              "        async function convertToInteractive(key) {\n",
              "          const element = document.querySelector('#df-4e957ae9-dcf1-4df5-bd35-9136d4771358');\n",
              "          const dataTable =\n",
              "            await google.colab.kernel.invokeFunction('convertToInteractive',\n",
              "                                                     [key], {});\n",
              "          if (!dataTable) return;\n",
              "\n",
              "          const docLinkHtml = 'Like what you see? Visit the ' +\n",
              "            '<a target=\"_blank\" href=https://colab.research.google.com/notebooks/data_table.ipynb>data table notebook</a>'\n",
              "            + ' to learn more about interactive tables.';\n",
              "          element.innerHTML = '';\n",
              "          dataTable['output_type'] = 'display_data';\n",
              "          await google.colab.output.renderOutput(dataTable, element);\n",
              "          const docLink = document.createElement('div');\n",
              "          docLink.innerHTML = docLinkHtml;\n",
              "          element.appendChild(docLink);\n",
              "        }\n",
              "      </script>\n",
              "    </div>\n",
              "  </div>\n",
              "  "
            ]
          },
          "metadata": {},
          "execution_count": 9
        }
      ],
      "source": [
        "s2=df2[df2['rating_operator']==2]\n",
        "s2.head()"
      ]
    },
    {
      "cell_type": "code",
      "execution_count": 10,
      "metadata": {
        "id": "s8ltO4tW4myf",
        "colab": {
          "base_uri": "https://localhost:8080/",
          "height": 206
        },
        "outputId": "62447685-c15b-405d-8add-f1b11d68783b"
      },
      "outputs": [
        {
          "output_type": "execute_result",
          "data": {
            "text/plain": [
              "                 video  rating_operator\n",
              "17  convex_1017_1048_4                3\n",
              "20  convex_1017_1048_7                3\n",
              "21  convex_1017_1048_8                3\n",
              "28  convex_1045_1119_1                3\n",
              "58  convex_1047_1122_4                3"
            ],
            "text/html": [
              "\n",
              "  <div id=\"df-41edfbc3-dfe7-4c22-9377-8109d0888e05\">\n",
              "    <div class=\"colab-df-container\">\n",
              "      <div>\n",
              "<style scoped>\n",
              "    .dataframe tbody tr th:only-of-type {\n",
              "        vertical-align: middle;\n",
              "    }\n",
              "\n",
              "    .dataframe tbody tr th {\n",
              "        vertical-align: top;\n",
              "    }\n",
              "\n",
              "    .dataframe thead th {\n",
              "        text-align: right;\n",
              "    }\n",
              "</style>\n",
              "<table border=\"1\" class=\"dataframe\">\n",
              "  <thead>\n",
              "    <tr style=\"text-align: right;\">\n",
              "      <th></th>\n",
              "      <th>video</th>\n",
              "      <th>rating_operator</th>\n",
              "    </tr>\n",
              "  </thead>\n",
              "  <tbody>\n",
              "    <tr>\n",
              "      <th>17</th>\n",
              "      <td>convex_1017_1048_4</td>\n",
              "      <td>3</td>\n",
              "    </tr>\n",
              "    <tr>\n",
              "      <th>20</th>\n",
              "      <td>convex_1017_1048_7</td>\n",
              "      <td>3</td>\n",
              "    </tr>\n",
              "    <tr>\n",
              "      <th>21</th>\n",
              "      <td>convex_1017_1048_8</td>\n",
              "      <td>3</td>\n",
              "    </tr>\n",
              "    <tr>\n",
              "      <th>28</th>\n",
              "      <td>convex_1045_1119_1</td>\n",
              "      <td>3</td>\n",
              "    </tr>\n",
              "    <tr>\n",
              "      <th>58</th>\n",
              "      <td>convex_1047_1122_4</td>\n",
              "      <td>3</td>\n",
              "    </tr>\n",
              "  </tbody>\n",
              "</table>\n",
              "</div>\n",
              "      <button class=\"colab-df-convert\" onclick=\"convertToInteractive('df-41edfbc3-dfe7-4c22-9377-8109d0888e05')\"\n",
              "              title=\"Convert this dataframe to an interactive table.\"\n",
              "              style=\"display:none;\">\n",
              "        \n",
              "  <svg xmlns=\"http://www.w3.org/2000/svg\" height=\"24px\"viewBox=\"0 0 24 24\"\n",
              "       width=\"24px\">\n",
              "    <path d=\"M0 0h24v24H0V0z\" fill=\"none\"/>\n",
              "    <path d=\"M18.56 5.44l.94 2.06.94-2.06 2.06-.94-2.06-.94-.94-2.06-.94 2.06-2.06.94zm-11 1L8.5 8.5l.94-2.06 2.06-.94-2.06-.94L8.5 2.5l-.94 2.06-2.06.94zm10 10l.94 2.06.94-2.06 2.06-.94-2.06-.94-.94-2.06-.94 2.06-2.06.94z\"/><path d=\"M17.41 7.96l-1.37-1.37c-.4-.4-.92-.59-1.43-.59-.52 0-1.04.2-1.43.59L10.3 9.45l-7.72 7.72c-.78.78-.78 2.05 0 2.83L4 21.41c.39.39.9.59 1.41.59.51 0 1.02-.2 1.41-.59l7.78-7.78 2.81-2.81c.8-.78.8-2.07 0-2.86zM5.41 20L4 18.59l7.72-7.72 1.47 1.35L5.41 20z\"/>\n",
              "  </svg>\n",
              "      </button>\n",
              "      \n",
              "  <style>\n",
              "    .colab-df-container {\n",
              "      display:flex;\n",
              "      flex-wrap:wrap;\n",
              "      gap: 12px;\n",
              "    }\n",
              "\n",
              "    .colab-df-convert {\n",
              "      background-color: #E8F0FE;\n",
              "      border: none;\n",
              "      border-radius: 50%;\n",
              "      cursor: pointer;\n",
              "      display: none;\n",
              "      fill: #1967D2;\n",
              "      height: 32px;\n",
              "      padding: 0 0 0 0;\n",
              "      width: 32px;\n",
              "    }\n",
              "\n",
              "    .colab-df-convert:hover {\n",
              "      background-color: #E2EBFA;\n",
              "      box-shadow: 0px 1px 2px rgba(60, 64, 67, 0.3), 0px 1px 3px 1px rgba(60, 64, 67, 0.15);\n",
              "      fill: #174EA6;\n",
              "    }\n",
              "\n",
              "    [theme=dark] .colab-df-convert {\n",
              "      background-color: #3B4455;\n",
              "      fill: #D2E3FC;\n",
              "    }\n",
              "\n",
              "    [theme=dark] .colab-df-convert:hover {\n",
              "      background-color: #434B5C;\n",
              "      box-shadow: 0px 1px 3px 1px rgba(0, 0, 0, 0.15);\n",
              "      filter: drop-shadow(0px 1px 2px rgba(0, 0, 0, 0.3));\n",
              "      fill: #FFFFFF;\n",
              "    }\n",
              "  </style>\n",
              "\n",
              "      <script>\n",
              "        const buttonEl =\n",
              "          document.querySelector('#df-41edfbc3-dfe7-4c22-9377-8109d0888e05 button.colab-df-convert');\n",
              "        buttonEl.style.display =\n",
              "          google.colab.kernel.accessAllowed ? 'block' : 'none';\n",
              "\n",
              "        async function convertToInteractive(key) {\n",
              "          const element = document.querySelector('#df-41edfbc3-dfe7-4c22-9377-8109d0888e05');\n",
              "          const dataTable =\n",
              "            await google.colab.kernel.invokeFunction('convertToInteractive',\n",
              "                                                     [key], {});\n",
              "          if (!dataTable) return;\n",
              "\n",
              "          const docLinkHtml = 'Like what you see? Visit the ' +\n",
              "            '<a target=\"_blank\" href=https://colab.research.google.com/notebooks/data_table.ipynb>data table notebook</a>'\n",
              "            + ' to learn more about interactive tables.';\n",
              "          element.innerHTML = '';\n",
              "          dataTable['output_type'] = 'display_data';\n",
              "          await google.colab.output.renderOutput(dataTable, element);\n",
              "          const docLink = document.createElement('div');\n",
              "          docLink.innerHTML = docLinkHtml;\n",
              "          element.appendChild(docLink);\n",
              "        }\n",
              "      </script>\n",
              "    </div>\n",
              "  </div>\n",
              "  "
            ]
          },
          "metadata": {},
          "execution_count": 10
        }
      ],
      "source": [
        "s3=df2[df2['rating_operator']==3]\n",
        "s3.head()"
      ]
    },
    {
      "cell_type": "code",
      "execution_count": 11,
      "metadata": {
        "id": "1c2NcOqe49JK",
        "colab": {
          "base_uri": "https://localhost:8080/",
          "height": 316
        },
        "outputId": "4881b5c8-d531-4936-d120-851a63fec875"
      },
      "outputs": [
        {
          "output_type": "execute_result",
          "data": {
            "text/plain": [
              "array([[<matplotlib.axes._subplots.AxesSubplot object at 0x7f16aa179690>]],\n",
              "      dtype=object)"
            ]
          },
          "metadata": {},
          "execution_count": 11
        },
        {
          "output_type": "display_data",
          "data": {
            "text/plain": [
              "<Figure size 432x288 with 1 Axes>"
            ],
            "image/png": "[encoded data removed]"
          },
          "metadata": {
            "needs_background": "light"
          }
        }
      ],
      "source": [
        "df2.hist()"
      ]
    },
    {
      "cell_type": "markdown",
      "metadata": {
        "id": "sVh7c3F-uZ52"
      },
      "source": [
        "# Data label organization"
      ]
    },
    {
      "cell_type": "code",
      "execution_count": 14,
      "metadata": {
        "id": "2Hoibw3YFQVL"
      },
      "outputs": [],
      "source": [
        "#these parameters are defined in the previous section\n",
        "score0 = s0.to_dict(orient = 'list')\n",
        "score1 = s1.to_dict(orient = 'list')\n",
        "score2 = s2.to_dict(orient = 'list')\n",
        "score3 = s3.to_dict(orient = 'list')\n",
        "\n",
        "video0=score0['video']\n",
        "video1=score1['video']\n",
        "video2=score2['video']\n",
        "video3=score3['video']\n",
        "total=video0+video1+video2+video3"
      ]
    },
    {
      "cell_type": "code",
      "execution_count": null,
      "metadata": {
        "id": "98DrzylyH71C"
      },
      "outputs": [],
      "source": [
        "\n",
        "def score_folder(List,s):\n",
        "  \n",
        "  root_dir = '/content/gdrive/MyDrive/Dataset/data/'\n",
        "  path0=root_dir+s+'/score0'\n",
        "  path1=root_dir+s+'/score1'\n",
        "  path2=root_dir+s+'/score2'\n",
        "  path3=root_dir+s+'/score3'\n",
        "  path=[path0,path1,path2,path3]\n",
        "  videos_path=root_dir+s\n",
        "  for i in path:\n",
        "    if not os.path.exists(i):\n",
        "          os.mkdir(i)\n",
        "  \n",
        "  files = [f for f in os.listdir(videos_path)]\n",
        "  print(files)\n",
        "  for v in files:\n",
        "    \n",
        "      #print(os.path.join(videos_path,v))\n",
        "      if os.path.isfile(os.path.join(videos_path,v)):\n",
        "        \n",
        "        \n",
        "        \n",
        "        if v.split('.')[0] in video0 :\n",
        "       \n",
        "\n",
        "            if not os.path.exists(os.path.join(path0, v)):\n",
        "            \n",
        "              #os.mkdir(path=os.path.join(path, v))\n",
        "             shutil.copy(video_file, os.path.join(path0, v))\n",
        "\n",
        "        elif v.split('.')[0] in video1 :\n",
        "       \n",
        "\n",
        "            if not os.path.exists(os.path.join(path1, v)):\n",
        "            \n",
        "              #os.mkdir(path=os.path.join(path, v))\n",
        "              shutil.move(video_file, os.path.join(path1, v))\n",
        "\n",
        "        elif v.split('.')[0] in video2 :\n",
        "       \n",
        "\n",
        "            if not os.path.exists(os.path.join(path2, v)):\n",
        "            \n",
        "              #os.mkdir(path=os.path.join(path, v))\n",
        "              shutil.move(video_file, os.path.join(path2, v))\n",
        "   \n",
        "        elif v.split('.')[0] in video3 :\n",
        "       \n",
        "\n",
        "            if not os.path.exists(os.path.join(path3, v)):\n",
        "            \n",
        "              #os.mkdir(path=os.path.join(path, v))\n",
        "              shutil.move(video_file, os.path.join(path3, v))\n",
        "              #copy\n",
        "  \n",
        "  \n",
        "\n",
        "'''score_folder('score0',video0,'train')\n",
        "score_folder('score1',video1,'train')\n",
        "score_folder('score2',video2,'train')\n",
        "score_folder('score3',video3,'train')\n",
        "\n",
        "score_folder('score0',video0,'val')\n",
        "score_folder('score1',video1,'val')\n",
        "score_folder('score2',video2,'val')\n",
        "score_folder('score3',video3,'val')\n",
        "\n",
        "score_folder('score0',video0,'test')\n",
        "score_folder('score1',video1,'test')\n",
        "score_folder('score2',video2,'test')\n",
        "score_folder('score3',video3,'test')\n",
        "\n",
        "print('folders with no score',set(x) )\n",
        "#print(count_files(path0)+count_files(path1)+count_files(path2)+count_files(path3))'''"
      ]
    },
    {
      "cell_type": "code",
      "execution_count": null,
      "metadata": {
        "id": "vOr7pTkq-4mF"
      },
      "outputs": [],
      "source": [
        "frames_path='/content/gdrive/MyDrive/Dataset/frames score'\n",
        "frames_files=[]\n",
        "files = [os.path.join(frames_path,f) for f in os.listdir(frames_path)]\n",
        "for f in files:\n",
        "  for v in os.listdir(f):\n",
        "    if os.path.isfile(os.path.join(f,v)):\n",
        "      file=os.path.join(f,v)\n",
        "      frames_files.append(file)\n",
        "    \n",
        "\n",
        "for file in frames_files:\n",
        "  matrix_max_min_frame_generator(file) \n",
        "  print('next file__________________________________________________________________________')"
      ]
    },
    {
      "cell_type": "markdown",
      "metadata": {
        "id": "jeEMnOJIgjzX"
      },
      "source": [
        "# Missing scores"
      ]
    },
    {
      "cell_type": "code",
      "execution_count": 15,
      "metadata": {
        "colab": {
          "base_uri": "https://localhost:8080/"
        },
        "id": "3ZlO_iY6ePWD",
        "outputId": "99984f7c-f157-4eed-8a29-d870a11816a3"
      },
      "outputs": [
        {
          "output_type": "stream",
          "name": "stdout",
          "text": [
            "['convex_1045_1120_6']\n"
          ]
        }
      ],
      "source": [
        "videos_path='/content/gdrive/MyDrive/Dataset/frames'\n",
        "x=[]\n",
        "\n",
        "\n",
        "files = [os.path.join(videos_path,f) for f in os.listdir(videos_path)]\n",
        "#print(files)\n",
        "for f in files:\n",
        "  for v in os.listdir(f):\n",
        "\n",
        "    \n",
        "      \n",
        "      #print(os.path.join(videos_path,v))\n",
        "      if os.path.isfile(os.path.join(f,v)):\n",
        "        #print(v)\n",
        "        if v.split('.')[0] not in total :\n",
        "          x.append(v.split('.')[0])\n",
        "print(x)\n"
      ]
    },
    {
      "cell_type": "markdown",
      "metadata": {
        "id": "n1ti_iYiUj2L"
      },
      "source": [
        "# Data split"
      ]
    },
    {
      "cell_type": "markdown",
      "source": [
        "## K-fold\n"
      ],
      "metadata": {
        "id": "GsJ6jRiKTriu"
      }
    },
    {
      "cell_type": "code",
      "source": [
        "k=3\n",
        "df=pd.read_csv('/content/gdrive/MyDrive/Dataset/SanMatteo.csv')\n",
        "df=df[['patient_id','analysis_id','file_area_code','rating_operator']]\n",
        "\n",
        "TRAIN_SPLIT_PERC = 0.7  #0.7\n",
        "VALID_SPLIT_PERC = 0.21 #0.21\n",
        "folds=[]\n",
        "id=\"patient_id\"\n",
        "for i in range(k):\n",
        "    \n",
        "    uniques = df[id].unique()\n",
        "    random.shuffle(uniques)\n",
        "    step = int(len(uniques) * TRAIN_SPLIT_PERC)\n",
        "    step1=int(len(uniques) * (TRAIN_SPLIT_PERC+VALID_SPLIT_PERC))\n",
        "    df = df.sample(frac=1).reset_index(drop=True) #shuffling data\n",
        "    train_ids, valid_ids,test_ids = uniques[:step], uniques[step:step1],uniques[step1:]\n",
        "    \n",
        "\n",
        "\n",
        "   \n",
        "    fold=[list(train_ids),list(valid_ids),list(test_ids)]\n",
        "    \n",
        "    folds.append(fold)\n",
        "print(folds)\n",
        "\n",
        "  "
      ],
      "metadata": {
        "colab": {
          "base_uri": "https://localhost:8080/"
        },
        "id": "yhpKA7tfJ-X9",
        "outputId": "ace065d6-60ff-49e6-db77-290763db8fb6"
      },
      "execution_count": 102,
      "outputs": [
        {
          "output_type": "stream",
          "name": "stdout",
          "text": [
            "[[[1051, 1048, 1045, 1068, 1047, 1069, 1067, 1050], [1066, 1052], [1017]], [[1017, 1067, 1066, 1068, 1069, 1045, 1052, 1051], [1050, 1047], [1048]], [[1067, 1051, 1069, 1017, 1068, 1047, 1066, 1048], [1050, 1052], [1045]]]\n"
          ]
        }
      ]
    },
    {
      "cell_type": "code",
      "execution_count": 96,
      "metadata": {
        "id": "jnbvey39uV2D",
        "colab": {
          "base_uri": "https://localhost:8080/"
        },
        "outputId": "9bf81c87-e139-4d3b-beea-90a98c5995d5"
      },
      "outputs": [
        {
          "output_type": "stream",
          "name": "stderr",
          "text": [
            "/usr/local/lib/python3.7/dist-packages/ipykernel_launcher.py:11: SettingWithCopyWarning: \n",
            "A value is trying to be set on a copy of a slice from a DataFrame.\n",
            "Try using .loc[row_indexer,col_indexer] = value instead\n",
            "\n",
            "See the caveats in the documentation: https://pandas.pydata.org/pandas-docs/stable/user_guide/indexing.html#returning-a-view-versus-a-copy\n",
            "  # This is added back by InteractiveShellApp.init_path()\n"
          ]
        }
      ],
      "source": [
        "\n",
        "fold_num=1\n",
        "train_ids, valid_ids,test_ids = folds[fold_num][0],folds[fold_num][1],folds[fold_num][2]\n",
        "train_df,  valid_df ,test_df = df[df.patient_id.isin(train_ids)],df[df.patient_id.isin(valid_ids)], df[df.patient_id.isin(test_ids)]\n",
        "'''\n",
        "print(\"\\nTRAIN DATA\\n\", train_df.shape)\n",
        "print(\"\\nVALID DATA\\n\", valid_df.shape)\n",
        "print(\"\\nTEST DATA\\n\", test_df.shape)\n",
        "'''\n",
        "D=[train_df,valid_df,test_df]\n",
        "for d in D:\n",
        "  d['video'] ='convex_' +d['patient_id'].astype(str) + '_' + d['analysis_id'].astype(str)+ '_' + d['file_area_code'].astype(str)\n",
        "\n",
        "  d=d[['video','rating_operator']]\n",
        "  d=d.reset_index(drop=True)\n",
        "\n",
        "\n",
        "train = train_df.to_dict(orient = 'list')\n",
        "valid = valid_df.to_dict(orient = 'list')\n",
        "test = test_df.to_dict(orient = 'list')\n",
        "train=train['video']\n",
        "valid=valid['video']\n",
        "test=test['video']"
      ]
    },
    {
      "cell_type": "markdown",
      "source": [
        "## split the folders"
      ],
      "metadata": {
        "id": "Pyg_J9-dYbxV"
      }
    },
    {
      "cell_type": "code",
      "execution_count": null,
      "metadata": {
        "id": "SWW8GziQwkew"
      },
      "outputs": [],
      "source": [
        "root_dir = '/content/gdrive/MyDrive/Dataset/data/'\n",
        "videos_path='/content/gdrive/MyDrive/Dataset/frames'\n",
        "l=['train','valid','test']\n",
        "L=[train,valid,test]\n",
        "j=0\n",
        "for i in l:\n",
        "  if not os.path.exists(os.path.join(root_dir, i)):\n",
        "            os.mkdir(path=os.path.join(root_dir, i))\n",
        "\n",
        "\n",
        "\n",
        "for List in L:\n",
        "  path=os.path.join(root_dir, l[j])\n",
        "  video_files=[]\n",
        "  files = [os.path.join(videos_path,f) for f in os.listdir(videos_path) ]\n",
        "  for f in files:\n",
        "    for v in os.listdir(f):\n",
        "      if os.path.isfile(os.path.join(f,v)):\n",
        "       video_file=os.path.join(f,v)\n",
        "       video_files.append(video_file)\n",
        "       \n",
        "        \n",
        "        \n",
        "      if v.split('.')[0] in List :\n",
        "       \n",
        "\n",
        "        if not os.path.exists(os.path.join(path, v)):\n",
        "            \n",
        "            #os.mkdir(path=os.path.join(path, v))\n",
        "            shutil.copy(video_file, os.path.join(path, v))\n",
        "  j+=1\n",
        "\n",
        "\n",
        "\n",
        "print(count_files('/content/gdrive/MyDrive/Dataset/data/train')+count_files('/content/gdrive/MyDrive/Dataset/data/valid')+count_files('/content/gdrive/MyDrive/Dataset/data/test'))"
      ]
    },
    {
      "cell_type": "markdown",
      "source": [
        "## organize the data by score"
      ],
      "metadata": {
        "id": "HOEBvJeXYuKs"
      }
    },
    {
      "cell_type": "code",
      "execution_count": null,
      "metadata": {
        "id": "tgHgWxoSNSkW"
      },
      "outputs": [],
      "source": [
        "score_folder(train,'train')\n",
        "score_folder(valid,'valid')\n",
        "score_folder(test,'test')\n"
      ]
    },
    {
      "cell_type": "markdown",
      "source": [
        "## generate the min-max frame"
      ],
      "metadata": {
        "id": "LhTDfec6Y9rx"
      }
    },
    {
      "cell_type": "code",
      "execution_count": null,
      "metadata": {
        "id": "i9melguKX1-H"
      },
      "outputs": [],
      "source": [
        "train_path='/content/gdrive/MyDrive/Dataset/data/train'\n",
        "valid_path='/content/gdrive/MyDrive/Dataset/data/valid'\n",
        "test_path='/content/gdrive/MyDrive/Dataset/data/test'\n",
        "path=[train_path,valid_path,test_path]\n",
        "\n",
        "for p in path:\n",
        "  files = [os.path.join(p,f) for f in os.listdir(p) if not os.path.isfile(os.path.join(p,f))]\n",
        "  \n",
        "  for f in files:\n",
        "    for v in os.listdir(f):\n",
        "      if os.path.isfile(os.path.join(f,v)):\n",
        "        file=os.path.join(f,v)\n",
        "        \n",
        "        matrix_max_min_frame_generator(file) \n",
        "        print('_____________________________________________next file___________________________________________________________')\n",
        "    \n"
      ]
    },
    {
      "cell_type": "markdown",
      "metadata": {
        "id": "dwLEkh3s7CTY"
      },
      "source": [
        "### coupling the min and max images"
      ]
    },
    {
      "cell_type": "code",
      "execution_count": 45,
      "metadata": {
        "id": "BUNX8Jz8Bm5Q"
      },
      "outputs": [],
      "source": [
        "def im_concat(image): \n",
        "    \n",
        "    filename=image[0].split('/')[-1]\n",
        "    filename=filename.split('-')[0]\n",
        "    \n",
        "    filename1, _ = os.path.splitext(image[0])\n",
        "    filename1=os.path.dirname(filename1)\n",
        "   \n",
        "    \n",
        "    img1 = cv2.imread(image[0])\n",
        "    img2 = cv2.imread(image[1])\n",
        "    im_h = cv2.hconcat([img1, img2])\n",
        "    #print(image)\n",
        "    # show the output image\n",
        "    \n",
        "    if not os.path.exists(os.path.join(filename1,f\"{filename}.jpg\")):\n",
        "      plt.imshow(im_h)\n",
        "      plt.show()\n",
        "      cv2.imwrite(os.path.join(filename1,f\"{filename}.jpg\"), im_h)\n",
        "      print(os.path.join(filename1,f\"{filename}.jpg\"))\n",
        "    \n",
        "x=['/content/gdrive/MyDrive/Dataset/data/test/score0/convex_1069_1156_1-MAXMIN/convex_1069_1156_1-Max.jpg','/content/gdrive/MyDrive/Dataset/data/test/score0/convex_1069_1156_1-MAXMIN/convex_1069_1156_1-Min.jpg']\n",
        "im_concat(x)"
      ]
    },
    {
      "cell_type": "code",
      "execution_count": 54,
      "metadata": {
        "id": "XBhRso-e7BB4"
      },
      "outputs": [],
      "source": [
        "train_path='/content/gdrive/MyDrive/Dataset/data/train'\n",
        "valid_path='/content/gdrive/MyDrive/Dataset/data/valid'\n",
        "test_path='/content/gdrive/MyDrive/Dataset/data/test'\n",
        "path=[train_path,valid_path,test_path]\n",
        "for p in path:\n",
        "  files = [os.path.join(p,f) for f in os.listdir(p) if not os.path.isfile(os.path.join(p,f))]\n",
        "  \n",
        "  for f in files:\n",
        "    for v in os.listdir(f):\n",
        "      if not  os.path.isfile(os.path.join(f,v)):\n",
        "        file=os.path.join(f,v)\n",
        "        images=[]\n",
        "        if count_files(file)<1:\n",
        "          print('this folder is empty',file)\n",
        "        if count_files(file)>1:\n",
        "          for j in os.listdir(file):\n",
        "            img=os.path.join(file,j)\n",
        "          \n",
        "            images.append(img)\n",
        "        \n",
        "          im_concat(images)\n",
        "          images=images[:2]\n",
        "          for i in images:\n",
        "            os.remove(i)\n",
        "            print(i,' removed')\n",
        "        \n",
        "   "
      ]
    }
  ],
  "metadata": {
    "colab": {
      "collapsed_sections": [
        "mPYKPiC_vj_c",
        "on6VfOzTu83F",
        "3FtkO9Reux6w",
        "I2owOzhPuQWX"
      ],
      "provenance": [],
      "authorship_tag": "ABX9TyOK0Kj2lInuwkAcLXBy8IR5",
      "include_colab_link": true
    },
    "gpuClass": "standard",
    "kernelspec": {
      "display_name": "Python 3",
      "name": "python3"
    },
    "language_info": {
      "name": "python"
    }
  },
  "nbformat": 4,
  "nbformat_minor": 0
}