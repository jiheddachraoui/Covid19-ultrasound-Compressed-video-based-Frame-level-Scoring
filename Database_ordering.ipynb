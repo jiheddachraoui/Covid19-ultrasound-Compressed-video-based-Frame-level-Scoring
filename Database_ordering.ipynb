{
  "cells": [
    {
      "cell_type": "markdown",
      "metadata": {
        "id": "view-in-github",
        "colab_type": "text"
      },
      "source": [
        "<a href=\"https://colab.research.google.com/github/jiheddachraoui/Covid19-ultrasound-video-scoring/blob/main/Database_ordering.ipynb\" target=\"_parent\"><img src=\"https://colab.research.google.com/assets/colab-badge.svg\" alt=\"Open In Colab\"/></a>"
      ]
    },
    {
      "cell_type": "markdown",
      "metadata": {
        "id": "mPYKPiC_vj_c"
      },
      "source": [
        "## Importations"
      ]
    },
    {
      "cell_type": "code",
      "execution_count": null,
      "metadata": {
        "colab": {
          "base_uri": "https://localhost:8080/"
        },
        "id": "AFuXhsc9GeUv",
        "outputId": "d2d3d6d6-f0b0-4501-85df-e5e838b515f8"
      },
      "outputs": [
        {
          "output_type": "stream",
          "name": "stdout",
          "text": [
            "Mounted at /content/gdrive\n"
          ]
        }
      ],
      "source": [
        "import sys \n",
        "from google.colab import drive\n",
        "drive.mount('/content/gdrive')\n",
        "from datetime import timedelta\n",
        "import cv2\n",
        "import numpy as np\n",
        "import os\n",
        "import shutil\n",
        "import matplotlib.pyplot as plt\n",
        "import pandas as pd\n",
        "import random\n",
        "from sklearn.model_selection import KFold \n",
        "from sklearn.metrics import accuracy_score\n",
        "from scipy.io import loadmat\n"
      ]
    },
    {
      "cell_type": "markdown",
      "metadata": {
        "id": "ta_oXqsDvsLh"
      },
      "source": [
        "# Copying Data to Drive"
      ]
    },
    {
      "cell_type": "code",
      "execution_count": null,
      "metadata": {
        "colab": {
          "background_save": true
        },
        "id": "3hKFOVpAJqxB"
      },
      "outputs": [],
      "source": [
        "source_dir = r\"/content/gdrive/MyDrive/Dati San Matteo Dataset 2\"\n",
        "destination_dir = r\"/content/gdrive/MyDrive/Dataset\"\n",
        "#create a copy of the dataset\n",
        "#shutil.copytree(source_dir, destination_dir)"
      ]
    },
    {
      "cell_type": "markdown",
      "metadata": {
        "id": "BBIie2TvwACQ"
      },
      "source": [
        "## Copying all data in one folder"
      ]
    },
    {
      "cell_type": "markdown",
      "metadata": {
        "id": "cDQIyrG-0Dyd"
      },
      "source": [
        "###videos"
      ]
    },
    {
      "cell_type": "code",
      "execution_count": null,
      "metadata": {
        "id": "IK7hStjtW-7G"
      },
      "outputs": [],
      "source": [
        "folder_path = \"/content/gdrive/MyDrive/Dataset\"\n",
        "if os.path.exists(\"/content/gdrive/MyDrive/Dataset/videos\"):\n",
        "  shutil.rmtree(\"/content/gdrive/MyDrive/Dataset/videos\")\n",
        "files = [f for f in os.listdir(folder_path) if not os.path.isfile(os.path.join(folder_path, f))]\n",
        "exams=[]\n",
        "videos=[]\n",
        "vid_path=[]\n",
        "for f in files:\n",
        "    path = os.path.join(folder_path,f)\n",
        "    for e in os.listdir(path):\n",
        "\n",
        "      if not os.path.isfile(os.path.join(path, e)):\n",
        "        exams.append(e)\n",
        "        path1 = os.path.join(path,e)\n",
        "        \n",
        "        for v in os.listdir(path1):\n",
        "          \n",
        "          if os.path.isfile(os.path.join(path1, v)) and v.split('.')[1]==\"avi\" :\n",
        "            videos.append(v)\n",
        "            vid_path.append(path1)\n",
        "            \n",
        " \n",
        "#len(videos)\n",
        "len(vid_path)\n",
        "\n"
      ]
    },
    {
      "cell_type": "code",
      "execution_count": null,
      "metadata": {
        "id": "a7n91YFPOg9o"
      },
      "outputs": [],
      "source": [
        "i=0\n",
        "for video in videos:\n",
        "    folder_type = video.split('.')[1]\n",
        "    patient_name = video.split('_')[1]\n",
        "    exam = video.split('_')[2]\n",
        "    new_path = os.path.join(videos_path, patient_name+'-'+exam)\n",
        "    if not os.path.exists(new_path):\n",
        "        os.makedirs(new_path)\n",
        "    \n",
        "    old_video_path = os.path.join(vid_path[i], video)\n",
        "    new_video_path = os.path.join(new_path, video)\n",
        "    if not os.path.exists(new_video_path):\n",
        "      shutil.copy(old_video_path, new_video_path)\n",
        "      print('video',video ,'added to',new_video_path)\n",
        "    i+=1"
      ]
    },
    {
      "cell_type": "markdown",
      "metadata": {
        "id": "Int7uQTu0U3X"
      },
      "source": [
        "### videos frames"
      ]
    },
    {
      "cell_type": "code",
      "execution_count": null,
      "metadata": {
        "id": "zmTopPyd0hk6"
      },
      "outputs": [],
      "source": [
        "folder_path = \"/content/gdrive/MyDrive/Dataset\"\n",
        "\n",
        "files = [f for f in os.listdir(folder_path) if not os.path.isfile(os.path.join(folder_path, f))]\n",
        "exams=[]\n",
        "frames=[]\n",
        "f_path=[]\n",
        "for f in files:\n",
        "    path = os.path.join(folder_path,f)\n",
        "    for e in os.listdir(path):\n",
        "\n",
        "      if not os.path.isfile(os.path.join(path, e)):\n",
        "        exams.append(e)\n",
        "        path1 = os.path.join(path,e)\n",
        "        \n",
        "        for v in os.listdir(path1):\n",
        "          \n",
        "          if os.path.isfile(os.path.join(path1, v)) and v.split('.')[1]==\"mat\" and len(v.split('_'))==4 :\n",
        "            \n",
        "            frames.append(v)\n",
        "            f_path.append(os.path.join(path1, v))\n",
        "            \n",
        " \n",
        "#len(videos)\n",
        "len(f_path)\n"
      ]
    },
    {
      "cell_type": "code",
      "execution_count": null,
      "metadata": {
        "id": "9X0fZSF0amr4"
      },
      "outputs": [],
      "source": [
        "frames_path='/content/gdrive/MyDrive/Dataset/frames'\n",
        "i=0\n",
        "\n",
        "for f in frames:\n",
        "    folder_type = f.split('.')[1]\n",
        "    patient_name = f.split('_')[1]\n",
        "    exam = f.split('_')[2]\n",
        "    new_path = os.path.join(frames_path, patient_name+'-'+exam)\n",
        "    if not os.path.exists(new_path):\n",
        "        os.makedirs(new_path)\n",
        "    \n",
        "    old_file_path = f_path[i]\n",
        "    new_file_path = os.path.join(new_path, f)\n",
        "    if not os.path.exists(new_file_path):\n",
        "      shutil.copy(old_file_path, new_file_path)\n",
        "      print('video frames',f ,'added to',new_file_path)\n",
        "    i+=1"
      ]
    },
    {
      "cell_type": "markdown",
      "metadata": {
        "id": "ea1EbvAhvL-3"
      },
      "source": [
        "# Frames extraction"
      ]
    },
    {
      "cell_type": "code",
      "execution_count": null,
      "metadata": {
        "id": "uF_G0Sl_GwsL"
      },
      "outputs": [],
      "source": [
        "SAVING_FRAMES_PER_SECOND = 10\n",
        "def format_timedelta(td):\n",
        "    \"\"\"Utility function to format timedelta objects in a cool way (e.g 00:00:20.05) \n",
        "    omitting microseconds and retaining milliseconds\"\"\"\n",
        "    result = str(td)\n",
        "    try:\n",
        "        result, ms = result.split(\".\")\n",
        "    except ValueError:\n",
        "        return result + \".00\".replace(\":\", \"-\")\n",
        "    ms = int(ms)\n",
        "    ms = round(ms / 1e4)\n",
        "    return f\"{result}.{ms:02}\".replace(\":\", \"-\")\n",
        "\n",
        "\n",
        "def get_saving_frames_durations(cap, saving_fps):\n",
        "    \"\"\"A function that returns the list of durations where to save the frames\"\"\"\n",
        "    s = []\n",
        "    # get the clip duration by dividing number of frames by the number of frames per second\n",
        "    clip_duration = cap.get(cv2.CAP_PROP_FRAME_COUNT) / cap.get(cv2.CAP_PROP_FPS)\n",
        "    # use np.arange() to make floating-point steps\n",
        "    for i in np.arange(0, clip_duration, 1 / saving_fps):\n",
        "        s.append(i)\n",
        "    return s"
      ]
    },
    {
      "cell_type": "code",
      "execution_count": null,
      "metadata": {
        "id": "GgmyjZawHiGo"
      },
      "outputs": [],
      "source": [
        "def extract(video_file):\n",
        "    filename, _ = os.path.splitext(video_file)\n",
        "    filename += \"-Frames\"\n",
        "    print(filename)\n",
        "    # make a folder by the name of the video file\n",
        "    if not os.path.isdir(filename):\n",
        "        os.mkdir(filename)\n",
        "    # read the video file    \n",
        "    cap = cv2.VideoCapture(video_file)\n",
        "    # get the FPS of the video\n",
        "    fps = cap.get(cv2.CAP_PROP_FPS)\n",
        "    # if the SAVING_FRAMES_PER_SECOND is above video FPS, then set it to FPS (as maximum)\n",
        "    saving_frames_per_second = min(fps, SAVING_FRAMES_PER_SECOND)\n",
        "    # get the list of duration spots to save\n",
        "    saving_frames_durations = get_saving_frames_durations(cap, saving_frames_per_second)\n",
        "    # start the loop\n",
        "    count = 0\n",
        "    while True:\n",
        "        is_read, frame = cap.read()\n",
        "        if not is_read:\n",
        "            # break out of the loop if there are no frames to read\n",
        "            break\n",
        "        # get the duration by dividing the frame count by the FPS\n",
        "        frame_duration = count / fps\n",
        "        try:\n",
        "            # get the earliest duration to save\n",
        "            closest_duration = saving_frames_durations[0]\n",
        "        except IndexError:\n",
        "            # the list is empty, all duration frames were saved\n",
        "            break\n",
        "        if frame_duration >= closest_duration:\n",
        "            # if closest duration is less than or equals the frame duration, \n",
        "            # then save the frame\n",
        "            frame_duration_formatted = format_timedelta(timedelta(seconds=frame_duration))\n",
        "            cv2.imwrite(os.path.join(filename, f\"frame{frame_duration_formatted}.jpg\"), frame)\n",
        "            print(os.path.join(filename, f\"frame{frame_duration_formatted}.jpg\"), 'saved') \n",
        "            # drop the duration spot from the list, since this duration spot is already saved\n",
        "            try:\n",
        "                saving_frames_durations.pop(0)\n",
        "            except IndexError:\n",
        "                pass\n",
        "        # increment the frame count\n",
        "        count += 1"
      ]
    },
    {
      "cell_type": "code",
      "execution_count": null,
      "metadata": {
        "id": "9ZprdpL2Hm_8"
      },
      "outputs": [],
      "source": [
        "videos_path='/content/gdrive/MyDrive/Dataset/videos'\n",
        "video_files=[]\n",
        "files = [os.path.join(videos_path,f) for f in os.listdir(videos_path)]\n",
        "for f in files:\n",
        "  for v in os.listdir(f):\n",
        "    if os.path.isfile(os.path.join(f,v)):\n",
        "      video_file=os.path.join(f,v)\n",
        "      video_files.append(video_file)\n",
        "    \n",
        "\n",
        "for video_file in video_files:\n",
        "  extract(video_file) \n",
        "  print('next video__________________________________________________________________________')"
      ]
    },
    {
      "cell_type": "markdown",
      "metadata": {
        "id": "on6VfOzTu83F"
      },
      "source": [
        "# Count files in folder"
      ]
    },
    {
      "cell_type": "code",
      "execution_count": null,
      "metadata": {
        "id": "hUIsa8jfZbfc"
      },
      "outputs": [],
      "source": [
        "def count_files(path):\n",
        "  count = 0\n",
        "\n",
        "  for f in os.listdir(path):\n",
        "      # check if current path is a file\n",
        "      if os.path.isfile(os.path.join(path, f)):\n",
        "          count += 1\n",
        "  #print('File count:', count)\n",
        "  return count\n"
      ]
    },
    {
      "cell_type": "markdown",
      "metadata": {
        "id": "3FtkO9Reux6w"
      },
      "source": [
        "# Max-Min images generator"
      ]
    },
    {
      "cell_type": "code",
      "execution_count": null,
      "metadata": {
        "id": "ppTGDSoV3o3T"
      },
      "outputs": [],
      "source": [
        "\n",
        "def vid_max_min_frame_generator(vid_path):\n",
        "  filename, _ = os.path.splitext(video_file)\n",
        "  filename += \"-MAXMIN\"\n",
        "  if not os.path.isdir(filename):\n",
        "        os.mkdir(filename)\n",
        "  cap = cv2.VideoCapture(vid_path)\n",
        "  frameCount = int(cap.get(cv2.CAP_PROP_FRAME_COUNT))\n",
        "  frameWidth = int(cap.get(cv2.CAP_PROP_FRAME_WIDTH))\n",
        "  frameHeight = int(cap.get(cv2.CAP_PROP_FRAME_HEIGHT))\n",
        "\n",
        "  buf = np.empty((frameCount, frameHeight, frameWidth, 3), np.dtype('uint8'))\n",
        "\n",
        "  fc = 0\n",
        "  ret = True\n",
        "\n",
        "  while (fc < frameCount  and ret):\n",
        "      ret, buf[fc] = cap.read()\n",
        "      fc += 1\n",
        "\n",
        "  cap.release()\n",
        "  \n",
        "  try:\n",
        "    Max=np.max(buf,axis=0)\n",
        "    Min=np.min(buf,axis=0)\n",
        "   \n",
        "    #plt.imshow(Max)\n",
        "    #print(Max.shape)\n",
        "  \n",
        "    #plt.show()\n",
        "    #plt.imshow(Min)\n",
        "    #print(Min.shape)\n",
        "    #plt.show()\n",
        "    cv2.imwrite(os.path.join(filename,\"Max.jpg\"), Max)\n",
        "    print(os.path.join(filename,\"-Max.jpg\"))\n",
        "    cv2.imwrite(os.path.join(filename,\"Min.jpg\"), Min)\n",
        "    print(os.path.join(filename,\"-Min.jpg\"), 'saved')\n",
        "  \n",
        "  except ValueError:  \n",
        "      pass\n",
        " ################################################################\n",
        "\n",
        "\n",
        "\n",
        "\n",
        "\n",
        "def matrix_max_min_frame_generator(file_path):\n",
        "  filename=file_path.split('/')[-1]\n",
        "  filename=filename.split('.')[0]\n",
        "  filename1, _ = os.path.splitext(file_path)\n",
        "  filename1 =filename1+ \"-MAXMIN\"\n",
        "  \n",
        "  if not os.path.isdir(filename1):\n",
        "        os.mkdir(filename1)\n",
        "  f = loadmat(file_path)\n",
        "  frames=f['frames']\n",
        "  #frames.shape\n",
        "  \n",
        "  Max=np.max(frames,axis=3)\n",
        "  Min=np.min(frames,axis=3)\n",
        "  #plt.imshow(Max)\n",
        "  #print(Max.shape)\n",
        " # plt.show()\n",
        "  #plt.imshow(Min)\n",
        "  #print(Min.shape)\n",
        "  #plt.show()\n",
        "  if not os.path.exists(os.path.join(filename1,f\"{filename}-Max.jpg\")) :\n",
        "    cv2.imwrite(os.path.join(filename1,f\"{filename}-Max.jpg\"), Max)\n",
        "    print(os.path.join(filename1,f\"{filename}-Max.jpg\"))\n",
        "  if not os.path.exists(os.path.join(filename1,f\"{filename}-Min.jpg\")) :\n",
        "    cv2.imwrite(os.path.join(filename1,f\"{filename}-Min.jpg\"), Min)\n",
        "    print(os.path.join(filename1,f\"{filename}-Min.jpg\"), 'saved')\n",
        "  \n",
        "  \n",
        " "
      ]
    },
    {
      "cell_type": "markdown",
      "metadata": {
        "id": "ZMzoabySoyky"
      },
      "source": [
        "# Crop Image"
      ]
    },
    {
      "cell_type": "code",
      "execution_count": null,
      "metadata": {
        "id": "-8n4MHlzchkd"
      },
      "outputs": [],
      "source": [
        "\n",
        "# Importing Image class from PIL module\n",
        "from PIL import Image\n",
        "import matplotlib.pyplot as plt\n",
        "# Opens a image in RGB mode\n",
        "def crop(image):\n",
        "  im = Image.open(image)\n",
        " \n",
        "  # Setting the points for cropped image\n",
        "  width, height = im.size\n",
        " \n",
        "  # Setting the points for cropped image\n",
        "  left = 400\n",
        "  top = 60\n",
        "  right = 1030\n",
        "  bottom=570\n",
        "  # Cropped image of above dimension\n",
        "  # (It will not change original image)\n",
        "  im1 = im.crop((left, top, right, bottom))\n",
        " \n",
        "  # Shows the image in image viewer\n",
        "  plt.imshow(im)\n",
        "  plt.show()\n",
        "  plt.imshow(im1)\n",
        "  plt.show()\n",
        "  "
      ]
    },
    {
      "cell_type": "markdown",
      "metadata": {
        "id": "I2owOzhPuQWX"
      },
      "source": [
        "# Data analysis \n"
      ]
    },
    {
      "cell_type": "code",
      "execution_count": null,
      "metadata": {
        "id": "Q2HxHE6OkG7G",
        "colab": {
          "base_uri": "https://localhost:8080/"
        },
        "outputId": "0bf15130-d8c0-49f0-8a7b-3822520da01a"
      },
      "outputs": [
        {
          "output_type": "execute_result",
          "data": {
            "text/plain": [
              "array([[<matplotlib.axes._subplots.AxesSubplot object at 0x7f095f450510>,\n",
              "        <matplotlib.axes._subplots.AxesSubplot object at 0x7f095f456d90>,\n",
              "        <matplotlib.axes._subplots.AxesSubplot object at 0x7f095f4692d0>,\n",
              "        <matplotlib.axes._subplots.AxesSubplot object at 0x7f095f47f7d0>,\n",
              "        <matplotlib.axes._subplots.AxesSubplot object at 0x7f095f422cd0>,\n",
              "        <matplotlib.axes._subplots.AxesSubplot object at 0x7f095f3cf210>],\n",
              "       [<matplotlib.axes._subplots.AxesSubplot object at 0x7f0962814d50>,\n",
              "        <matplotlib.axes._subplots.AxesSubplot object at 0x7f0962543dd0>,\n",
              "        <matplotlib.axes._subplots.AxesSubplot object at 0x7f096248e2d0>,\n",
              "        <matplotlib.axes._subplots.AxesSubplot object at 0x7f096212a5d0>,\n",
              "        <matplotlib.axes._subplots.AxesSubplot object at 0x7f095f36f290>,\n",
              "        <matplotlib.axes._subplots.AxesSubplot object at 0x7f095f31f890>],\n",
              "       [<matplotlib.axes._subplots.AxesSubplot object at 0x7f095f2d0e90>,\n",
              "        <matplotlib.axes._subplots.AxesSubplot object at 0x7f095f2904d0>,\n",
              "        <matplotlib.axes._subplots.AxesSubplot object at 0x7f095f247ad0>,\n",
              "        <matplotlib.axes._subplots.AxesSubplot object at 0x7f095f20d110>,\n",
              "        <matplotlib.axes._subplots.AxesSubplot object at 0x7f095f1c3710>,\n",
              "        <matplotlib.axes._subplots.AxesSubplot object at 0x7f095f1f9d10>],\n",
              "       [<matplotlib.axes._subplots.AxesSubplot object at 0x7f095f1be350>,\n",
              "        <matplotlib.axes._subplots.AxesSubplot object at 0x7f095f175950>,\n",
              "        <matplotlib.axes._subplots.AxesSubplot object at 0x7f095f12bf50>,\n",
              "        <matplotlib.axes._subplots.AxesSubplot object at 0x7f095f0ed590>,\n",
              "        <matplotlib.axes._subplots.AxesSubplot object at 0x7f095f0a6b90>,\n",
              "        <matplotlib.axes._subplots.AxesSubplot object at 0x7f095f068250>],\n",
              "       [<matplotlib.axes._subplots.AxesSubplot object at 0x7f095f01c850>,\n",
              "        <matplotlib.axes._subplots.AxesSubplot object at 0x7f095efd3e50>,\n",
              "        <matplotlib.axes._subplots.AxesSubplot object at 0x7f095ef97490>,\n",
              "        <matplotlib.axes._subplots.AxesSubplot object at 0x7f095ef4ea90>,\n",
              "        <matplotlib.axes._subplots.AxesSubplot object at 0x7f095ef120d0>,\n",
              "        <matplotlib.axes._subplots.AxesSubplot object at 0x7f095eeca6d0>],\n",
              "       [<matplotlib.axes._subplots.AxesSubplot object at 0x7f095eefecd0>,\n",
              "        <matplotlib.axes._subplots.AxesSubplot object at 0x7f095ee43310>,\n",
              "        <matplotlib.axes._subplots.AxesSubplot object at 0x7f095ee7a910>,\n",
              "        <matplotlib.axes._subplots.AxesSubplot object at 0x7f095ee30f10>,\n",
              "        <matplotlib.axes._subplots.AxesSubplot object at 0x7f095edf3550>,\n",
              "        <matplotlib.axes._subplots.AxesSubplot object at 0x7f095edabb50>]],\n",
              "      dtype=object)"
            ]
          },
          "metadata": {},
          "execution_count": 13
        },
        {
          "output_type": "display_data",
          "data": {
            "text/plain": [
              "<Figure size 1440x1080 with 36 Axes>"
            ],
            "image/png": "[encoded data removed]"
          },
          "metadata": {
            "needs_background": "light"
          }
        }
      ],
      "source": [
        "df=pd.read_csv('/content/gdrive/MyDrive/Dataset/SanMatteo.csv')\n",
        "\n",
        "df.hist(bins=50,figsize=(20,15))"
      ]
    },
    {
      "cell_type": "code",
      "execution_count": null,
      "metadata": {
        "id": "pTNz2vswuOM-",
        "colab": {
          "base_uri": "https://localhost:8080/"
        },
        "outputId": "85bb6116-c16f-49e5-8a17-9e103fed7abf"
      },
      "outputs": [
        {
          "output_type": "stream",
          "name": "stderr",
          "text": [
            "/usr/local/lib/python3.7/dist-packages/ipykernel_launcher.py:5: SettingWithCopyWarning: \n",
            "A value is trying to be set on a copy of a slice from a DataFrame.\n",
            "Try using .loc[row_indexer,col_indexer] = value instead\n",
            "\n",
            "See the caveats in the documentation: https://pandas.pydata.org/pandas-docs/stable/user_guide/indexing.html#returning-a-view-versus-a-copy\n",
            "  \"\"\"\n"
          ]
        },
        {
          "output_type": "execute_result",
          "data": {
            "text/plain": [
              "                   video  rating_operator\n",
              "0     convex_1017_1047_1                2\n",
              "1     convex_1017_1047_2                1\n",
              "2     convex_1017_1047_3                2\n",
              "3     convex_1017_1047_4                1\n",
              "4     convex_1017_1047_5                2\n",
              "..                   ...              ...\n",
              "241  convex_1069_1158_10                1\n",
              "242  convex_1069_1158_11                1\n",
              "243  convex_1069_1158_12                1\n",
              "244  convex_1069_1158_13                1\n",
              "245  convex_1069_1158_14                0\n",
              "\n",
              "[246 rows x 2 columns]"
            ],
            "text/html": [
              "\n",
              "  <div id=\"df-1eb8d586-9d56-47a0-a30f-0e7db1907ce7\">\n",
              "    <div class=\"colab-df-container\">\n",
              "      <div>\n",
              "<style scoped>\n",
              "    .dataframe tbody tr th:only-of-type {\n",
              "        vertical-align: middle;\n",
              "    }\n",
              "\n",
              "    .dataframe tbody tr th {\n",
              "        vertical-align: top;\n",
              "    }\n",
              "\n",
              "    .dataframe thead th {\n",
              "        text-align: right;\n",
              "    }\n",
              "</style>\n",
              "<table border=\"1\" class=\"dataframe\">\n",
              "  <thead>\n",
              "    <tr style=\"text-align: right;\">\n",
              "      <th></th>\n",
              "      <th>video</th>\n",
              "      <th>rating_operator</th>\n",
              "    </tr>\n",
              "  </thead>\n",
              "  <tbody>\n",
              "    <tr>\n",
              "      <th>0</th>\n",
              "      <td>convex_1017_1047_1</td>\n",
              "      <td>2</td>\n",
              "    </tr>\n",
              "    <tr>\n",
              "      <th>1</th>\n",
              "      <td>convex_1017_1047_2</td>\n",
              "      <td>1</td>\n",
              "    </tr>\n",
              "    <tr>\n",
              "      <th>2</th>\n",
              "      <td>convex_1017_1047_3</td>\n",
              "      <td>2</td>\n",
              "    </tr>\n",
              "    <tr>\n",
              "      <th>3</th>\n",
              "      <td>convex_1017_1047_4</td>\n",
              "      <td>1</td>\n",
              "    </tr>\n",
              "    <tr>\n",
              "      <th>4</th>\n",
              "      <td>convex_1017_1047_5</td>\n",
              "      <td>2</td>\n",
              "    </tr>\n",
              "    <tr>\n",
              "      <th>...</th>\n",
              "      <td>...</td>\n",
              "      <td>...</td>\n",
              "    </tr>\n",
              "    <tr>\n",
              "      <th>241</th>\n",
              "      <td>convex_1069_1158_10</td>\n",
              "      <td>1</td>\n",
              "    </tr>\n",
              "    <tr>\n",
              "      <th>242</th>\n",
              "      <td>convex_1069_1158_11</td>\n",
              "      <td>1</td>\n",
              "    </tr>\n",
              "    <tr>\n",
              "      <th>243</th>\n",
              "      <td>convex_1069_1158_12</td>\n",
              "      <td>1</td>\n",
              "    </tr>\n",
              "    <tr>\n",
              "      <th>244</th>\n",
              "      <td>convex_1069_1158_13</td>\n",
              "      <td>1</td>\n",
              "    </tr>\n",
              "    <tr>\n",
              "      <th>245</th>\n",
              "      <td>convex_1069_1158_14</td>\n",
              "      <td>0</td>\n",
              "    </tr>\n",
              "  </tbody>\n",
              "</table>\n",
              "<p>246 rows × 2 columns</p>\n",
              "</div>\n",
              "      <button class=\"colab-df-convert\" onclick=\"convertToInteractive('df-1eb8d586-9d56-47a0-a30f-0e7db1907ce7')\"\n",
              "              title=\"Convert this dataframe to an interactive table.\"\n",
              "              style=\"display:none;\">\n",
              "        \n",
              "  <svg xmlns=\"http://www.w3.org/2000/svg\" height=\"24px\"viewBox=\"0 0 24 24\"\n",
              "       width=\"24px\">\n",
              "    <path d=\"M0 0h24v24H0V0z\" fill=\"none\"/>\n",
              "    <path d=\"M18.56 5.44l.94 2.06.94-2.06 2.06-.94-2.06-.94-.94-2.06-.94 2.06-2.06.94zm-11 1L8.5 8.5l.94-2.06 2.06-.94-2.06-.94L8.5 2.5l-.94 2.06-2.06.94zm10 10l.94 2.06.94-2.06 2.06-.94-2.06-.94-.94-2.06-.94 2.06-2.06.94z\"/><path d=\"M17.41 7.96l-1.37-1.37c-.4-.4-.92-.59-1.43-.59-.52 0-1.04.2-1.43.59L10.3 9.45l-7.72 7.72c-.78.78-.78 2.05 0 2.83L4 21.41c.39.39.9.59 1.41.59.51 0 1.02-.2 1.41-.59l7.78-7.78 2.81-2.81c.8-.78.8-2.07 0-2.86zM5.41 20L4 18.59l7.72-7.72 1.47 1.35L5.41 20z\"/>\n",
              "  </svg>\n",
              "      </button>\n",
              "      \n",
              "  <style>\n",
              "    .colab-df-container {\n",
              "      display:flex;\n",
              "      flex-wrap:wrap;\n",
              "      gap: 12px;\n",
              "    }\n",
              "\n",
              "    .colab-df-convert {\n",
              "      background-color: #E8F0FE;\n",
              "      border: none;\n",
              "      border-radius: 50%;\n",
              "      cursor: pointer;\n",
              "      display: none;\n",
              "      fill: #1967D2;\n",
              "      height: 32px;\n",
              "      padding: 0 0 0 0;\n",
              "      width: 32px;\n",
              "    }\n",
              "\n",
              "    .colab-df-convert:hover {\n",
              "      background-color: #E2EBFA;\n",
              "      box-shadow: 0px 1px 2px rgba(60, 64, 67, 0.3), 0px 1px 3px 1px rgba(60, 64, 67, 0.15);\n",
              "      fill: #174EA6;\n",
              "    }\n",
              "\n",
              "    [theme=dark] .colab-df-convert {\n",
              "      background-color: #3B4455;\n",
              "      fill: #D2E3FC;\n",
              "    }\n",
              "\n",
              "    [theme=dark] .colab-df-convert:hover {\n",
              "      background-color: #434B5C;\n",
              "      box-shadow: 0px 1px 3px 1px rgba(0, 0, 0, 0.15);\n",
              "      filter: drop-shadow(0px 1px 2px rgba(0, 0, 0, 0.3));\n",
              "      fill: #FFFFFF;\n",
              "    }\n",
              "  </style>\n",
              "\n",
              "      <script>\n",
              "        const buttonEl =\n",
              "          document.querySelector('#df-1eb8d586-9d56-47a0-a30f-0e7db1907ce7 button.colab-df-convert');\n",
              "        buttonEl.style.display =\n",
              "          google.colab.kernel.accessAllowed ? 'block' : 'none';\n",
              "\n",
              "        async function convertToInteractive(key) {\n",
              "          const element = document.querySelector('#df-1eb8d586-9d56-47a0-a30f-0e7db1907ce7');\n",
              "          const dataTable =\n",
              "            await google.colab.kernel.invokeFunction('convertToInteractive',\n",
              "                                                     [key], {});\n",
              "          if (!dataTable) return;\n",
              "\n",
              "          const docLinkHtml = 'Like what you see? Visit the ' +\n",
              "            '<a target=\"_blank\" href=https://colab.research.google.com/notebooks/data_table.ipynb>data table notebook</a>'\n",
              "            + ' to learn more about interactive tables.';\n",
              "          element.innerHTML = '';\n",
              "          dataTable['output_type'] = 'display_data';\n",
              "          await google.colab.output.renderOutput(dataTable, element);\n",
              "          const docLink = document.createElement('div');\n",
              "          docLink.innerHTML = docLinkHtml;\n",
              "          element.appendChild(docLink);\n",
              "        }\n",
              "      </script>\n",
              "    </div>\n",
              "  </div>\n",
              "  "
            ]
          },
          "metadata": {},
          "execution_count": 14
        }
      ],
      "source": [
        "df2=df[['patient_id','analysis_id','file_area_code','rating_operator']]\n",
        "\n",
        "\n",
        "#df2.sort_values(by=['rating_operator'])\n",
        "df2['video'] ='convex_' +df2['patient_id'].astype(str) + '_' + df2['analysis_id'].astype(str)+ '_' + df2['file_area_code'].astype(str)\n",
        "#df2=df2.set_index(['patient_id','analysis_id','file_area_code'])\n",
        "df2=df2[['video','rating_operator']]\n",
        "#df2=df2.set_index(['video'])\n",
        "df2=df2.reset_index(drop=True)\n",
        "\n",
        "df2\n"
      ]
    },
    {
      "cell_type": "code",
      "execution_count": null,
      "metadata": {
        "id": "bJqsUqXCyLxT",
        "colab": {
          "base_uri": "https://localhost:8080/"
        },
        "outputId": "e6e218a0-4e4f-492b-d55c-ca97a2d6585f"
      },
      "outputs": [
        {
          "output_type": "execute_result",
          "data": {
            "text/plain": [
              "                  video  rating_operator\n",
              "30   convex_1045_1119_3                0\n",
              "33   convex_1045_1119_6                0\n",
              "39  convex_1045_1119_12                0\n",
              "40  convex_1045_1119_13                0\n",
              "41  convex_1045_1119_14                0"
            ],
            "text/html": [
              "\n",
              "  <div id=\"df-c62e6d19-861a-47a8-9c26-a4f96bbb355e\">\n",
              "    <div class=\"colab-df-container\">\n",
              "      <div>\n",
              "<style scoped>\n",
              "    .dataframe tbody tr th:only-of-type {\n",
              "        vertical-align: middle;\n",
              "    }\n",
              "\n",
              "    .dataframe tbody tr th {\n",
              "        vertical-align: top;\n",
              "    }\n",
              "\n",
              "    .dataframe thead th {\n",
              "        text-align: right;\n",
              "    }\n",
              "</style>\n",
              "<table border=\"1\" class=\"dataframe\">\n",
              "  <thead>\n",
              "    <tr style=\"text-align: right;\">\n",
              "      <th></th>\n",
              "      <th>video</th>\n",
              "      <th>rating_operator</th>\n",
              "    </tr>\n",
              "  </thead>\n",
              "  <tbody>\n",
              "    <tr>\n",
              "      <th>30</th>\n",
              "      <td>convex_1045_1119_3</td>\n",
              "      <td>0</td>\n",
              "    </tr>\n",
              "    <tr>\n",
              "      <th>33</th>\n",
              "      <td>convex_1045_1119_6</td>\n",
              "      <td>0</td>\n",
              "    </tr>\n",
              "    <tr>\n",
              "      <th>39</th>\n",
              "      <td>convex_1045_1119_12</td>\n",
              "      <td>0</td>\n",
              "    </tr>\n",
              "    <tr>\n",
              "      <th>40</th>\n",
              "      <td>convex_1045_1119_13</td>\n",
              "      <td>0</td>\n",
              "    </tr>\n",
              "    <tr>\n",
              "      <th>41</th>\n",
              "      <td>convex_1045_1119_14</td>\n",
              "      <td>0</td>\n",
              "    </tr>\n",
              "  </tbody>\n",
              "</table>\n",
              "</div>\n",
              "      <button class=\"colab-df-convert\" onclick=\"convertToInteractive('df-c62e6d19-861a-47a8-9c26-a4f96bbb355e')\"\n",
              "              title=\"Convert this dataframe to an interactive table.\"\n",
              "              style=\"display:none;\">\n",
              "        \n",
              "  <svg xmlns=\"http://www.w3.org/2000/svg\" height=\"24px\"viewBox=\"0 0 24 24\"\n",
              "       width=\"24px\">\n",
              "    <path d=\"M0 0h24v24H0V0z\" fill=\"none\"/>\n",
              "    <path d=\"M18.56 5.44l.94 2.06.94-2.06 2.06-.94-2.06-.94-.94-2.06-.94 2.06-2.06.94zm-11 1L8.5 8.5l.94-2.06 2.06-.94-2.06-.94L8.5 2.5l-.94 2.06-2.06.94zm10 10l.94 2.06.94-2.06 2.06-.94-2.06-.94-.94-2.06-.94 2.06-2.06.94z\"/><path d=\"M17.41 7.96l-1.37-1.37c-.4-.4-.92-.59-1.43-.59-.52 0-1.04.2-1.43.59L10.3 9.45l-7.72 7.72c-.78.78-.78 2.05 0 2.83L4 21.41c.39.39.9.59 1.41.59.51 0 1.02-.2 1.41-.59l7.78-7.78 2.81-2.81c.8-.78.8-2.07 0-2.86zM5.41 20L4 18.59l7.72-7.72 1.47 1.35L5.41 20z\"/>\n",
              "  </svg>\n",
              "      </button>\n",
              "      \n",
              "  <style>\n",
              "    .colab-df-container {\n",
              "      display:flex;\n",
              "      flex-wrap:wrap;\n",
              "      gap: 12px;\n",
              "    }\n",
              "\n",
              "    .colab-df-convert {\n",
              "      background-color: #E8F0FE;\n",
              "      border: none;\n",
              "      border-radius: 50%;\n",
              "      cursor: pointer;\n",
              "      display: none;\n",
              "      fill: #1967D2;\n",
              "      height: 32px;\n",
              "      padding: 0 0 0 0;\n",
              "      width: 32px;\n",
              "    }\n",
              "\n",
              "    .colab-df-convert:hover {\n",
              "      background-color: #E2EBFA;\n",
              "      box-shadow: 0px 1px 2px rgba(60, 64, 67, 0.3), 0px 1px 3px 1px rgba(60, 64, 67, 0.15);\n",
              "      fill: #174EA6;\n",
              "    }\n",
              "\n",
              "    [theme=dark] .colab-df-convert {\n",
              "      background-color: #3B4455;\n",
              "      fill: #D2E3FC;\n",
              "    }\n",
              "\n",
              "    [theme=dark] .colab-df-convert:hover {\n",
              "      background-color: #434B5C;\n",
              "      box-shadow: 0px 1px 3px 1px rgba(0, 0, 0, 0.15);\n",
              "      filter: drop-shadow(0px 1px 2px rgba(0, 0, 0, 0.3));\n",
              "      fill: #FFFFFF;\n",
              "    }\n",
              "  </style>\n",
              "\n",
              "      <script>\n",
              "        const buttonEl =\n",
              "          document.querySelector('#df-c62e6d19-861a-47a8-9c26-a4f96bbb355e button.colab-df-convert');\n",
              "        buttonEl.style.display =\n",
              "          google.colab.kernel.accessAllowed ? 'block' : 'none';\n",
              "\n",
              "        async function convertToInteractive(key) {\n",
              "          const element = document.querySelector('#df-c62e6d19-861a-47a8-9c26-a4f96bbb355e');\n",
              "          const dataTable =\n",
              "            await google.colab.kernel.invokeFunction('convertToInteractive',\n",
              "                                                     [key], {});\n",
              "          if (!dataTable) return;\n",
              "\n",
              "          const docLinkHtml = 'Like what you see? Visit the ' +\n",
              "            '<a target=\"_blank\" href=https://colab.research.google.com/notebooks/data_table.ipynb>data table notebook</a>'\n",
              "            + ' to learn more about interactive tables.';\n",
              "          element.innerHTML = '';\n",
              "          dataTable['output_type'] = 'display_data';\n",
              "          await google.colab.output.renderOutput(dataTable, element);\n",
              "          const docLink = document.createElement('div');\n",
              "          docLink.innerHTML = docLinkHtml;\n",
              "          element.appendChild(docLink);\n",
              "        }\n",
              "      </script>\n",
              "    </div>\n",
              "  </div>\n",
              "  "
            ]
          },
          "metadata": {},
          "execution_count": 15
        }
      ],
      "source": [
        "s0=df2[df2['rating_operator']==0]\n",
        "s0.head()"
      ]
    },
    {
      "cell_type": "code",
      "execution_count": null,
      "metadata": {
        "id": "Cyqyw6vAyLpP",
        "colab": {
          "base_uri": "https://localhost:8080/"
        },
        "outputId": "d32be635-dfcc-492b-ccdf-55928b9a14f7"
      },
      "outputs": [
        {
          "output_type": "execute_result",
          "data": {
            "text/plain": [
              "                  video  rating_operator\n",
              "1    convex_1017_1047_2                1\n",
              "3    convex_1017_1047_4                1\n",
              "5    convex_1017_1047_6                1\n",
              "12  convex_1017_1047_13                1\n",
              "25  convex_1017_1048_12                1"
            ],
            "text/html": [
              "\n",
              "  <div id=\"df-eb766467-35ec-4a6a-b344-92aa53a3ebe1\">\n",
              "    <div class=\"colab-df-container\">\n",
              "      <div>\n",
              "<style scoped>\n",
              "    .dataframe tbody tr th:only-of-type {\n",
              "        vertical-align: middle;\n",
              "    }\n",
              "\n",
              "    .dataframe tbody tr th {\n",
              "        vertical-align: top;\n",
              "    }\n",
              "\n",
              "    .dataframe thead th {\n",
              "        text-align: right;\n",
              "    }\n",
              "</style>\n",
              "<table border=\"1\" class=\"dataframe\">\n",
              "  <thead>\n",
              "    <tr style=\"text-align: right;\">\n",
              "      <th></th>\n",
              "      <th>video</th>\n",
              "      <th>rating_operator</th>\n",
              "    </tr>\n",
              "  </thead>\n",
              "  <tbody>\n",
              "    <tr>\n",
              "      <th>1</th>\n",
              "      <td>convex_1017_1047_2</td>\n",
              "      <td>1</td>\n",
              "    </tr>\n",
              "    <tr>\n",
              "      <th>3</th>\n",
              "      <td>convex_1017_1047_4</td>\n",
              "      <td>1</td>\n",
              "    </tr>\n",
              "    <tr>\n",
              "      <th>5</th>\n",
              "      <td>convex_1017_1047_6</td>\n",
              "      <td>1</td>\n",
              "    </tr>\n",
              "    <tr>\n",
              "      <th>12</th>\n",
              "      <td>convex_1017_1047_13</td>\n",
              "      <td>1</td>\n",
              "    </tr>\n",
              "    <tr>\n",
              "      <th>25</th>\n",
              "      <td>convex_1017_1048_12</td>\n",
              "      <td>1</td>\n",
              "    </tr>\n",
              "  </tbody>\n",
              "</table>\n",
              "</div>\n",
              "      <button class=\"colab-df-convert\" onclick=\"convertToInteractive('df-eb766467-35ec-4a6a-b344-92aa53a3ebe1')\"\n",
              "              title=\"Convert this dataframe to an interactive table.\"\n",
              "              style=\"display:none;\">\n",
              "        \n",
              "  <svg xmlns=\"http://www.w3.org/2000/svg\" height=\"24px\"viewBox=\"0 0 24 24\"\n",
              "       width=\"24px\">\n",
              "    <path d=\"M0 0h24v24H0V0z\" fill=\"none\"/>\n",
              "    <path d=\"M18.56 5.44l.94 2.06.94-2.06 2.06-.94-2.06-.94-.94-2.06-.94 2.06-2.06.94zm-11 1L8.5 8.5l.94-2.06 2.06-.94-2.06-.94L8.5 2.5l-.94 2.06-2.06.94zm10 10l.94 2.06.94-2.06 2.06-.94-2.06-.94-.94-2.06-.94 2.06-2.06.94z\"/><path d=\"M17.41 7.96l-1.37-1.37c-.4-.4-.92-.59-1.43-.59-.52 0-1.04.2-1.43.59L10.3 9.45l-7.72 7.72c-.78.78-.78 2.05 0 2.83L4 21.41c.39.39.9.59 1.41.59.51 0 1.02-.2 1.41-.59l7.78-7.78 2.81-2.81c.8-.78.8-2.07 0-2.86zM5.41 20L4 18.59l7.72-7.72 1.47 1.35L5.41 20z\"/>\n",
              "  </svg>\n",
              "      </button>\n",
              "      \n",
              "  <style>\n",
              "    .colab-df-container {\n",
              "      display:flex;\n",
              "      flex-wrap:wrap;\n",
              "      gap: 12px;\n",
              "    }\n",
              "\n",
              "    .colab-df-convert {\n",
              "      background-color: #E8F0FE;\n",
              "      border: none;\n",
              "      border-radius: 50%;\n",
              "      cursor: pointer;\n",
              "      display: none;\n",
              "      fill: #1967D2;\n",
              "      height: 32px;\n",
              "      padding: 0 0 0 0;\n",
              "      width: 32px;\n",
              "    }\n",
              "\n",
              "    .colab-df-convert:hover {\n",
              "      background-color: #E2EBFA;\n",
              "      box-shadow: 0px 1px 2px rgba(60, 64, 67, 0.3), 0px 1px 3px 1px rgba(60, 64, 67, 0.15);\n",
              "      fill: #174EA6;\n",
              "    }\n",
              "\n",
              "    [theme=dark] .colab-df-convert {\n",
              "      background-color: #3B4455;\n",
              "      fill: #D2E3FC;\n",
              "    }\n",
              "\n",
              "    [theme=dark] .colab-df-convert:hover {\n",
              "      background-color: #434B5C;\n",
              "      box-shadow: 0px 1px 3px 1px rgba(0, 0, 0, 0.15);\n",
              "      filter: drop-shadow(0px 1px 2px rgba(0, 0, 0, 0.3));\n",
              "      fill: #FFFFFF;\n",
              "    }\n",
              "  </style>\n",
              "\n",
              "      <script>\n",
              "        const buttonEl =\n",
              "          document.querySelector('#df-eb766467-35ec-4a6a-b344-92aa53a3ebe1 button.colab-df-convert');\n",
              "        buttonEl.style.display =\n",
              "          google.colab.kernel.accessAllowed ? 'block' : 'none';\n",
              "\n",
              "        async function convertToInteractive(key) {\n",
              "          const element = document.querySelector('#df-eb766467-35ec-4a6a-b344-92aa53a3ebe1');\n",
              "          const dataTable =\n",
              "            await google.colab.kernel.invokeFunction('convertToInteractive',\n",
              "                                                     [key], {});\n",
              "          if (!dataTable) return;\n",
              "\n",
              "          const docLinkHtml = 'Like what you see? Visit the ' +\n",
              "            '<a target=\"_blank\" href=https://colab.research.google.com/notebooks/data_table.ipynb>data table notebook</a>'\n",
              "            + ' to learn more about interactive tables.';\n",
              "          element.innerHTML = '';\n",
              "          dataTable['output_type'] = 'display_data';\n",
              "          await google.colab.output.renderOutput(dataTable, element);\n",
              "          const docLink = document.createElement('div');\n",
              "          docLink.innerHTML = docLinkHtml;\n",
              "          element.appendChild(docLink);\n",
              "        }\n",
              "      </script>\n",
              "    </div>\n",
              "  </div>\n",
              "  "
            ]
          },
          "metadata": {},
          "execution_count": 16
        }
      ],
      "source": [
        "s1=df2[df2['rating_operator']==1]\n",
        "s1.head()"
      ]
    },
    {
      "cell_type": "code",
      "execution_count": null,
      "metadata": {
        "id": "N1T1cHVKyLXz",
        "colab": {
          "base_uri": "https://localhost:8080/"
        },
        "outputId": "06568d1a-54e9-451a-cf6a-58d5ad71b09c"
      },
      "outputs": [
        {
          "output_type": "execute_result",
          "data": {
            "text/plain": [
              "                video  rating_operator\n",
              "0  convex_1017_1047_1                2\n",
              "2  convex_1017_1047_3                2\n",
              "4  convex_1017_1047_5                2\n",
              "6  convex_1017_1047_7                2\n",
              "7  convex_1017_1047_8                2"
            ],
            "text/html": [
              "\n",
              "  <div id=\"df-c87549cd-8972-4544-be81-fc0621448dbd\">\n",
              "    <div class=\"colab-df-container\">\n",
              "      <div>\n",
              "<style scoped>\n",
              "    .dataframe tbody tr th:only-of-type {\n",
              "        vertical-align: middle;\n",
              "    }\n",
              "\n",
              "    .dataframe tbody tr th {\n",
              "        vertical-align: top;\n",
              "    }\n",
              "\n",
              "    .dataframe thead th {\n",
              "        text-align: right;\n",
              "    }\n",
              "</style>\n",
              "<table border=\"1\" class=\"dataframe\">\n",
              "  <thead>\n",
              "    <tr style=\"text-align: right;\">\n",
              "      <th></th>\n",
              "      <th>video</th>\n",
              "      <th>rating_operator</th>\n",
              "    </tr>\n",
              "  </thead>\n",
              "  <tbody>\n",
              "    <tr>\n",
              "      <th>0</th>\n",
              "      <td>convex_1017_1047_1</td>\n",
              "      <td>2</td>\n",
              "    </tr>\n",
              "    <tr>\n",
              "      <th>2</th>\n",
              "      <td>convex_1017_1047_3</td>\n",
              "      <td>2</td>\n",
              "    </tr>\n",
              "    <tr>\n",
              "      <th>4</th>\n",
              "      <td>convex_1017_1047_5</td>\n",
              "      <td>2</td>\n",
              "    </tr>\n",
              "    <tr>\n",
              "      <th>6</th>\n",
              "      <td>convex_1017_1047_7</td>\n",
              "      <td>2</td>\n",
              "    </tr>\n",
              "    <tr>\n",
              "      <th>7</th>\n",
              "      <td>convex_1017_1047_8</td>\n",
              "      <td>2</td>\n",
              "    </tr>\n",
              "  </tbody>\n",
              "</table>\n",
              "</div>\n",
              "      <button class=\"colab-df-convert\" onclick=\"convertToInteractive('df-c87549cd-8972-4544-be81-fc0621448dbd')\"\n",
              "              title=\"Convert this dataframe to an interactive table.\"\n",
              "              style=\"display:none;\">\n",
              "        \n",
              "  <svg xmlns=\"http://www.w3.org/2000/svg\" height=\"24px\"viewBox=\"0 0 24 24\"\n",
              "       width=\"24px\">\n",
              "    <path d=\"M0 0h24v24H0V0z\" fill=\"none\"/>\n",
              "    <path d=\"M18.56 5.44l.94 2.06.94-2.06 2.06-.94-2.06-.94-.94-2.06-.94 2.06-2.06.94zm-11 1L8.5 8.5l.94-2.06 2.06-.94-2.06-.94L8.5 2.5l-.94 2.06-2.06.94zm10 10l.94 2.06.94-2.06 2.06-.94-2.06-.94-.94-2.06-.94 2.06-2.06.94z\"/><path d=\"M17.41 7.96l-1.37-1.37c-.4-.4-.92-.59-1.43-.59-.52 0-1.04.2-1.43.59L10.3 9.45l-7.72 7.72c-.78.78-.78 2.05 0 2.83L4 21.41c.39.39.9.59 1.41.59.51 0 1.02-.2 1.41-.59l7.78-7.78 2.81-2.81c.8-.78.8-2.07 0-2.86zM5.41 20L4 18.59l7.72-7.72 1.47 1.35L5.41 20z\"/>\n",
              "  </svg>\n",
              "      </button>\n",
              "      \n",
              "  <style>\n",
              "    .colab-df-container {\n",
              "      display:flex;\n",
              "      flex-wrap:wrap;\n",
              "      gap: 12px;\n",
              "    }\n",
              "\n",
              "    .colab-df-convert {\n",
              "      background-color: #E8F0FE;\n",
              "      border: none;\n",
              "      border-radius: 50%;\n",
              "      cursor: pointer;\n",
              "      display: none;\n",
              "      fill: #1967D2;\n",
              "      height: 32px;\n",
              "      padding: 0 0 0 0;\n",
              "      width: 32px;\n",
              "    }\n",
              "\n",
              "    .colab-df-convert:hover {\n",
              "      background-color: #E2EBFA;\n",
              "      box-shadow: 0px 1px 2px rgba(60, 64, 67, 0.3), 0px 1px 3px 1px rgba(60, 64, 67, 0.15);\n",
              "      fill: #174EA6;\n",
              "    }\n",
              "\n",
              "    [theme=dark] .colab-df-convert {\n",
              "      background-color: #3B4455;\n",
              "      fill: #D2E3FC;\n",
              "    }\n",
              "\n",
              "    [theme=dark] .colab-df-convert:hover {\n",
              "      background-color: #434B5C;\n",
              "      box-shadow: 0px 1px 3px 1px rgba(0, 0, 0, 0.15);\n",
              "      filter: drop-shadow(0px 1px 2px rgba(0, 0, 0, 0.3));\n",
              "      fill: #FFFFFF;\n",
              "    }\n",
              "  </style>\n",
              "\n",
              "      <script>\n",
              "        const buttonEl =\n",
              "          document.querySelector('#df-c87549cd-8972-4544-be81-fc0621448dbd button.colab-df-convert');\n",
              "        buttonEl.style.display =\n",
              "          google.colab.kernel.accessAllowed ? 'block' : 'none';\n",
              "\n",
              "        async function convertToInteractive(key) {\n",
              "          const element = document.querySelector('#df-c87549cd-8972-4544-be81-fc0621448dbd');\n",
              "          const dataTable =\n",
              "            await google.colab.kernel.invokeFunction('convertToInteractive',\n",
              "                                                     [key], {});\n",
              "          if (!dataTable) return;\n",
              "\n",
              "          const docLinkHtml = 'Like what you see? Visit the ' +\n",
              "            '<a target=\"_blank\" href=https://colab.research.google.com/notebooks/data_table.ipynb>data table notebook</a>'\n",
              "            + ' to learn more about interactive tables.';\n",
              "          element.innerHTML = '';\n",
              "          dataTable['output_type'] = 'display_data';\n",
              "          await google.colab.output.renderOutput(dataTable, element);\n",
              "          const docLink = document.createElement('div');\n",
              "          docLink.innerHTML = docLinkHtml;\n",
              "          element.appendChild(docLink);\n",
              "        }\n",
              "      </script>\n",
              "    </div>\n",
              "  </div>\n",
              "  "
            ]
          },
          "metadata": {},
          "execution_count": 17
        }
      ],
      "source": [
        "s2=df2[df2['rating_operator']==2]\n",
        "s2.head()"
      ]
    },
    {
      "cell_type": "code",
      "execution_count": null,
      "metadata": {
        "id": "s8ltO4tW4myf",
        "colab": {
          "base_uri": "https://localhost:8080/"
        },
        "outputId": "e4734fe3-18f9-4408-cdd5-7f1357b0bb87"
      },
      "outputs": [
        {
          "output_type": "execute_result",
          "data": {
            "text/plain": [
              "                 video  rating_operator\n",
              "17  convex_1017_1048_4                3\n",
              "20  convex_1017_1048_7                3\n",
              "21  convex_1017_1048_8                3\n",
              "28  convex_1045_1119_1                3\n",
              "58  convex_1047_1122_4                3"
            ],
            "text/html": [
              "\n",
              "  <div id=\"df-b0e50a28-d323-4db4-bce8-7a37462194c1\">\n",
              "    <div class=\"colab-df-container\">\n",
              "      <div>\n",
              "<style scoped>\n",
              "    .dataframe tbody tr th:only-of-type {\n",
              "        vertical-align: middle;\n",
              "    }\n",
              "\n",
              "    .dataframe tbody tr th {\n",
              "        vertical-align: top;\n",
              "    }\n",
              "\n",
              "    .dataframe thead th {\n",
              "        text-align: right;\n",
              "    }\n",
              "</style>\n",
              "<table border=\"1\" class=\"dataframe\">\n",
              "  <thead>\n",
              "    <tr style=\"text-align: right;\">\n",
              "      <th></th>\n",
              "      <th>video</th>\n",
              "      <th>rating_operator</th>\n",
              "    </tr>\n",
              "  </thead>\n",
              "  <tbody>\n",
              "    <tr>\n",
              "      <th>17</th>\n",
              "      <td>convex_1017_1048_4</td>\n",
              "      <td>3</td>\n",
              "    </tr>\n",
              "    <tr>\n",
              "      <th>20</th>\n",
              "      <td>convex_1017_1048_7</td>\n",
              "      <td>3</td>\n",
              "    </tr>\n",
              "    <tr>\n",
              "      <th>21</th>\n",
              "      <td>convex_1017_1048_8</td>\n",
              "      <td>3</td>\n",
              "    </tr>\n",
              "    <tr>\n",
              "      <th>28</th>\n",
              "      <td>convex_1045_1119_1</td>\n",
              "      <td>3</td>\n",
              "    </tr>\n",
              "    <tr>\n",
              "      <th>58</th>\n",
              "      <td>convex_1047_1122_4</td>\n",
              "      <td>3</td>\n",
              "    </tr>\n",
              "  </tbody>\n",
              "</table>\n",
              "</div>\n",
              "      <button class=\"colab-df-convert\" onclick=\"convertToInteractive('df-b0e50a28-d323-4db4-bce8-7a37462194c1')\"\n",
              "              title=\"Convert this dataframe to an interactive table.\"\n",
              "              style=\"display:none;\">\n",
              "        \n",
              "  <svg xmlns=\"http://www.w3.org/2000/svg\" height=\"24px\"viewBox=\"0 0 24 24\"\n",
              "       width=\"24px\">\n",
              "    <path d=\"M0 0h24v24H0V0z\" fill=\"none\"/>\n",
              "    <path d=\"M18.56 5.44l.94 2.06.94-2.06 2.06-.94-2.06-.94-.94-2.06-.94 2.06-2.06.94zm-11 1L8.5 8.5l.94-2.06 2.06-.94-2.06-.94L8.5 2.5l-.94 2.06-2.06.94zm10 10l.94 2.06.94-2.06 2.06-.94-2.06-.94-.94-2.06-.94 2.06-2.06.94z\"/><path d=\"M17.41 7.96l-1.37-1.37c-.4-.4-.92-.59-1.43-.59-.52 0-1.04.2-1.43.59L10.3 9.45l-7.72 7.72c-.78.78-.78 2.05 0 2.83L4 21.41c.39.39.9.59 1.41.59.51 0 1.02-.2 1.41-.59l7.78-7.78 2.81-2.81c.8-.78.8-2.07 0-2.86zM5.41 20L4 18.59l7.72-7.72 1.47 1.35L5.41 20z\"/>\n",
              "  </svg>\n",
              "      </button>\n",
              "      \n",
              "  <style>\n",
              "    .colab-df-container {\n",
              "      display:flex;\n",
              "      flex-wrap:wrap;\n",
              "      gap: 12px;\n",
              "    }\n",
              "\n",
              "    .colab-df-convert {\n",
              "      background-color: #E8F0FE;\n",
              "      border: none;\n",
              "      border-radius: 50%;\n",
              "      cursor: pointer;\n",
              "      display: none;\n",
              "      fill: #1967D2;\n",
              "      height: 32px;\n",
              "      padding: 0 0 0 0;\n",
              "      width: 32px;\n",
              "    }\n",
              "\n",
              "    .colab-df-convert:hover {\n",
              "      background-color: #E2EBFA;\n",
              "      box-shadow: 0px 1px 2px rgba(60, 64, 67, 0.3), 0px 1px 3px 1px rgba(60, 64, 67, 0.15);\n",
              "      fill: #174EA6;\n",
              "    }\n",
              "\n",
              "    [theme=dark] .colab-df-convert {\n",
              "      background-color: #3B4455;\n",
              "      fill: #D2E3FC;\n",
              "    }\n",
              "\n",
              "    [theme=dark] .colab-df-convert:hover {\n",
              "      background-color: #434B5C;\n",
              "      box-shadow: 0px 1px 3px 1px rgba(0, 0, 0, 0.15);\n",
              "      filter: drop-shadow(0px 1px 2px rgba(0, 0, 0, 0.3));\n",
              "      fill: #FFFFFF;\n",
              "    }\n",
              "  </style>\n",
              "\n",
              "      <script>\n",
              "        const buttonEl =\n",
              "          document.querySelector('#df-b0e50a28-d323-4db4-bce8-7a37462194c1 button.colab-df-convert');\n",
              "        buttonEl.style.display =\n",
              "          google.colab.kernel.accessAllowed ? 'block' : 'none';\n",
              "\n",
              "        async function convertToInteractive(key) {\n",
              "          const element = document.querySelector('#df-b0e50a28-d323-4db4-bce8-7a37462194c1');\n",
              "          const dataTable =\n",
              "            await google.colab.kernel.invokeFunction('convertToInteractive',\n",
              "                                                     [key], {});\n",
              "          if (!dataTable) return;\n",
              "\n",
              "          const docLinkHtml = 'Like what you see? Visit the ' +\n",
              "            '<a target=\"_blank\" href=https://colab.research.google.com/notebooks/data_table.ipynb>data table notebook</a>'\n",
              "            + ' to learn more about interactive tables.';\n",
              "          element.innerHTML = '';\n",
              "          dataTable['output_type'] = 'display_data';\n",
              "          await google.colab.output.renderOutput(dataTable, element);\n",
              "          const docLink = document.createElement('div');\n",
              "          docLink.innerHTML = docLinkHtml;\n",
              "          element.appendChild(docLink);\n",
              "        }\n",
              "      </script>\n",
              "    </div>\n",
              "  </div>\n",
              "  "
            ]
          },
          "metadata": {},
          "execution_count": 18
        }
      ],
      "source": [
        "s3=df2[df2['rating_operator']==3]\n",
        "s3.head()"
      ]
    },
    {
      "cell_type": "code",
      "execution_count": null,
      "metadata": {
        "id": "1c2NcOqe49JK",
        "colab": {
          "base_uri": "https://localhost:8080/"
        },
        "outputId": "a1b316c4-af7d-4d5b-c617-90cfba0aaaa9"
      },
      "outputs": [
        {
          "output_type": "execute_result",
          "data": {
            "text/plain": [
              "array([[<matplotlib.axes._subplots.AxesSubplot object at 0x7f09637d3490>]],\n",
              "      dtype=object)"
            ]
          },
          "metadata": {},
          "execution_count": 19
        },
        {
          "output_type": "display_data",
          "data": {
            "text/plain": [
              "<Figure size 432x288 with 1 Axes>"
            ],
            "image/png": "[encoded data removed]"
          },
          "metadata": {
            "needs_background": "light"
          }
        }
      ],
      "source": [
        "df2.hist()"
      ]
    },
    {
      "cell_type": "markdown",
      "metadata": {
        "id": "sVh7c3F-uZ52"
      },
      "source": [
        "# Data label organization"
      ]
    },
    {
      "cell_type": "code",
      "execution_count": null,
      "metadata": {
        "id": "2Hoibw3YFQVL",
        "colab": {
          "base_uri": "https://localhost:8080/"
        },
        "outputId": "c4ffbd3d-250a-4098-8815-aed48c118cec"
      },
      "outputs": [
        {
          "output_type": "stream",
          "name": "stdout",
          "text": [
            "['convex_1017_1047_1', 'convex_1017_1047_3', 'convex_1017_1047_5', 'convex_1017_1047_7', 'convex_1017_1047_8', 'convex_1017_1047_9', 'convex_1017_1047_10', 'convex_1017_1047_11', 'convex_1017_1047_12', 'convex_1017_1047_14', 'convex_1017_1048_1', 'convex_1017_1048_2', 'convex_1017_1048_3', 'convex_1017_1048_5', 'convex_1017_1048_6', 'convex_1017_1048_9', 'convex_1017_1048_10', 'convex_1017_1048_11', 'convex_1017_1048_13', 'convex_1045_1119_4', 'convex_1045_1119_7', 'convex_1045_1119_8', 'convex_1045_1119_9', 'convex_1045_1119_10', 'convex_1045_1119_11', 'convex_1045_1120_4', 'convex_1047_1122_1', 'convex_1047_1122_2', 'convex_1047_1122_3', 'convex_1047_1122_6', 'convex_1047_1122_7', 'convex_1047_1122_9', 'convex_1047_1122_12', 'convex_1048_1124_8', 'convex_1048_1124_10', 'convex_1048_1124_11', 'convex_1048_1124_14', 'convex_1048_1126_2', 'convex_1048_1126_3', 'convex_1048_1126_7', 'convex_1048_1126_10', 'convex_1050_1127_5', 'convex_1050_1127_7', 'convex_1050_1127_8', 'convex_1050_1127_10', 'convex_1050_1127_12', 'convex_1050_1127_14', 'convex_1051_1128_8', 'convex_1051_1128_9', 'convex_1051_1128_13', 'convex_1051_1128_14', 'convex_1052_1129_1', 'convex_1052_1129_2', 'convex_1052_1129_4', 'convex_1052_1129_7', 'convex_1052_1133_7', 'convex_1052_1133_8', 'convex_1052_1133_11', 'convex_1066_1151_3', 'convex_1066_1151_9', 'convex_1066_1151_10', 'convex_1067_1152_9', 'convex_1067_1152_11', 'convex_1067_1152_12', 'convex_1067_1153_2', 'convex_1067_1153_3', 'convex_1067_1153_5', 'convex_1067_1153_7', 'convex_1067_1153_8', 'convex_1067_1153_10', 'convex_1067_1153_11', 'convex_1067_1153_12', 'convex_1067_1153_13', 'convex_1067_1153_14', 'convex_1068_1155_3', 'convex_1068_1155_5', 'convex_1068_1155_7', 'convex_1068_1155_8', 'convex_1069_1156_3', 'convex_1069_1156_4', 'convex_1069_1156_5', 'convex_1069_1156_6', 'convex_1069_1156_7', 'convex_1069_1156_8', 'convex_1069_1156_9', 'convex_1069_1156_10', 'convex_1069_1156_11', 'convex_1069_1156_12', 'convex_1068_1157_1', 'convex_1068_1157_3', 'convex_1068_1157_4', 'convex_1068_1157_7', 'convex_1068_1157_9', 'convex_1068_1157_11', 'convex_1068_1157_12', 'convex_1068_1157_13', 'convex_1069_1158_3', 'convex_1069_1158_4', 'convex_1069_1158_5', 'convex_1069_1158_6', 'convex_1069_1158_8']\n"
          ]
        }
      ],
      "source": [
        "#these parameters are defined in the previous section\n",
        "score0 = s0.to_dict(orient = 'list')\n",
        "score1 = s1.to_dict(orient = 'list')\n",
        "score2 = s2.to_dict(orient = 'list')\n",
        "score3 = s3.to_dict(orient = 'list')\n",
        "\n",
        "video0=score0['video']\n",
        "video1=score1['video']\n",
        "video2=score2['video']\n",
        "video3=score3['video']\n",
        "total=video0+video1+video2+video3\n",
        "print(video2)"
      ]
    },
    {
      "cell_type": "code",
      "execution_count": null,
      "metadata": {
        "id": "98DrzylyH71C",
        "colab": {
          "base_uri": "https://localhost:8080/"
        },
        "outputId": "896b99e1-dc89-4e72-f532-fe7d9664e940"
      },
      "outputs": [
        {
          "output_type": "execute_result",
          "data": {
            "text/plain": [
              "\"score_folder('score0',video0,'train')\\nscore_folder('score1',video1,'train')\\nscore_folder('score2',video2,'train')\\nscore_folder('score3',video3,'train')\\n\\nscore_folder('score0',video0,'val')\\nscore_folder('score1',video1,'val')\\nscore_folder('score2',video2,'val')\\nscore_folder('score3',video3,'val')\\n\\nscore_folder('score0',video0,'test')\\nscore_folder('score1',video1,'test')\\nscore_folder('score2',video2,'test')\\nscore_folder('score3',video3,'test')\\n\\nprint('folders with no score',set(x) )\\n#print(count_files(path0)+count_files(path1)+count_files(path2)+count_files(path3))\""
            ],
            "application/vnd.google.colaboratory.intrinsic+json": {
              "type": "string"
            }
          },
          "metadata": {},
          "execution_count": 21
        }
      ],
      "source": [
        "\n",
        "def score_folder(List,s):\n",
        "  \n",
        "  root_dir = '/content/gdrive/MyDrive/Dataset/data/'\n",
        "  path0=root_dir+s+'/score0'\n",
        "  path1=root_dir+s+'/score1'\n",
        "  path2=root_dir+s+'/score2'\n",
        "  path3=root_dir+s+'/score3'\n",
        "  path=[path0,path1,path2,path3]\n",
        "  videos_path=root_dir+s\n",
        "  for i in path:\n",
        "    if not os.path.exists(i):\n",
        "          os.mkdir(i)\n",
        "  \n",
        "  files = [f for f in os.listdir(videos_path)]\n",
        "  print(files)\n",
        "  for v in files:\n",
        "    \n",
        "      #print(os.path.join(videos_path,v))\n",
        "      if os.path.isfile(os.path.join(videos_path,v)):\n",
        "        \n",
        "        \n",
        "        \n",
        "        if v.split('.')[0] in video0 :\n",
        "       \n",
        "\n",
        "            if not os.path.exists(os.path.join(path0, v)):\n",
        "             \n",
        "              #os.mkdir(path=os.path.join(path, v))\n",
        "              shutil.copy(os.path.join(videos_path,v), os.path.join(path0, v))\n",
        "\n",
        "        elif v.split('.')[0] in video1 :\n",
        "       \n",
        "\n",
        "            if not os.path.exists(os.path.join(path1, v)):\n",
        "              \n",
        "              #os.mkdir(path=os.path.join(path, v))\n",
        "              shutil.copy(os.path.join(videos_path,v), os.path.join(path1, v))\n",
        "\n",
        "        elif v.split('.')[0] in video2 :\n",
        "       \n",
        "\n",
        "            if not os.path.exists(os.path.join(path2, v)):\n",
        "             \n",
        "              #os.mkdir(path=os.path.join(path, v))\n",
        "              shutil.copy(os.path.join(videos_path,v), os.path.join(path2, v))\n",
        "   \n",
        "        elif v.split('.')[0] in video3 :\n",
        "       \n",
        "\n",
        "            if not os.path.exists(os.path.join(path3, v)):\n",
        "              \n",
        "              #os.mkdir(path=os.path.join(path, v))\n",
        "              shutil.copy(os.path.join(videos_path,v), os.path.join(path3, v))\n",
        "              #copy\n",
        "  \n",
        "  \n",
        "\n",
        "'''score_folder('score0',video0,'train')\n",
        "score_folder('score1',video1,'train')\n",
        "score_folder('score2',video2,'train')\n",
        "score_folder('score3',video3,'train')\n",
        "\n",
        "score_folder('score0',video0,'val')\n",
        "score_folder('score1',video1,'val')\n",
        "score_folder('score2',video2,'val')\n",
        "score_folder('score3',video3,'val')\n",
        "\n",
        "score_folder('score0',video0,'test')\n",
        "score_folder('score1',video1,'test')\n",
        "score_folder('score2',video2,'test')\n",
        "score_folder('score3',video3,'test')\n",
        "\n",
        "print('folders with no score',set(x) )\n",
        "#print(count_files(path0)+count_files(path1)+count_files(path2)+count_files(path3))'''"
      ]
    },
    {
      "cell_type": "code",
      "execution_count": null,
      "metadata": {
        "id": "vOr7pTkq-4mF",
        "colab": {
          "base_uri": "https://localhost:8080/"
        },
        "outputId": "80e702ce-9ec4-482f-b9d9-4d08d044290c"
      },
      "outputs": [
        {
          "output_type": "execute_result",
          "data": {
            "text/plain": [
              "\"frames_path='/content/gdrive/MyDrive/Dataset/frames score'\\nframes_files=[]\\nfiles = [os.path.join(frames_path,f) for f in os.listdir(frames_path)]\\nfor f in files:\\n  for v in os.listdir(f):\\n    if os.path.isfile(os.path.join(f,v)):\\n      file=os.path.join(f,v)\\n      frames_files.append(file)\\n    \\n\\nfor file in frames_files:\\n  matrix_max_min_frame_generator(file) \\n  print('next file__________________________________________________________________________')\""
            ],
            "application/vnd.google.colaboratory.intrinsic+json": {
              "type": "string"
            }
          },
          "metadata": {},
          "execution_count": 22
        }
      ],
      "source": [
        "\"\"\"frames_path='/content/gdrive/MyDrive/Dataset/frames score'\n",
        "frames_files=[]\n",
        "files = [os.path.join(frames_path,f) for f in os.listdir(frames_path)]\n",
        "for f in files:\n",
        "  for v in os.listdir(f):\n",
        "    if os.path.isfile(os.path.join(f,v)):\n",
        "      file=os.path.join(f,v)\n",
        "      frames_files.append(file)\n",
        "    \n",
        "\n",
        "for file in frames_files:\n",
        "  matrix_max_min_frame_generator(file) \n",
        "  print('next file__________________________________________________________________________')\"\"\""
      ]
    },
    {
      "cell_type": "markdown",
      "metadata": {
        "id": "jeEMnOJIgjzX"
      },
      "source": [
        "# Missing scores"
      ]
    },
    {
      "cell_type": "code",
      "execution_count": null,
      "metadata": {
        "id": "3ZlO_iY6ePWD"
      },
      "outputs": [],
      "source": [
        "videos_path='/content/gdrive/MyDrive/Dataset/frames'\n",
        "x=[]\n",
        "m=[]\n",
        "videos=[]\n",
        "\n",
        "for root, dirs, files in os.walk(videos_path, topdown=False):\n",
        "   for v in files:\n",
        "     videos.append(v.split('.')[0])\n",
        "     if v.split('.')[0] not in total :\n",
        "          x.append(v.split('.')[0])\n",
        "print('videos without label= ',x)     \n",
        "  \n",
        "for i in total:\n",
        "  if i not in videos:\n",
        "    m.append(i)\n",
        "\n",
        "print('labels without video=',m)   "
      ]
    },
    {
      "cell_type": "markdown",
      "metadata": {
        "id": "n1ti_iYiUj2L"
      },
      "source": [
        "# Data split"
      ]
    },
    {
      "cell_type": "markdown",
      "metadata": {
        "id": "GsJ6jRiKTriu"
      },
      "source": [
        "## K-fold\n"
      ]
    },
    {
      "cell_type": "code",
      "execution_count": null,
      "metadata": {
        "id": "yhpKA7tfJ-X9"
      },
      "outputs": [],
      "source": [
        "k=5\n",
        "df=pd.read_csv('/content/gdrive/MyDrive/Dataset/SanMatteo.csv')\n",
        "df=df[['patient_id','analysis_id','file_area_code','rating_operator']]\n",
        "\n",
        "TRAIN_SPLIT_PERC = 0.7  #0.7\n",
        "VALID_SPLIT_PERC = 0.21 #0.21\n",
        "folds=[]\n",
        "id=\"patient_id\"\n",
        "for i in range(k):\n",
        "    \n",
        "    uniques = df[id].unique()\n",
        "    random.shuffle(uniques)\n",
        "    step = int(len(uniques) * TRAIN_SPLIT_PERC)\n",
        "    step1=int(len(uniques) * (TRAIN_SPLIT_PERC+VALID_SPLIT_PERC))\n",
        "    df = df.sample(frac=1).reset_index(drop=True) #shuffling data\n",
        "    train_ids, valid_ids,test_ids = uniques[:step], uniques[step:step1],uniques[step1:]\n",
        "    \n",
        "\n",
        "\n",
        "   \n",
        "    fold=[list(train_ids),list(valid_ids),list(test_ids)]\n",
        "    \n",
        "    folds.append(fold)\n",
        "print(folds)\n",
        "\n",
        "print(folds[1])\n",
        "\n",
        "\n",
        "  "
      ]
    },
    {
      "cell_type": "code",
      "execution_count": null,
      "metadata": {
        "id": "gSpry2AVHMsw",
        "colab": {
          "base_uri": "https://localhost:8080/",
          "height": 235
        },
        "outputId": "fae26729-5e3d-4dda-bedf-b783d309816e"
      },
      "outputs": [
        {
          "output_type": "error",
          "ename": "NameError",
          "evalue": "ignored",
          "traceback": [
            "\u001b[0;31m---------------------------------------------------------------------------\u001b[0m",
            "\u001b[0;31mNameError\u001b[0m                                 Traceback (most recent call last)",
            "\u001b[0;32m<ipython-input-12-afa800702924>\u001b[0m in \u001b[0;36m<module>\u001b[0;34m\u001b[0m\n\u001b[0;32m----> 1\u001b[0;31m \u001b[0mtrain\u001b[0m \u001b[0;34m=\u001b[0m \u001b[0;34m[\u001b[0m\u001b[0mfolds\u001b[0m\u001b[0;34m[\u001b[0m\u001b[0mi\u001b[0m\u001b[0;34m]\u001b[0m\u001b[0;34m[\u001b[0m\u001b[0;36m0\u001b[0m\u001b[0;34m]\u001b[0m \u001b[0;32mfor\u001b[0m \u001b[0mi\u001b[0m \u001b[0;32min\u001b[0m \u001b[0mrange\u001b[0m\u001b[0;34m(\u001b[0m\u001b[0mlen\u001b[0m\u001b[0;34m(\u001b[0m\u001b[0mfolds\u001b[0m\u001b[0;34m)\u001b[0m\u001b[0;34m)\u001b[0m\u001b[0;34m]\u001b[0m\u001b[0;34m\u001b[0m\u001b[0;34m\u001b[0m\u001b[0m\n\u001b[0m\u001b[1;32m      2\u001b[0m \u001b[0mvalid\u001b[0m \u001b[0;34m=\u001b[0m \u001b[0;34m[\u001b[0m\u001b[0mfolds\u001b[0m\u001b[0;34m[\u001b[0m\u001b[0mi\u001b[0m\u001b[0;34m]\u001b[0m\u001b[0;34m[\u001b[0m\u001b[0;36m1\u001b[0m\u001b[0;34m]\u001b[0m \u001b[0;32mfor\u001b[0m \u001b[0mi\u001b[0m \u001b[0;32min\u001b[0m \u001b[0mrange\u001b[0m\u001b[0;34m(\u001b[0m\u001b[0mlen\u001b[0m\u001b[0;34m(\u001b[0m\u001b[0mfolds\u001b[0m\u001b[0;34m)\u001b[0m\u001b[0;34m)\u001b[0m\u001b[0;34m]\u001b[0m\u001b[0;34m\u001b[0m\u001b[0;34m\u001b[0m\u001b[0m\n\u001b[1;32m      3\u001b[0m \u001b[0mtest\u001b[0m \u001b[0;34m=\u001b[0m \u001b[0;34m[\u001b[0m\u001b[0mfolds\u001b[0m\u001b[0;34m[\u001b[0m\u001b[0mi\u001b[0m\u001b[0;34m]\u001b[0m\u001b[0;34m[\u001b[0m\u001b[0;36m2\u001b[0m\u001b[0;34m]\u001b[0m \u001b[0;32mfor\u001b[0m \u001b[0mi\u001b[0m \u001b[0;32min\u001b[0m \u001b[0mrange\u001b[0m\u001b[0;34m(\u001b[0m\u001b[0mlen\u001b[0m\u001b[0;34m(\u001b[0m\u001b[0mfolds\u001b[0m\u001b[0;34m)\u001b[0m\u001b[0;34m)\u001b[0m\u001b[0;34m]\u001b[0m\u001b[0;34m\u001b[0m\u001b[0;34m\u001b[0m\u001b[0m\n\u001b[1;32m      4\u001b[0m \u001b[0;34m\u001b[0m\u001b[0m\n\u001b[1;32m      5\u001b[0m \u001b[0;31m# dictionary of lists\u001b[0m\u001b[0;34m\u001b[0m\u001b[0;34m\u001b[0m\u001b[0;34m\u001b[0m\u001b[0m\n",
            "\u001b[0;31mNameError\u001b[0m: name 'folds' is not defined"
          ]
        }
      ],
      "source": [
        "train = [folds[i][0] for i in range(len(folds))] \n",
        "valid = [folds[i][1] for i in range(len(folds))] \n",
        "test = [folds[i][2] for i in range(len(folds))] \n",
        "     \n",
        "# dictionary of lists  \n",
        "dict = {'train': train, 'valid': valid, 'test': test}  \n",
        "       \n",
        "cv = pd.DataFrame(dict) \n",
        "    \n",
        "# saving the dataframe \n",
        "if not os.path.exists('/content/gdrive/MyDrive/Dataset/folds.csv'):\n",
        "  cv.to_csv('/content/gdrive/MyDrive/Dataset/folds.csv') "
      ]
    },
    {
      "cell_type": "code",
      "execution_count": null,
      "metadata": {
        "id": "gidfROs6JlB6"
      },
      "outputs": [],
      "source": [
        "'''df=pd.read_csv('/content/gdrive/MyDrive/Dataset/folds.csv')\n",
        "train=df['train']\n",
        "train_ids = train.to_list()\n",
        "score1 = s1.to_dict(orient = 'list')\n",
        "score2 = s2.to_dict(orient = 'list')\n",
        "score3 = s3.to_dict(orient = 'list')\n",
        "train_ids[0].split()'''"
      ]
    },
    {
      "cell_type": "code",
      "execution_count": null,
      "metadata": {
        "id": "jnbvey39uV2D",
        "colab": {
          "base_uri": "https://localhost:8080/"
        },
        "outputId": "8f6f2bcb-f04a-43e3-9181-9d84ce58c86a"
      },
      "outputs": [
        {
          "output_type": "stream",
          "name": "stderr",
          "text": [
            "/usr/local/lib/python3.7/dist-packages/ipykernel_launcher.py:15: SettingWithCopyWarning: \n",
            "A value is trying to be set on a copy of a slice from a DataFrame.\n",
            "Try using .loc[row_indexer,col_indexer] = value instead\n",
            "\n",
            "See the caveats in the documentation: https://pandas.pydata.org/pandas-docs/stable/user_guide/indexing.html#returning-a-view-versus-a-copy\n",
            "  from ipykernel import kernelapp as app\n"
          ]
        }
      ],
      "source": [
        "folds=[\n",
        "    [[1017, 1050, 1069, 1045, 1051, 1066, 1052],[1048, 1051, 1052],[1067]], [[1017, 1050, 1069, 1045, 1051, 1066, 1052],[1067, 1047, 1068],[1048]],\n",
        "\n",
        "    ]\n",
        "fold_num=1\n",
        "train_ids, valid_ids,test_ids = folds[fold_num][0],folds[fold_num][1],folds[fold_num][2]\n",
        "train_df,  valid_df ,test_df = df[df.patient_id.isin(train_ids)],df[df.patient_id.isin(valid_ids)], df[df.patient_id.isin(test_ids)]\n",
        "'''\n",
        "print(\"\\nTRAIN DATA\\n\", train_df.shape)\n",
        "print(\"\\nVALID DATA\\n\", valid_df.shape)\n",
        "print(\"\\nTEST DATA\\n\", test_df.shape)\n",
        "'''\n",
        "D=[train_df,valid_df,test_df]\n",
        "for d in D:\n",
        "  d['video'] ='convex_' +d['patient_id'].astype(str) + '_' + d['analysis_id'].astype(str)+ '_' + d['file_area_code'].astype(str)\n",
        "\n",
        "  d=d[['video','rating_operator']]\n",
        "  d=d.reset_index(drop=True)\n",
        "\n",
        "\n",
        "train = train_df.to_dict(orient = 'list')\n",
        "valid = valid_df.to_dict(orient = 'list')\n",
        "test = test_df.to_dict(orient = 'list')\n",
        "train=train['video']\n",
        "valid=valid['video']\n",
        "test=test['video']\n",
        "cv=pd.DataFrame(test) \n",
        "if not os.path.exists('/content/gdrive/MyDrive/Dataset/test.csv'):\n",
        "  cv.to_csv('/content/gdrive/MyDrive/Dataset/test.csv')\n"
      ]
    },
    {
      "cell_type": "markdown",
      "metadata": {
        "id": "Pyg_J9-dYbxV"
      },
      "source": [
        "## split the folders"
      ]
    },
    {
      "cell_type": "code",
      "execution_count": null,
      "metadata": {
        "id": "SWW8GziQwkew"
      },
      "outputs": [],
      "source": [
        "root_dir = '/content/gdrive/MyDrive/Dataset/data/'\n",
        "videos_path='/content/gdrive/MyDrive/Dataset/frames'\n",
        "l=['train','valid','test']\n",
        "L=[train,valid,test]\n",
        "j=0\n",
        "for i in l:\n",
        "  if not os.path.exists(os.path.join(root_dir, i)):\n",
        "            os.mkdir(path=os.path.join(root_dir, i))\n",
        "\n",
        "\n",
        "\n",
        "for List in L:\n",
        "  path=os.path.join(root_dir, l[j])\n",
        "  video_files=[]\n",
        "  files = [os.path.join(videos_path,f) for f in os.listdir(videos_path) ]\n",
        "  for f in files:\n",
        "    for v in os.listdir(f):\n",
        "      if os.path.isfile(os.path.join(f,v)):\n",
        "       video_file=os.path.join(f,v)\n",
        "       video_files.append(video_file)\n",
        "       \n",
        "        \n",
        "        \n",
        "      if v.split('.')[0] in List :\n",
        "       \n",
        "\n",
        "        if not os.path.exists(os.path.join(path, v)):\n",
        "            \n",
        "            #os.mkdir(path=os.path.join(path, v))\n",
        "            shutil.copy(video_file, os.path.join(path, v))\n",
        "  j+=1\n",
        "\n",
        "\n",
        "\n",
        "print(count_files('/content/gdrive/MyDrive/Dataset/data/train')+count_files('/content/gdrive/MyDrive/Dataset/data/valid')+count_files('/content/gdrive/MyDrive/Dataset/data/test'))"
      ]
    },
    {
      "cell_type": "markdown",
      "metadata": {
        "id": "HOEBvJeXYuKs"
      },
      "source": [
        "## organize the data by score"
      ]
    },
    {
      "cell_type": "code",
      "execution_count": null,
      "metadata": {
        "id": "tgHgWxoSNSkW"
      },
      "outputs": [],
      "source": [
        "score_folder(train,'train')\n",
        "score_folder(valid,'valid')\n",
        "score_folder(test,'test')\n"
      ]
    },
    {
      "cell_type": "markdown",
      "metadata": {
        "id": "rJGTcVzTTQGY"
      },
      "source": [
        "## test"
      ]
    },
    {
      "cell_type": "code",
      "execution_count": null,
      "metadata": {
        "id": "bxEeTYoyNzWN"
      },
      "outputs": [],
      "source": [
        "file_path1='/content/gdrive/MyDrive/Dataset/data/test/score0/convex_1048_1126_12.mat'\n",
        "file_path2='/content/gdrive/MyDrive/Dataset/data/test/score2/convex_1048_1124_10.mat'\n",
        "f1 = loadmat(file_path1)\n",
        "f2 = loadmat(file_path2)\n",
        "#f1= cv2.imread(file_path1)\n",
        "#f2= cv2.imread(file_path2)\n",
        "frames1=f1['frames']\n",
        "frames2=f2['frames']\n",
        "print(frames1.shape)\n",
        "print(frames2.shape)\n",
        "print(frames1.all()==frames2.all())\n",
        "Max1=np.max(frames1,axis=3)\n",
        "Max2=np.max(frames2,axis=3)\n",
        "#Min=np.min(frames1,axis=3)\n",
        "plt.imshow(Max1)\n",
        "print(Max1.size)\n",
        "plt.show()\n",
        "plt.imshow(Max2)\n",
        "print(Max2.shape)\n",
        "plt.show()\n",
        "\n",
        "#plt.imshow(Min)\n",
        "#print(Min.shape)\n",
        "#plt.show()\n",
        "\n",
        "'''m=np.concatenate((f1, f2), axis=2)\n",
        "plt.imshow(m)\n",
        "print(m.shape)\n",
        "plt.show()'''\n"
      ]
    },
    {
      "cell_type": "markdown",
      "metadata": {
        "id": "LhTDfec6Y9rx"
      },
      "source": [
        "## generate the min-max frame"
      ]
    },
    {
      "cell_type": "code",
      "execution_count": null,
      "metadata": {
        "colab": {
          "background_save": true
        },
        "id": "i9melguKX1-H"
      },
      "outputs": [],
      "source": [
        "train_path='/content/gdrive/MyDrive/Dataset/data/train'\n",
        "valid_path='/content/gdrive/MyDrive/Dataset/data/valid'\n",
        "test_path='/content/gdrive/MyDrive/Dataset/data/test'\n",
        "path=[train_path,valid_path,test_path]\n",
        "\n",
        "for p in path:\n",
        "  files = [os.path.join(p,f) for f in os.listdir(p) if not os.path.isfile(os.path.join(p,f))]\n",
        "  \n",
        "  for f in files:\n",
        "    for v in os.listdir(f):\n",
        "      if os.path.isfile(os.path.join(f,v)):\n",
        "        file=os.path.join(f,v)\n",
        "        \n",
        "        matrix_max_min_frame_generator(file) \n",
        "        print('_____________________________________________next file___________________________________________________________')\n",
        "    \n"
      ]
    },
    {
      "cell_type": "markdown",
      "metadata": {
        "id": "dwLEkh3s7CTY"
      },
      "source": [
        "### coupling the min and max images"
      ]
    },
    {
      "cell_type": "code",
      "execution_count": null,
      "metadata": {
        "id": "BUNX8Jz8Bm5Q"
      },
      "outputs": [],
      "source": [
        "def im_concat(image): \n",
        "    \n",
        "    filename=image[0].split('/')[-1]\n",
        "    filename=filename.split('-')[0]\n",
        "    \n",
        "    filename1, _ = os.path.splitext(image[0])\n",
        "    filename1=os.path.dirname(filename1)\n",
        "    filename1=os.path.dirname(filename1)\n",
        "    print(filename1)\n",
        "    img1 = cv2.imread(image[0])\n",
        "    img2 = cv2.imread(image[1])\n",
        "    im_h = cv2.hconcat([img1, img2])\n",
        "    #print(image)\n",
        "    # show the output image\n",
        "    print(os.path.join(filename1,f\"{filename}.jpg\"))\n",
        "    if not os.path.exists(os.path.join(filename1,f\"{filename}.jpg\")):\n",
        "      plt.imshow(im_h)\n",
        "      plt.show()\n",
        "      cv2.imwrite(os.path.join(filename1,f\"{filename}.jpg\"), im_h)\n",
        "      print(os.path.join(filename1,f\"{filename}.jpg\"))\n",
        "    \n",
        "#x=['/content/gdrive/MyDrive/Dataset/data/test/score3/convex_1066_1151_1-MAXMIN/convex_1066_1151_1-Max.jpg','/content/gdrive/MyDrive/Dataset/data/test/score3/convex_1066_1151_1-MAXMIN/convex_1066_1151_1-Min.jpg']\n",
        "#im_concat(x)"
      ]
    },
    {
      "cell_type": "code",
      "execution_count": null,
      "metadata": {
        "colab": {
          "background_save": true
        },
        "id": "XBhRso-e7BB4"
      },
      "outputs": [],
      "source": [
        "train_path='/content/gdrive/MyDrive/Dataset/data/train'\n",
        "valid_path='/content/gdrive/MyDrive/Dataset/data/valid'\n",
        "test_path='/content/gdrive/MyDrive/Dataset/data/test'\n",
        "path=[train_path,valid_path,test_path]\n",
        "for p in path:\n",
        "  files = [os.path.join(p,f) for f in os.listdir(p) if not os.path.isfile(os.path.join(p,f))]\n",
        "  \n",
        "  for f in files:\n",
        "    for v in os.listdir(f):\n",
        "      if not  os.path.isfile(os.path.join(f,v)):\n",
        "        file=os.path.join(f,v)\n",
        "        images=[]\n",
        "        if count_files(file)<1:\n",
        "          print('this folder is empty',file)\n",
        "        if count_files(file)>1:\n",
        "          for j in os.listdir(file):\n",
        "            img=os.path.join(file,j)\n",
        "          \n",
        "            images.append(img)\n",
        "        \n",
        "          im_concat(images)\n",
        "          images=images[:2]\n",
        "          for i in images:\n",
        "            os.remove(i)\n",
        "            print(i,' removed')\n",
        "        \n",
        "   "
      ]
    },
    {
      "cell_type": "code",
      "execution_count": null,
      "metadata": {
        "colab": {
          "background_save": true
        },
        "id": "OBQKlBIoGZ7X"
      },
      "outputs": [],
      "source": [
        "for p in path:\n",
        "  files = [os.path.join(p,f) for f in os.listdir(p) if not os.path.isfile(os.path.join(p,f))]\n",
        "  \n",
        "  for f in files:\n",
        "    for v in os.listdir(f):\n",
        "      if not  os.path.isfile(os.path.join(f,v)):\n",
        "        file=os.path.join(f,v)\n",
        "        images=[]\n",
        "        if count_files(file)<1:\n",
        "           print('this folder is empty',file)\n",
        "           shutil.rmtree(file)\n",
        "        if count_files(file)==1:\n",
        "           img=os.path.join(file,os.listdir(file)[0])\n",
        "           img_1=os.path.dirname(img)\n",
        "           rt=os.path.dirname(img_1)\n",
        "           shutil.move(img,rt)\n",
        "           shutil.rmtree(img_1)\n",
        "           print(img_1,'rmvd')\n"
      ]
    },
    {
      "cell_type": "markdown",
      "metadata": {
        "id": "l7lUNsnsgwdq"
      },
      "source": [
        "# other format dataset"
      ]
    },
    {
      "cell_type": "code",
      "execution_count": null,
      "metadata": {
        "id": "EQyWb9hpg3DX"
      },
      "outputs": [],
      "source": [
        "source_dir = r\"/content/gdrive/MyDrive/Dataset/data\"\n",
        "destination_dir = r\"/content/gdrive/MyDrive/Dataset/data2\"\n",
        "#create a copy of the dataset\n",
        "shutil.copytree(source_dir, destination_dir)"
      ]
    },
    {
      "cell_type": "code",
      "execution_count": null,
      "metadata": {
        "id": "02lLUilPFgOJ"
      },
      "outputs": [],
      "source": [
        "path1='/content/gdrive/MyDrive/Dataset/data1'\n",
        "for root, dirs, files in os.walk(path1, topdown=False):\n",
        "   for v in files:\n",
        "     if v.split('.')[1]=='mat':\n",
        "       p=os.path.join(root, v)\n",
        "       print(p,'removed')\n",
        "       os.remove(p)\n",
        "       \n",
        "\n",
        "path2='/content/gdrive/MyDrive/Dataset/data2'\n",
        "for root, dirs, files in os.walk(path2, topdown=False):\n",
        "   for v in files:\n",
        "     if v.split('.')[1]=='mat':\n",
        "       p=os.path.join(root, v)\n",
        "       print(p,'removed')\n",
        "       os.remove(p)\n",
        "       "
      ]
    },
    {
      "cell_type": "code",
      "execution_count": null,
      "metadata": {
        "id": "tqWilAo_I-6s"
      },
      "outputs": [],
      "source": [
        "train_path='/content/gdrive/MyDrive/Dataset/data1/train'\n",
        "valid_path='/content/gdrive/MyDrive/Dataset/data1/valid'\n",
        "test_path='/content/gdrive/MyDrive/Dataset/data1/test'\n",
        "path=[train_path,valid_path,test_path]\n",
        "\n",
        "for p in path:\n",
        "  files = [os.path.join(p,f) for f in os.listdir(p) if not os.path.isfile(os.path.join(p,f))]\n",
        "  \n",
        "  for f in files:\n",
        "    for v in os.listdir(f):\n",
        "      if os.path.isfile(os.path.join(f,v)):\n",
        "        file=os.path.join(f,v)\n",
        "        \n",
        "        matrix_max_min_frame_generator(file) \n",
        "        print('_____________________________________________next file___________________________________________________________')\n",
        "    "
      ]
    },
    {
      "cell_type": "code",
      "execution_count": null,
      "metadata": {
        "id": "s8t09qMsJXD2"
      },
      "outputs": [],
      "source": [
        "def im_concat_channels(image): \n",
        "    \n",
        "    filename=image[0].split('/')[-1]\n",
        "    filename=filename.split('-')[0]\n",
        "    \n",
        "    filename1, _ = os.path.splitext(image[0])\n",
        "    filename1=os.path.dirname(filename1)\n",
        "    filename1=os.path.dirname(filename1)\n",
        "    print(filename1)\n",
        "    img1 = cv2.imread(image[0])\n",
        "    img2 = cv2.imread(image[1])\n",
        "    \n",
        "    imc=np.concatenate((img1, img2), axis=2)\n",
        "    #print(image)\n",
        "    # show the output image\n",
        "    print(os.path.join(filename1,f\"{filename}.jpg\"))\n",
        "    if not os.path.exists(os.path.join(filename1,f\"{filename}.jpg\")):\n",
        "      #plt.imshow(imc)\n",
        "      #plt.show()\n",
        "      np.save(os.path.join(filename1,f\"{filename}.npy\"), imc)\n",
        "      print(os.path.join(filename1,f\"{filename}.npy\"))\n",
        "     \n",
        "\n"
      ]
    },
    {
      "cell_type": "code",
      "execution_count": null,
      "metadata": {
        "id": "nZuE24O2KcHV"
      },
      "outputs": [],
      "source": [
        "train_path='/content/gdrive/MyDrive/Dataset/data/train'\n",
        "valid_path='/content/gdrive/MyDrive/Dataset/data/valid'\n",
        "test_path='/content/gdrive/MyDrive/Dataset/data/test'\n",
        "path=[train_path,valid_path,test_path]\n",
        "for p in path:\n",
        "  files = [os.path.join(p,f) for f in os.listdir(p) if not os.path.isfile(os.path.join(p,f))]\n",
        "  \n",
        "  for f in files:\n",
        "    for v in os.listdir(f):\n",
        "      if not  os.path.isfile(os.path.join(f,v)):\n",
        "        file=os.path.join(f,v)\n",
        "        images=[]\n",
        "        if count_files(file)<1:\n",
        "          print('this folder is empty',file)\n",
        "        if count_files(file)>1:\n",
        "          for j in os.listdir(file):\n",
        "            img=os.path.join(file,j)\n",
        "          \n",
        "            images.append(img)\n",
        "        \n",
        "          im_concat_channels(images)\n",
        "          images=images[:2]\n",
        "          for i in images:\n",
        "            os.remove(i)\n",
        "            print(i,' removed')"
      ]
    },
    {
      "cell_type": "code",
      "execution_count": null,
      "metadata": {
        "id": "Cn4AdyP9PSZr"
      },
      "outputs": [],
      "source": [
        "for p in path:\n",
        "  files = [os.path.join(p,f) for f in os.listdir(p) if not os.path.isfile(os.path.join(p,f))]\n",
        "  \n",
        "  for f in files:\n",
        "    for v in os.listdir(f):\n",
        "      if not  os.path.isfile(os.path.join(f,v)):\n",
        "        file=os.path.join(f,v)\n",
        "        images=[]\n",
        "        if count_files(file)==1:\n",
        "           img=os.path.join(file,os.listdir(file)[0])\n",
        "           img_1=os.path.dirname(img)\n",
        "           rt=os.path.dirname(img_1)\n",
        "           shutil.move(img,rt)\n",
        "           shutil.rmtree(img_1)\n",
        "           print(img_1,'rmvd')\n",
        "        if count_files(file)<1:\n",
        "           print('this folder is empty',file)\n",
        "           shutil.rmtree(file)\n",
        "        "
      ]
    },
    {
      "cell_type": "markdown",
      "metadata": {
        "id": "sarsKR1Qesaz"
      },
      "source": [
        "# download the dataset\n",
        "\n"
      ]
    },
    {
      "cell_type": "code",
      "execution_count": null,
      "metadata": {
        "id": "zs3JwEvuexQu"
      },
      "outputs": [],
      "source": [
        "!zip -r '/content/gdrive/MyDrive/Dataset/data.zip' '/content/gdrive/MyDrive/Dataset/data'"
      ]
    }
  ],
  "metadata": {
    "colab": {
      "collapsed_sections": [
        "mPYKPiC_vj_c",
        "on6VfOzTu83F",
        "3FtkO9Reux6w",
        "I2owOzhPuQWX"
      ],
      "provenance": [],
      "authorship_tag": "ABX9TyMnUgsxkXLD6SM4/vI6mSLU",
      "include_colab_link": true
    },
    "gpuClass": "standard",
    "kernelspec": {
      "display_name": "Python 3",
      "name": "python3"
    },
    "language_info": {
      "name": "python"
    }
  },
  "nbformat": 4,
  "nbformat_minor": 0
}